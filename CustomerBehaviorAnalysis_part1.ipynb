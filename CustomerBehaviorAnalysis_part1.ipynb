{
  "cells": [
    {
      "cell_type": "markdown",
      "metadata": {
        "id": "view-in-github",
        "colab_type": "text"
      },
      "source": [
        "<a href=\"https://colab.research.google.com/github/manjushatr/CustomerBehaviorAnalysis/blob/main/CustomerBehaviorAnalysis_part1.ipynb\" target=\"_parent\"><img src=\"https://colab.research.google.com/assets/colab-badge.svg\" alt=\"Open In Colab\"/></a>"
      ]
    },
    {
      "cell_type": "code",
      "execution_count": null,
      "id": "b45f6c19",
      "metadata": {
        "id": "b45f6c19"
      },
      "outputs": [],
      "source": [
        "import pandas as pd\n",
        "import numpy as np\n",
        "import matplotlib.pyplot as py"
      ]
    },
    {
      "cell_type": "code",
      "execution_count": null,
      "id": "029e8807",
      "metadata": {
        "id": "029e8807"
      },
      "outputs": [],
      "source": [
        "basketdf = pd.read_csv('customer_supermarket.csv', sep='\\t', index_col=0, decimal=',')"
      ]
    },
    {
      "cell_type": "code",
      "execution_count": null,
      "id": "8e8085c9",
      "metadata": {
        "colab": {
          "base_uri": "https://localhost:8080/",
          "height": 363
        },
        "id": "8e8085c9",
        "outputId": "360cdf46-5294-4d18-be33-2d077e9d79df"
      },
      "outputs": [
        {
          "output_type": "execute_result",
          "data": {
            "text/plain": [
              "  BasketID      BasketDate  Sale CustomerID CustomerCountry  ProdID  \\\n",
              "0   536365  01/12/10 08:26  2.55    17850.0  United Kingdom  85123A   \n",
              "1   536365  01/12/10 08:26  3.39    17850.0  United Kingdom   71053   \n",
              "2   536365  01/12/10 08:26  2.75    17850.0  United Kingdom  84406B   \n",
              "3   536365  01/12/10 08:26  3.39    17850.0  United Kingdom  84029G   \n",
              "4   536365  01/12/10 08:26  3.39    17850.0  United Kingdom  84029E   \n",
              "5   536365  01/12/10 08:26  7.65    17850.0  United Kingdom   22752   \n",
              "6   536365  01/12/10 08:26  4.25    17850.0  United Kingdom   21730   \n",
              "7   536366  01/12/10 08:28  1.85    17850.0  United Kingdom   22633   \n",
              "8   536366  01/12/10 08:28  1.85    17850.0  United Kingdom   22632   \n",
              "9   536368  01/12/10 08:34  4.25    13047.0  United Kingdom   22960   \n",
              "\n",
              "                             ProdDescr  Qta  \n",
              "0   WHITE HANGING HEART T-LIGHT HOLDER  6.0  \n",
              "1                  WHITE METAL LANTERN  6.0  \n",
              "2       CREAM CUPID HEARTS COAT HANGER  8.0  \n",
              "3  KNITTED UNION FLAG HOT WATER BOTTLE  6.0  \n",
              "4       RED WOOLLY HOTTIE WHITE HEART.  6.0  \n",
              "5         SET 7 BABUSHKA NESTING BOXES  2.0  \n",
              "6    GLASS STAR FROSTED T-LIGHT HOLDER  6.0  \n",
              "7               HAND WARMER UNION JACK  6.0  \n",
              "8            HAND WARMER RED POLKA DOT  6.0  \n",
              "9             JAM MAKING SET WITH JARS  6.0  "
            ],
            "text/html": [
              "\n",
              "  <div id=\"df-06f11a68-8756-4ee2-b210-64df122921c6\">\n",
              "    <div class=\"colab-df-container\">\n",
              "      <div>\n",
              "<style scoped>\n",
              "    .dataframe tbody tr th:only-of-type {\n",
              "        vertical-align: middle;\n",
              "    }\n",
              "\n",
              "    .dataframe tbody tr th {\n",
              "        vertical-align: top;\n",
              "    }\n",
              "\n",
              "    .dataframe thead th {\n",
              "        text-align: right;\n",
              "    }\n",
              "</style>\n",
              "<table border=\"1\" class=\"dataframe\">\n",
              "  <thead>\n",
              "    <tr style=\"text-align: right;\">\n",
              "      <th></th>\n",
              "      <th>BasketID</th>\n",
              "      <th>BasketDate</th>\n",
              "      <th>Sale</th>\n",
              "      <th>CustomerID</th>\n",
              "      <th>CustomerCountry</th>\n",
              "      <th>ProdID</th>\n",
              "      <th>ProdDescr</th>\n",
              "      <th>Qta</th>\n",
              "    </tr>\n",
              "  </thead>\n",
              "  <tbody>\n",
              "    <tr>\n",
              "      <th>0</th>\n",
              "      <td>536365</td>\n",
              "      <td>01/12/10 08:26</td>\n",
              "      <td>2.55</td>\n",
              "      <td>17850.0</td>\n",
              "      <td>United Kingdom</td>\n",
              "      <td>85123A</td>\n",
              "      <td>WHITE HANGING HEART T-LIGHT HOLDER</td>\n",
              "      <td>6.0</td>\n",
              "    </tr>\n",
              "    <tr>\n",
              "      <th>1</th>\n",
              "      <td>536365</td>\n",
              "      <td>01/12/10 08:26</td>\n",
              "      <td>3.39</td>\n",
              "      <td>17850.0</td>\n",
              "      <td>United Kingdom</td>\n",
              "      <td>71053</td>\n",
              "      <td>WHITE METAL LANTERN</td>\n",
              "      <td>6.0</td>\n",
              "    </tr>\n",
              "    <tr>\n",
              "      <th>2</th>\n",
              "      <td>536365</td>\n",
              "      <td>01/12/10 08:26</td>\n",
              "      <td>2.75</td>\n",
              "      <td>17850.0</td>\n",
              "      <td>United Kingdom</td>\n",
              "      <td>84406B</td>\n",
              "      <td>CREAM CUPID HEARTS COAT HANGER</td>\n",
              "      <td>8.0</td>\n",
              "    </tr>\n",
              "    <tr>\n",
              "      <th>3</th>\n",
              "      <td>536365</td>\n",
              "      <td>01/12/10 08:26</td>\n",
              "      <td>3.39</td>\n",
              "      <td>17850.0</td>\n",
              "      <td>United Kingdom</td>\n",
              "      <td>84029G</td>\n",
              "      <td>KNITTED UNION FLAG HOT WATER BOTTLE</td>\n",
              "      <td>6.0</td>\n",
              "    </tr>\n",
              "    <tr>\n",
              "      <th>4</th>\n",
              "      <td>536365</td>\n",
              "      <td>01/12/10 08:26</td>\n",
              "      <td>3.39</td>\n",
              "      <td>17850.0</td>\n",
              "      <td>United Kingdom</td>\n",
              "      <td>84029E</td>\n",
              "      <td>RED WOOLLY HOTTIE WHITE HEART.</td>\n",
              "      <td>6.0</td>\n",
              "    </tr>\n",
              "    <tr>\n",
              "      <th>5</th>\n",
              "      <td>536365</td>\n",
              "      <td>01/12/10 08:26</td>\n",
              "      <td>7.65</td>\n",
              "      <td>17850.0</td>\n",
              "      <td>United Kingdom</td>\n",
              "      <td>22752</td>\n",
              "      <td>SET 7 BABUSHKA NESTING BOXES</td>\n",
              "      <td>2.0</td>\n",
              "    </tr>\n",
              "    <tr>\n",
              "      <th>6</th>\n",
              "      <td>536365</td>\n",
              "      <td>01/12/10 08:26</td>\n",
              "      <td>4.25</td>\n",
              "      <td>17850.0</td>\n",
              "      <td>United Kingdom</td>\n",
              "      <td>21730</td>\n",
              "      <td>GLASS STAR FROSTED T-LIGHT HOLDER</td>\n",
              "      <td>6.0</td>\n",
              "    </tr>\n",
              "    <tr>\n",
              "      <th>7</th>\n",
              "      <td>536366</td>\n",
              "      <td>01/12/10 08:28</td>\n",
              "      <td>1.85</td>\n",
              "      <td>17850.0</td>\n",
              "      <td>United Kingdom</td>\n",
              "      <td>22633</td>\n",
              "      <td>HAND WARMER UNION JACK</td>\n",
              "      <td>6.0</td>\n",
              "    </tr>\n",
              "    <tr>\n",
              "      <th>8</th>\n",
              "      <td>536366</td>\n",
              "      <td>01/12/10 08:28</td>\n",
              "      <td>1.85</td>\n",
              "      <td>17850.0</td>\n",
              "      <td>United Kingdom</td>\n",
              "      <td>22632</td>\n",
              "      <td>HAND WARMER RED POLKA DOT</td>\n",
              "      <td>6.0</td>\n",
              "    </tr>\n",
              "    <tr>\n",
              "      <th>9</th>\n",
              "      <td>536368</td>\n",
              "      <td>01/12/10 08:34</td>\n",
              "      <td>4.25</td>\n",
              "      <td>13047.0</td>\n",
              "      <td>United Kingdom</td>\n",
              "      <td>22960</td>\n",
              "      <td>JAM MAKING SET WITH JARS</td>\n",
              "      <td>6.0</td>\n",
              "    </tr>\n",
              "  </tbody>\n",
              "</table>\n",
              "</div>\n",
              "      <button class=\"colab-df-convert\" onclick=\"convertToInteractive('df-06f11a68-8756-4ee2-b210-64df122921c6')\"\n",
              "              title=\"Convert this dataframe to an interactive table.\"\n",
              "              style=\"display:none;\">\n",
              "        \n",
              "  <svg xmlns=\"http://www.w3.org/2000/svg\" height=\"24px\"viewBox=\"0 0 24 24\"\n",
              "       width=\"24px\">\n",
              "    <path d=\"M0 0h24v24H0V0z\" fill=\"none\"/>\n",
              "    <path d=\"M18.56 5.44l.94 2.06.94-2.06 2.06-.94-2.06-.94-.94-2.06-.94 2.06-2.06.94zm-11 1L8.5 8.5l.94-2.06 2.06-.94-2.06-.94L8.5 2.5l-.94 2.06-2.06.94zm10 10l.94 2.06.94-2.06 2.06-.94-2.06-.94-.94-2.06-.94 2.06-2.06.94z\"/><path d=\"M17.41 7.96l-1.37-1.37c-.4-.4-.92-.59-1.43-.59-.52 0-1.04.2-1.43.59L10.3 9.45l-7.72 7.72c-.78.78-.78 2.05 0 2.83L4 21.41c.39.39.9.59 1.41.59.51 0 1.02-.2 1.41-.59l7.78-7.78 2.81-2.81c.8-.78.8-2.07 0-2.86zM5.41 20L4 18.59l7.72-7.72 1.47 1.35L5.41 20z\"/>\n",
              "  </svg>\n",
              "      </button>\n",
              "      \n",
              "  <style>\n",
              "    .colab-df-container {\n",
              "      display:flex;\n",
              "      flex-wrap:wrap;\n",
              "      gap: 12px;\n",
              "    }\n",
              "\n",
              "    .colab-df-convert {\n",
              "      background-color: #E8F0FE;\n",
              "      border: none;\n",
              "      border-radius: 50%;\n",
              "      cursor: pointer;\n",
              "      display: none;\n",
              "      fill: #1967D2;\n",
              "      height: 32px;\n",
              "      padding: 0 0 0 0;\n",
              "      width: 32px;\n",
              "    }\n",
              "\n",
              "    .colab-df-convert:hover {\n",
              "      background-color: #E2EBFA;\n",
              "      box-shadow: 0px 1px 2px rgba(60, 64, 67, 0.3), 0px 1px 3px 1px rgba(60, 64, 67, 0.15);\n",
              "      fill: #174EA6;\n",
              "    }\n",
              "\n",
              "    [theme=dark] .colab-df-convert {\n",
              "      background-color: #3B4455;\n",
              "      fill: #D2E3FC;\n",
              "    }\n",
              "\n",
              "    [theme=dark] .colab-df-convert:hover {\n",
              "      background-color: #434B5C;\n",
              "      box-shadow: 0px 1px 3px 1px rgba(0, 0, 0, 0.15);\n",
              "      filter: drop-shadow(0px 1px 2px rgba(0, 0, 0, 0.3));\n",
              "      fill: #FFFFFF;\n",
              "    }\n",
              "  </style>\n",
              "\n",
              "      <script>\n",
              "        const buttonEl =\n",
              "          document.querySelector('#df-06f11a68-8756-4ee2-b210-64df122921c6 button.colab-df-convert');\n",
              "        buttonEl.style.display =\n",
              "          google.colab.kernel.accessAllowed ? 'block' : 'none';\n",
              "\n",
              "        async function convertToInteractive(key) {\n",
              "          const element = document.querySelector('#df-06f11a68-8756-4ee2-b210-64df122921c6');\n",
              "          const dataTable =\n",
              "            await google.colab.kernel.invokeFunction('convertToInteractive',\n",
              "                                                     [key], {});\n",
              "          if (!dataTable) return;\n",
              "\n",
              "          const docLinkHtml = 'Like what you see? Visit the ' +\n",
              "            '<a target=\"_blank\" href=https://colab.research.google.com/notebooks/data_table.ipynb>data table notebook</a>'\n",
              "            + ' to learn more about interactive tables.';\n",
              "          element.innerHTML = '';\n",
              "          dataTable['output_type'] = 'display_data';\n",
              "          await google.colab.output.renderOutput(dataTable, element);\n",
              "          const docLink = document.createElement('div');\n",
              "          docLink.innerHTML = docLinkHtml;\n",
              "          element.appendChild(docLink);\n",
              "        }\n",
              "      </script>\n",
              "    </div>\n",
              "  </div>\n",
              "  "
            ]
          },
          "metadata": {},
          "execution_count": 5
        }
      ],
      "source": [
        "basketdf.head(10)"
      ]
    },
    {
      "cell_type": "code",
      "execution_count": null,
      "id": "d3609a93",
      "metadata": {
        "colab": {
          "base_uri": "https://localhost:8080/"
        },
        "id": "d3609a93",
        "outputId": "7f394d05-9ffc-4ac6-8c67-159f0a2a5c4c"
      },
      "outputs": [
        {
          "output_type": "stream",
          "name": "stdout",
          "text": [
            "<class 'pandas.core.frame.DataFrame'>\n",
            "Int64Index: 11708 entries, 0 to 13777\n",
            "Data columns (total 8 columns):\n",
            " #   Column           Non-Null Count  Dtype  \n",
            "---  ------           --------------  -----  \n",
            " 0   BasketID         11708 non-null  object \n",
            " 1   BasketDate       11707 non-null  object \n",
            " 2   Sale             11707 non-null  float64\n",
            " 3   CustomerID       9756 non-null   object \n",
            " 4   CustomerCountry  11707 non-null  object \n",
            " 5   ProdID           11707 non-null  object \n",
            " 6   ProdDescr        11678 non-null  object \n",
            " 7   Qta              11707 non-null  float64\n",
            "dtypes: float64(2), object(6)\n",
            "memory usage: 823.2+ KB\n"
          ]
        }
      ],
      "source": [
        "basketdf.info()"
      ]
    },
    {
      "cell_type": "code",
      "execution_count": null,
      "id": "89eb9a1e",
      "metadata": {
        "colab": {
          "base_uri": "https://localhost:8080/"
        },
        "id": "89eb9a1e",
        "outputId": "4bcb98e4-c1df-4447-9452-78286f9c0f3c"
      },
      "outputs": [
        {
          "output_type": "execute_result",
          "data": {
            "text/plain": [
              "(11708, 8)"
            ]
          },
          "metadata": {},
          "execution_count": 7
        }
      ],
      "source": [
        "basketdf.shape"
      ]
    },
    {
      "cell_type": "markdown",
      "id": "25a59425",
      "metadata": {
        "id": "25a59425"
      },
      "source": [
        "There are object and numeric datas in the dataset. To analyse the customers on amount spend in transactions an amount column is to be added. The basket date is to be converted to date time format, since it is object type "
      ]
    },
    {
      "cell_type": "code",
      "execution_count": null,
      "id": "d15e1f1f",
      "metadata": {
        "id": "d15e1f1f"
      },
      "outputs": [],
      "source": [
        "# convert dates in a suitable format\n",
        "basketdf['BasketDate'] = pd.to_datetime(basketdf['BasketDate'], dayfirst=True)"
      ]
    },
    {
      "cell_type": "code",
      "execution_count": null,
      "id": "f7c6117f",
      "metadata": {
        "id": "f7c6117f"
      },
      "outputs": [],
      "source": [
        "# add 'Amount' attribute, useful for some additional features on customer's purchase behaviour\n",
        "basketdf['Amount'] = basketdf['Sale'] * basketdf['Qta']"
      ]
    },
    {
      "cell_type": "code",
      "execution_count": null,
      "id": "d46af1ce",
      "metadata": {
        "colab": {
          "base_uri": "https://localhost:8080/"
        },
        "id": "d46af1ce",
        "outputId": "6b12bbcf-02d3-45e6-ef23-56e4824e77fd"
      },
      "outputs": [
        {
          "output_type": "stream",
          "name": "stdout",
          "text": [
            "<class 'pandas.core.frame.DataFrame'>\n",
            "Int64Index: 11708 entries, 0 to 13777\n",
            "Data columns (total 9 columns):\n",
            " #   Column           Non-Null Count  Dtype         \n",
            "---  ------           --------------  -----         \n",
            " 0   BasketID         11708 non-null  object        \n",
            " 1   BasketDate       11707 non-null  datetime64[ns]\n",
            " 2   Sale             11707 non-null  float64       \n",
            " 3   CustomerID       9756 non-null   object        \n",
            " 4   CustomerCountry  11707 non-null  object        \n",
            " 5   ProdID           11707 non-null  object        \n",
            " 6   ProdDescr        11678 non-null  object        \n",
            " 7   Qta              11707 non-null  float64       \n",
            " 8   Amount           11707 non-null  float64       \n",
            "dtypes: datetime64[ns](1), float64(3), object(5)\n",
            "memory usage: 914.7+ KB\n"
          ]
        }
      ],
      "source": [
        "basketdf.info()"
      ]
    },
    {
      "cell_type": "code",
      "execution_count": null,
      "id": "ff4e1c48",
      "metadata": {
        "colab": {
          "base_uri": "https://localhost:8080/"
        },
        "id": "ff4e1c48",
        "outputId": "d5e2d684-54be-48d2-9cd8-4ed386ee86a1"
      },
      "outputs": [
        {
          "output_type": "execute_result",
          "data": {
            "text/plain": [
              "(11708, 9)"
            ]
          },
          "metadata": {},
          "execution_count": 11
        }
      ],
      "source": [
        "basketdf.shape"
      ]
    },
    {
      "cell_type": "code",
      "execution_count": null,
      "id": "68db5434",
      "metadata": {
        "colab": {
          "base_uri": "https://localhost:8080/"
        },
        "id": "68db5434",
        "outputId": "65295f4c-b456-44cb-b457-74dea983a98a"
      },
      "outputs": [
        {
          "output_type": "execute_result",
          "data": {
            "text/plain": [
              "BasketID              0\n",
              "BasketDate            1\n",
              "Sale                  1\n",
              "CustomerID         1952\n",
              "CustomerCountry       1\n",
              "ProdID                1\n",
              "ProdDescr            30\n",
              "Qta                   1\n",
              "Amount                1\n",
              "dtype: int64"
            ]
          },
          "metadata": {},
          "execution_count": 12
        }
      ],
      "source": [
        "basketdf.isnull().sum()"
      ]
    },
    {
      "cell_type": "markdown",
      "id": "9e246550",
      "metadata": {
        "id": "9e246550"
      },
      "source": [
        "ProdDescr and CustomerId columns have null values. The prodDescr is included in the customerId. Counting all the rows where both attributes are null"
      ]
    },
    {
      "cell_type": "code",
      "execution_count": null,
      "id": "621ab9d5",
      "metadata": {
        "colab": {
          "base_uri": "https://localhost:8080/"
        },
        "id": "621ab9d5",
        "outputId": "f3ab399c-ba24-4e3b-8669-abefa4aca5cb"
      },
      "outputs": [
        {
          "output_type": "execute_result",
          "data": {
            "text/plain": [
              "BasketID           30\n",
              "BasketDate         29\n",
              "Sale               29\n",
              "CustomerID          0\n",
              "CustomerCountry    29\n",
              "ProdID             29\n",
              "ProdDescr           0\n",
              "Qta                29\n",
              "Amount             29\n",
              "dtype: int64"
            ]
          },
          "metadata": {},
          "execution_count": 13
        }
      ],
      "source": [
        "basketdf[basketdf['CustomerID'].isnull() & basketdf['ProdDescr'].isnull()].count()"
      ]
    },
    {
      "cell_type": "code",
      "execution_count": null,
      "id": "66305c98",
      "metadata": {
        "colab": {
          "base_uri": "https://localhost:8080/",
          "height": 143
        },
        "id": "66305c98",
        "outputId": "a396dd07-ba80-4238-f73a-6ffed75542e3"
      },
      "outputs": [
        {
          "output_type": "execute_result",
          "data": {
            "text/plain": [
              "          count       mean        std     min   25%   50%    75%      max\n",
              "Sale    11707.0   3.533582  11.266180     0.0  1.25  2.10   4.21   887.52\n",
              "Qta     11707.0   7.982404  96.846268 -9360.0  1.00  3.00   8.00  2880.00\n",
              "Amount  11707.0  17.190629  53.075429  -403.2  3.30  8.25  17.00  1627.20"
            ],
            "text/html": [
              "\n",
              "  <div id=\"df-667e2ddf-bbef-4f2a-8f13-7d369e10fad2\">\n",
              "    <div class=\"colab-df-container\">\n",
              "      <div>\n",
              "<style scoped>\n",
              "    .dataframe tbody tr th:only-of-type {\n",
              "        vertical-align: middle;\n",
              "    }\n",
              "\n",
              "    .dataframe tbody tr th {\n",
              "        vertical-align: top;\n",
              "    }\n",
              "\n",
              "    .dataframe thead th {\n",
              "        text-align: right;\n",
              "    }\n",
              "</style>\n",
              "<table border=\"1\" class=\"dataframe\">\n",
              "  <thead>\n",
              "    <tr style=\"text-align: right;\">\n",
              "      <th></th>\n",
              "      <th>count</th>\n",
              "      <th>mean</th>\n",
              "      <th>std</th>\n",
              "      <th>min</th>\n",
              "      <th>25%</th>\n",
              "      <th>50%</th>\n",
              "      <th>75%</th>\n",
              "      <th>max</th>\n",
              "    </tr>\n",
              "  </thead>\n",
              "  <tbody>\n",
              "    <tr>\n",
              "      <th>Sale</th>\n",
              "      <td>11707.0</td>\n",
              "      <td>3.533582</td>\n",
              "      <td>11.266180</td>\n",
              "      <td>0.0</td>\n",
              "      <td>1.25</td>\n",
              "      <td>2.10</td>\n",
              "      <td>4.21</td>\n",
              "      <td>887.52</td>\n",
              "    </tr>\n",
              "    <tr>\n",
              "      <th>Qta</th>\n",
              "      <td>11707.0</td>\n",
              "      <td>7.982404</td>\n",
              "      <td>96.846268</td>\n",
              "      <td>-9360.0</td>\n",
              "      <td>1.00</td>\n",
              "      <td>3.00</td>\n",
              "      <td>8.00</td>\n",
              "      <td>2880.00</td>\n",
              "    </tr>\n",
              "    <tr>\n",
              "      <th>Amount</th>\n",
              "      <td>11707.0</td>\n",
              "      <td>17.190629</td>\n",
              "      <td>53.075429</td>\n",
              "      <td>-403.2</td>\n",
              "      <td>3.30</td>\n",
              "      <td>8.25</td>\n",
              "      <td>17.00</td>\n",
              "      <td>1627.20</td>\n",
              "    </tr>\n",
              "  </tbody>\n",
              "</table>\n",
              "</div>\n",
              "      <button class=\"colab-df-convert\" onclick=\"convertToInteractive('df-667e2ddf-bbef-4f2a-8f13-7d369e10fad2')\"\n",
              "              title=\"Convert this dataframe to an interactive table.\"\n",
              "              style=\"display:none;\">\n",
              "        \n",
              "  <svg xmlns=\"http://www.w3.org/2000/svg\" height=\"24px\"viewBox=\"0 0 24 24\"\n",
              "       width=\"24px\">\n",
              "    <path d=\"M0 0h24v24H0V0z\" fill=\"none\"/>\n",
              "    <path d=\"M18.56 5.44l.94 2.06.94-2.06 2.06-.94-2.06-.94-.94-2.06-.94 2.06-2.06.94zm-11 1L8.5 8.5l.94-2.06 2.06-.94-2.06-.94L8.5 2.5l-.94 2.06-2.06.94zm10 10l.94 2.06.94-2.06 2.06-.94-2.06-.94-.94-2.06-.94 2.06-2.06.94z\"/><path d=\"M17.41 7.96l-1.37-1.37c-.4-.4-.92-.59-1.43-.59-.52 0-1.04.2-1.43.59L10.3 9.45l-7.72 7.72c-.78.78-.78 2.05 0 2.83L4 21.41c.39.39.9.59 1.41.59.51 0 1.02-.2 1.41-.59l7.78-7.78 2.81-2.81c.8-.78.8-2.07 0-2.86zM5.41 20L4 18.59l7.72-7.72 1.47 1.35L5.41 20z\"/>\n",
              "  </svg>\n",
              "      </button>\n",
              "      \n",
              "  <style>\n",
              "    .colab-df-container {\n",
              "      display:flex;\n",
              "      flex-wrap:wrap;\n",
              "      gap: 12px;\n",
              "    }\n",
              "\n",
              "    .colab-df-convert {\n",
              "      background-color: #E8F0FE;\n",
              "      border: none;\n",
              "      border-radius: 50%;\n",
              "      cursor: pointer;\n",
              "      display: none;\n",
              "      fill: #1967D2;\n",
              "      height: 32px;\n",
              "      padding: 0 0 0 0;\n",
              "      width: 32px;\n",
              "    }\n",
              "\n",
              "    .colab-df-convert:hover {\n",
              "      background-color: #E2EBFA;\n",
              "      box-shadow: 0px 1px 2px rgba(60, 64, 67, 0.3), 0px 1px 3px 1px rgba(60, 64, 67, 0.15);\n",
              "      fill: #174EA6;\n",
              "    }\n",
              "\n",
              "    [theme=dark] .colab-df-convert {\n",
              "      background-color: #3B4455;\n",
              "      fill: #D2E3FC;\n",
              "    }\n",
              "\n",
              "    [theme=dark] .colab-df-convert:hover {\n",
              "      background-color: #434B5C;\n",
              "      box-shadow: 0px 1px 3px 1px rgba(0, 0, 0, 0.15);\n",
              "      filter: drop-shadow(0px 1px 2px rgba(0, 0, 0, 0.3));\n",
              "      fill: #FFFFFF;\n",
              "    }\n",
              "  </style>\n",
              "\n",
              "      <script>\n",
              "        const buttonEl =\n",
              "          document.querySelector('#df-667e2ddf-bbef-4f2a-8f13-7d369e10fad2 button.colab-df-convert');\n",
              "        buttonEl.style.display =\n",
              "          google.colab.kernel.accessAllowed ? 'block' : 'none';\n",
              "\n",
              "        async function convertToInteractive(key) {\n",
              "          const element = document.querySelector('#df-667e2ddf-bbef-4f2a-8f13-7d369e10fad2');\n",
              "          const dataTable =\n",
              "            await google.colab.kernel.invokeFunction('convertToInteractive',\n",
              "                                                     [key], {});\n",
              "          if (!dataTable) return;\n",
              "\n",
              "          const docLinkHtml = 'Like what you see? Visit the ' +\n",
              "            '<a target=\"_blank\" href=https://colab.research.google.com/notebooks/data_table.ipynb>data table notebook</a>'\n",
              "            + ' to learn more about interactive tables.';\n",
              "          element.innerHTML = '';\n",
              "          dataTable['output_type'] = 'display_data';\n",
              "          await google.colab.output.renderOutput(dataTable, element);\n",
              "          const docLink = document.createElement('div');\n",
              "          docLink.innerHTML = docLinkHtml;\n",
              "          element.appendChild(docLink);\n",
              "        }\n",
              "      </script>\n",
              "    </div>\n",
              "  </div>\n",
              "  "
            ]
          },
          "metadata": {},
          "execution_count": 14
        }
      ],
      "source": [
        "basketdf.describe().T"
      ]
    },
    {
      "cell_type": "markdown",
      "id": "4b4ac751",
      "metadata": {
        "id": "4b4ac751"
      },
      "source": [
        "There are negative values in sale, qta and hence amount. Hence analysing each feature"
      ]
    },
    {
      "cell_type": "code",
      "execution_count": null,
      "id": "de3bce51",
      "metadata": {
        "colab": {
          "base_uri": "https://localhost:8080/"
        },
        "id": "de3bce51",
        "outputId": "27e09d23-8d4f-47a9-8e30-e02ec857bd8e"
      },
      "outputs": [
        {
          "output_type": "execute_result",
          "data": {
            "text/plain": [
              "count    612.000000\n",
              "mean      19.130719\n",
              "std       32.703337\n",
              "min        1.000000\n",
              "25%        2.000000\n",
              "50%       10.000000\n",
              "75%       22.000000\n",
              "max      296.000000\n",
              "Name: BasketID, dtype: float64"
            ]
          },
          "metadata": {},
          "execution_count": 15
        }
      ],
      "source": [
        "#BasketID\n",
        "basketcounts = basketdf['BasketID'].value_counts()\n",
        "basketcounts.describe()"
      ]
    },
    {
      "cell_type": "markdown",
      "id": "1dc57cce",
      "metadata": {
        "id": "1dc57cce"
      },
      "source": [
        "The number of distinct baskets is 24627"
      ]
    },
    {
      "cell_type": "markdown",
      "id": "f03d8746",
      "metadata": {
        "id": "f03d8746"
      },
      "source": [
        "# Quantity"
      ]
    },
    {
      "cell_type": "markdown",
      "id": "6f00ed61",
      "metadata": {
        "id": "6f00ed61"
      },
      "source": [
        "counting the negative values"
      ]
    },
    {
      "cell_type": "code",
      "execution_count": null,
      "id": "9813ff76",
      "metadata": {
        "colab": {
          "base_uri": "https://localhost:8080/"
        },
        "id": "9813ff76",
        "outputId": "75fc3b25-305e-49b7-ae67-fbbc3917e451"
      },
      "outputs": [
        {
          "output_type": "execute_result",
          "data": {
            "text/plain": [
              "BasketID           163\n",
              "BasketDate         163\n",
              "Sale               163\n",
              "CustomerID         129\n",
              "CustomerCountry    163\n",
              "ProdID             163\n",
              "ProdDescr          141\n",
              "Qta                163\n",
              "Amount             163\n",
              "dtype: int64"
            ]
          },
          "metadata": {},
          "execution_count": 16
        }
      ],
      "source": [
        "# rows with negative qta\n",
        "qtanegqta = basketdf['Qta'] < 0\n",
        "basketdf[qtanegqta].count()"
      ]
    },
    {
      "cell_type": "markdown",
      "id": "7e3e73ce",
      "metadata": {
        "id": "7e3e73ce"
      },
      "source": [
        "# Cost"
      ]
    },
    {
      "cell_type": "markdown",
      "id": "03ec1997",
      "metadata": {
        "id": "03ec1997"
      },
      "source": [
        "Rows with zero cost"
      ]
    },
    {
      "cell_type": "code",
      "execution_count": null,
      "id": "f3bb52f5",
      "metadata": {
        "colab": {
          "base_uri": "https://localhost:8080/"
        },
        "id": "f3bb52f5",
        "outputId": "c7e2e7b3-ee8a-438c-f8e0-d0b1d4c895d0"
      },
      "outputs": [
        {
          "output_type": "execute_result",
          "data": {
            "text/plain": [
              "BasketID           33\n",
              "BasketDate         33\n",
              "Sale               33\n",
              "CustomerID          1\n",
              "CustomerCountry    33\n",
              "ProdID             33\n",
              "ProdDescr           4\n",
              "Qta                33\n",
              "Amount             33\n",
              "dtype: int64"
            ]
          },
          "metadata": {},
          "execution_count": 17
        }
      ],
      "source": [
        "zerocost = basketdf['Sale'] == 0\n",
        "basketdf[zerocost].count()"
      ]
    },
    {
      "cell_type": "markdown",
      "id": "680ffeee",
      "metadata": {
        "id": "680ffeee"
      },
      "source": [
        "There are 1279 rows with zero cost"
      ]
    },
    {
      "cell_type": "code",
      "execution_count": null,
      "id": "eee8668d",
      "metadata": {
        "colab": {
          "base_uri": "https://localhost:8080/"
        },
        "id": "eee8668d",
        "outputId": "287d5198-6851-4d8d-8c16-984c348014e4"
      },
      "outputs": [
        {
          "output_type": "execute_result",
          "data": {
            "text/plain": [
              "BasketID           172\n",
              "BasketDate         172\n",
              "Sale               172\n",
              "CustomerID         130\n",
              "CustomerCountry    172\n",
              "ProdID             172\n",
              "ProdDescr          143\n",
              "Qta                172\n",
              "Amount             172\n",
              "dtype: int64"
            ]
          },
          "metadata": {},
          "execution_count": 18
        }
      ],
      "source": [
        "basketdf[qtanegqta | zerocost].count()"
      ]
    },
    {
      "cell_type": "markdown",
      "id": "73bb82b1",
      "metadata": {
        "id": "73bb82b1"
      },
      "source": [
        "These are not relevent for our project so we decided to drop them. "
      ]
    },
    {
      "cell_type": "code",
      "execution_count": null,
      "id": "78e7d235",
      "metadata": {
        "colab": {
          "base_uri": "https://localhost:8080/"
        },
        "id": "78e7d235",
        "outputId": "67439cc8-2609-4604-fb9d-660f549c5220"
      },
      "outputs": [
        {
          "output_type": "stream",
          "name": "stderr",
          "text": [
            "<ipython-input-19-96e17aa75d6f>:4: UserWarning: Boolean Series key will be reindexed to match DataFrame index.\n",
            "  basketdf.drop(basketdf[zerocost].index, inplace=True)\n"
          ]
        }
      ],
      "source": [
        "# drop rows with negative quantity\n",
        "basketdf.drop(basketdf[qtanegqta].index, inplace=True)\n",
        "# drop rows with null cost\n",
        "basketdf.drop(basketdf[zerocost].index, inplace=True)"
      ]
    },
    {
      "cell_type": "code",
      "execution_count": null,
      "id": "162f93a7",
      "metadata": {
        "colab": {
          "base_uri": "https://localhost:8080/"
        },
        "id": "162f93a7",
        "outputId": "f6b3f77f-f410-46fa-8b04-7951787f4f41"
      },
      "outputs": [
        {
          "output_type": "execute_result",
          "data": {
            "text/plain": [
              "(11536, 9)"
            ]
          },
          "metadata": {},
          "execution_count": 20
        }
      ],
      "source": [
        "basketdf.shape"
      ]
    },
    {
      "cell_type": "code",
      "execution_count": null,
      "id": "f8adf284",
      "metadata": {
        "colab": {
          "base_uri": "https://localhost:8080/",
          "height": 343
        },
        "id": "f8adf284",
        "outputId": "5f2f9abd-f42e-442a-9002-b6ce8d2be6e5"
      },
      "outputs": [
        {
          "output_type": "execute_result",
          "data": {
            "text/plain": [
              "[]"
            ]
          },
          "metadata": {},
          "execution_count": 21
        },
        {
          "output_type": "display_data",
          "data": {
            "text/plain": [
              "<Figure size 432x288 with 1 Axes>"
            ],
            "image/png": "[encoded data removed]"
          },
          "metadata": {
            "needs_background": "light"
          }
        }
      ],
      "source": [
        "tran = basketdf.groupby(pd.Grouper(key='BasketDate', freq='M'))['BasketID'].count()\n",
        "tran.index = tran.index.strftime('%b %Y')\n",
        "tranplt = tran.plot(kind='bar', title='Number of transactions per month', rot=45)\n",
        "\n",
        "tranplt.set_ylabel('Transactions')\n",
        "tranplt.plot()"
      ]
    },
    {
      "cell_type": "markdown",
      "source": [
        "Total numer of transations by each customer"
      ],
      "metadata": {
        "id": "o4PDnNpdXeyh"
      },
      "id": "o4PDnNpdXeyh"
    },
    {
      "cell_type": "code",
      "execution_count": null,
      "id": "497d90d4",
      "metadata": {
        "colab": {
          "base_uri": "https://localhost:8080/",
          "height": 439
        },
        "id": "497d90d4",
        "outputId": "493a7cc2-5be7-42c7-8729-f444f2f5bb9c"
      },
      "outputs": [
        {
          "output_type": "stream",
          "name": "stdout",
          "text": [
            "count    371.000000\n",
            "mean      25.946092\n",
            "std       30.799918\n",
            "min        1.000000\n",
            "25%        9.000000\n",
            "50%       16.000000\n",
            "75%       32.000000\n",
            "max      297.000000\n",
            "Name: CustomerID, dtype: float64\n"
          ]
        },
        {
          "output_type": "execute_result",
          "data": {
            "text/plain": [
              "Text(0, 0.5, 'Transactions')"
            ]
          },
          "metadata": {},
          "execution_count": 22
        },
        {
          "output_type": "display_data",
          "data": {
            "text/plain": [
              "<Figure size 432x288 with 1 Axes>"
            ],
            "image/png": "[encoded data removed]"
          },
          "metadata": {
            "needs_background": "light"
          }
        }
      ],
      "source": [
        "cust_counts = basketdf['CustomerID'].value_counts()\n",
        "print(cust_counts.describe())\n",
        "custplot = cust_counts.plot.box()\n",
        "custplot.set_ylabel(\"Transactions\")"
      ]
    },
    {
      "cell_type": "code",
      "execution_count": null,
      "id": "7f318a7f",
      "metadata": {
        "colab": {
          "base_uri": "https://localhost:8080/"
        },
        "id": "7f318a7f",
        "outputId": "23079953-3bdc-4abb-dd2b-7f17085897b6"
      },
      "outputs": [
        {
          "output_type": "execute_result",
          "data": {
            "text/plain": [
              "1910"
            ]
          },
          "metadata": {},
          "execution_count": 23
        }
      ],
      "source": [
        "basketdf['CustomerID'].isnull().sum()"
      ]
    },
    {
      "cell_type": "markdown",
      "id": "ce94611a",
      "metadata": {
        "id": "ce94611a"
      },
      "source": [
        "Drop transactions with null CustomerID"
      ]
    },
    {
      "cell_type": "code",
      "execution_count": null,
      "id": "0d8b7b09",
      "metadata": {
        "id": "0d8b7b09"
      },
      "outputs": [],
      "source": [
        "# drop rows with null customerID\n",
        "basketdf.dropna(subset=['CustomerID'], inplace=True)\n",
        "\n",
        "# export cleaned dataset for further analysis\n",
        "basketdf.to_csv(r'clean_basketdf.csv', index=True, header=True)"
      ]
    },
    {
      "cell_type": "markdown",
      "id": "dfa2c8f8",
      "metadata": {
        "id": "dfa2c8f8"
      },
      "source": [
        "Customer Country"
      ]
    },
    {
      "cell_type": "code",
      "execution_count": null,
      "id": "2691a945",
      "metadata": {
        "colab": {
          "base_uri": "https://localhost:8080/",
          "height": 367
        },
        "id": "2691a945",
        "outputId": "69a66c96-fbd3-4348-fe8a-ec60455f8b56"
      },
      "outputs": [
        {
          "output_type": "execute_result",
          "data": {
            "text/plain": [
              "<matplotlib.axes._subplots.AxesSubplot at 0x7f873dab1f10>"
            ]
          },
          "metadata": {},
          "execution_count": 25
        },
        {
          "output_type": "display_data",
          "data": {
            "text/plain": [
              "<Figure size 432x288 with 1 Axes>"
            ],
            "image/png": "[encoded data removed]"
          },
          "metadata": {
            "needs_background": "light"
          }
        }
      ],
      "source": [
        "cc_counts = basketdf.groupby(['CustomerCountry', 'CustomerID']).size().groupby(level=0).size()\n",
        "cc_counts.plot.bar()"
      ]
    },
    {
      "cell_type": "markdown",
      "id": "9c9aaf17",
      "metadata": {
        "id": "9c9aaf17"
      },
      "source": [
        "Majority customers are from UK"
      ]
    },
    {
      "cell_type": "markdown",
      "source": [
        "## *To find out best and worst seller*"
      ],
      "metadata": {
        "id": "YtDgNtOcef9p"
      },
      "id": "YtDgNtOcef9p"
    },
    {
      "cell_type": "code",
      "source": [
        "pid_counts = basketdf['ProdID'].value_counts()"
      ],
      "metadata": {
        "id": "Y48hGmaxUG7V"
      },
      "id": "Y48hGmaxUG7V",
      "execution_count": null,
      "outputs": []
    },
    {
      "cell_type": "code",
      "source": [
        "best_seller_id = pid_counts.index[0]\n",
        "best_seller_descr = basketdf.loc[basketdf['ProdID'] == best_seller_id]['ProdDescr'].iloc[0]\n",
        "print(\"Best seller: {} ({})\".format(str(best_seller_id), str(best_seller_descr)))"
      ],
      "metadata": {
        "colab": {
          "base_uri": "https://localhost:8080/"
        },
        "id": "hIPBfYl2X4b6",
        "outputId": "984698a8-3a6f-497a-ba57-6751a6418b2c"
      },
      "id": "hIPBfYl2X4b6",
      "execution_count": null,
      "outputs": [
        {
          "output_type": "stream",
          "name": "stdout",
          "text": [
            "Best seller: 22633 (HAND WARMER UNION JACK)\n"
          ]
        }
      ]
    },
    {
      "cell_type": "code",
      "source": [
        "worst_seller_id = pid_counts.index[-1]\n",
        "worst_seller_descr = basketdf.loc[basketdf['ProdID'] == worst_seller_id]['ProdDescr'].iloc[0]\n",
        "print(\"Worst seller: {} ({})\".format(str(worst_seller_id), str(worst_seller_descr)))"
      ],
      "metadata": {
        "colab": {
          "base_uri": "https://localhost:8080/"
        },
        "id": "JqRcpmryYLO-",
        "outputId": "e7333f9f-e0ce-48cb-eea2-8185f2cc1c8a"
      },
      "id": "JqRcpmryYLO-",
      "execution_count": null,
      "outputs": [
        {
          "output_type": "stream",
          "name": "stdout",
          "text": [
            "Worst seller: 16169K (WRAP FOLK ART)\n"
          ]
        }
      ]
    },
    {
      "cell_type": "markdown",
      "source": [
        "## *Correlation*"
      ],
      "metadata": {
        "id": "odn-JTkEeyxP"
      },
      "id": "odn-JTkEeyxP"
    },
    {
      "cell_type": "markdown",
      "source": [
        "To calculate pairwise correlation, we transformed some attributes into categorical ones. "
      ],
      "metadata": {
        "id": "DwqNB9pgfVe5"
      },
      "id": "DwqNB9pgfVe5"
    },
    {
      "cell_type": "code",
      "source": [
        "basketdf_corr = basketdf.copy()\n",
        "basketdf_corr=basketdf_corr.drop(['ProdDescr'],axis=1)\n",
        "basketdf_corr['BasketID'] = basketdf_corr['BasketID'].astype('category').cat.codes\n",
        "basketdf_corr['BasketDate'] = basketdf_corr['BasketDate'].astype('category').cat.codes\n",
        "basketdf_corr['CustomerID'] = basketdf_corr['CustomerID'].astype('category').cat.codes\n",
        "basketdf_corr['CustomerCountry'] = basketdf_corr['CustomerCountry'].astype('category').cat.codes"
      ],
      "metadata": {
        "id": "o3XL3JisZz4l"
      },
      "id": "o3XL3JisZz4l",
      "execution_count": null,
      "outputs": []
    },
    {
      "cell_type": "code",
      "source": [
        "basketdf_corr.tail()"
      ],
      "metadata": {
        "colab": {
          "base_uri": "https://localhost:8080/",
          "height": 206
        },
        "id": "4jo19w25bel2",
        "outputId": "cb9d91e8-4e11-4960-c99f-95ba1af76a0a"
      },
      "id": "4jo19w25bel2",
      "execution_count": null,
      "outputs": [
        {
          "output_type": "execute_result",
          "data": {
            "text/plain": [
              "       BasketID  BasketDate  Sale  CustomerID  CustomerCountry ProdID   Qta  \\\n",
              "13262       491         449  1.45          19               14  22549   8.0   \n",
              "13266       492         450  2.55          29               14  22086  80.0   \n",
              "13267       492         450  2.55          29               14  22910  40.0   \n",
              "13268       492         450  1.69          29               14  84879   8.0   \n",
              "13269       492         450  5.45          29               14  21754  18.0   \n",
              "\n",
              "       Amount  \n",
              "13262   11.60  \n",
              "13266  204.00  \n",
              "13267  102.00  \n",
              "13268   13.52  \n",
              "13269   98.10  "
            ],
            "text/html": [
              "\n",
              "  <div id=\"df-92163599-60a8-408e-92b2-0608ba0224d4\">\n",
              "    <div class=\"colab-df-container\">\n",
              "      <div>\n",
              "<style scoped>\n",
              "    .dataframe tbody tr th:only-of-type {\n",
              "        vertical-align: middle;\n",
              "    }\n",
              "\n",
              "    .dataframe tbody tr th {\n",
              "        vertical-align: top;\n",
              "    }\n",
              "\n",
              "    .dataframe thead th {\n",
              "        text-align: right;\n",
              "    }\n",
              "</style>\n",
              "<table border=\"1\" class=\"dataframe\">\n",
              "  <thead>\n",
              "    <tr style=\"text-align: right;\">\n",
              "      <th></th>\n",
              "      <th>BasketID</th>\n",
              "      <th>BasketDate</th>\n",
              "      <th>Sale</th>\n",
              "      <th>CustomerID</th>\n",
              "      <th>CustomerCountry</th>\n",
              "      <th>ProdID</th>\n",
              "      <th>Qta</th>\n",
              "      <th>Amount</th>\n",
              "    </tr>\n",
              "  </thead>\n",
              "  <tbody>\n",
              "    <tr>\n",
              "      <th>13262</th>\n",
              "      <td>491</td>\n",
              "      <td>449</td>\n",
              "      <td>1.45</td>\n",
              "      <td>19</td>\n",
              "      <td>14</td>\n",
              "      <td>22549</td>\n",
              "      <td>8.0</td>\n",
              "      <td>11.60</td>\n",
              "    </tr>\n",
              "    <tr>\n",
              "      <th>13266</th>\n",
              "      <td>492</td>\n",
              "      <td>450</td>\n",
              "      <td>2.55</td>\n",
              "      <td>29</td>\n",
              "      <td>14</td>\n",
              "      <td>22086</td>\n",
              "      <td>80.0</td>\n",
              "      <td>204.00</td>\n",
              "    </tr>\n",
              "    <tr>\n",
              "      <th>13267</th>\n",
              "      <td>492</td>\n",
              "      <td>450</td>\n",
              "      <td>2.55</td>\n",
              "      <td>29</td>\n",
              "      <td>14</td>\n",
              "      <td>22910</td>\n",
              "      <td>40.0</td>\n",
              "      <td>102.00</td>\n",
              "    </tr>\n",
              "    <tr>\n",
              "      <th>13268</th>\n",
              "      <td>492</td>\n",
              "      <td>450</td>\n",
              "      <td>1.69</td>\n",
              "      <td>29</td>\n",
              "      <td>14</td>\n",
              "      <td>84879</td>\n",
              "      <td>8.0</td>\n",
              "      <td>13.52</td>\n",
              "    </tr>\n",
              "    <tr>\n",
              "      <th>13269</th>\n",
              "      <td>492</td>\n",
              "      <td>450</td>\n",
              "      <td>5.45</td>\n",
              "      <td>29</td>\n",
              "      <td>14</td>\n",
              "      <td>21754</td>\n",
              "      <td>18.0</td>\n",
              "      <td>98.10</td>\n",
              "    </tr>\n",
              "  </tbody>\n",
              "</table>\n",
              "</div>\n",
              "      <button class=\"colab-df-convert\" onclick=\"convertToInteractive('df-92163599-60a8-408e-92b2-0608ba0224d4')\"\n",
              "              title=\"Convert this dataframe to an interactive table.\"\n",
              "              style=\"display:none;\">\n",
              "        \n",
              "  <svg xmlns=\"http://www.w3.org/2000/svg\" height=\"24px\"viewBox=\"0 0 24 24\"\n",
              "       width=\"24px\">\n",
              "    <path d=\"M0 0h24v24H0V0z\" fill=\"none\"/>\n",
              "    <path d=\"M18.56 5.44l.94 2.06.94-2.06 2.06-.94-2.06-.94-.94-2.06-.94 2.06-2.06.94zm-11 1L8.5 8.5l.94-2.06 2.06-.94-2.06-.94L8.5 2.5l-.94 2.06-2.06.94zm10 10l.94 2.06.94-2.06 2.06-.94-2.06-.94-.94-2.06-.94 2.06-2.06.94z\"/><path d=\"M17.41 7.96l-1.37-1.37c-.4-.4-.92-.59-1.43-.59-.52 0-1.04.2-1.43.59L10.3 9.45l-7.72 7.72c-.78.78-.78 2.05 0 2.83L4 21.41c.39.39.9.59 1.41.59.51 0 1.02-.2 1.41-.59l7.78-7.78 2.81-2.81c.8-.78.8-2.07 0-2.86zM5.41 20L4 18.59l7.72-7.72 1.47 1.35L5.41 20z\"/>\n",
              "  </svg>\n",
              "      </button>\n",
              "      \n",
              "  <style>\n",
              "    .colab-df-container {\n",
              "      display:flex;\n",
              "      flex-wrap:wrap;\n",
              "      gap: 12px;\n",
              "    }\n",
              "\n",
              "    .colab-df-convert {\n",
              "      background-color: #E8F0FE;\n",
              "      border: none;\n",
              "      border-radius: 50%;\n",
              "      cursor: pointer;\n",
              "      display: none;\n",
              "      fill: #1967D2;\n",
              "      height: 32px;\n",
              "      padding: 0 0 0 0;\n",
              "      width: 32px;\n",
              "    }\n",
              "\n",
              "    .colab-df-convert:hover {\n",
              "      background-color: #E2EBFA;\n",
              "      box-shadow: 0px 1px 2px rgba(60, 64, 67, 0.3), 0px 1px 3px 1px rgba(60, 64, 67, 0.15);\n",
              "      fill: #174EA6;\n",
              "    }\n",
              "\n",
              "    [theme=dark] .colab-df-convert {\n",
              "      background-color: #3B4455;\n",
              "      fill: #D2E3FC;\n",
              "    }\n",
              "\n",
              "    [theme=dark] .colab-df-convert:hover {\n",
              "      background-color: #434B5C;\n",
              "      box-shadow: 0px 1px 3px 1px rgba(0, 0, 0, 0.15);\n",
              "      filter: drop-shadow(0px 1px 2px rgba(0, 0, 0, 0.3));\n",
              "      fill: #FFFFFF;\n",
              "    }\n",
              "  </style>\n",
              "\n",
              "      <script>\n",
              "        const buttonEl =\n",
              "          document.querySelector('#df-92163599-60a8-408e-92b2-0608ba0224d4 button.colab-df-convert');\n",
              "        buttonEl.style.display =\n",
              "          google.colab.kernel.accessAllowed ? 'block' : 'none';\n",
              "\n",
              "        async function convertToInteractive(key) {\n",
              "          const element = document.querySelector('#df-92163599-60a8-408e-92b2-0608ba0224d4');\n",
              "          const dataTable =\n",
              "            await google.colab.kernel.invokeFunction('convertToInteractive',\n",
              "                                                     [key], {});\n",
              "          if (!dataTable) return;\n",
              "\n",
              "          const docLinkHtml = 'Like what you see? Visit the ' +\n",
              "            '<a target=\"_blank\" href=https://colab.research.google.com/notebooks/data_table.ipynb>data table notebook</a>'\n",
              "            + ' to learn more about interactive tables.';\n",
              "          element.innerHTML = '';\n",
              "          dataTable['output_type'] = 'display_data';\n",
              "          await google.colab.output.renderOutput(dataTable, element);\n",
              "          const docLink = document.createElement('div');\n",
              "          docLink.innerHTML = docLinkHtml;\n",
              "          element.appendChild(docLink);\n",
              "        }\n",
              "      </script>\n",
              "    </div>\n",
              "  </div>\n",
              "  "
            ]
          },
          "metadata": {},
          "execution_count": 30
        }
      ]
    },
    {
      "cell_type": "code",
      "source": [
        "import seaborn as sns\n",
        "\n",
        "correlation = basketdf_corr.corr()\n",
        "sns.set(style=\"white\")\n",
        "\n",
        "# Generate a mask for the upper triangle\n",
        "mask = np.zeros_like(correlation, dtype=np.bool)\n",
        "mask[np.triu_indices_from(mask)] = True\n",
        "\n",
        "# Set up the matplotlib figure\n",
        "f, ax = py.subplots(figsize=(9,9))\n",
        "\n",
        "# Generate a custom diverging colormap\n",
        "cmap = sns.diverging_palette(220, 10, as_cmap=True)\n",
        "\n",
        "# Draw the heatmap with the mask and correct aspect ratio\n",
        "sns.heatmap(correlation, mask=mask, cmap=cmap,annot=True, vmax=1,vmin=-1,\n",
        "            center=0, square=True, linewidths=0.5, cbar_kws={\"shrink\": 0.5})"
      ],
      "metadata": {
        "colab": {
          "base_uri": "https://localhost:8080/",
          "height": 629
        },
        "id": "h80mXQunY46p",
        "outputId": "5dc75c30-4b99-4dd6-9d5f-108a97cc3f2c"
      },
      "id": "h80mXQunY46p",
      "execution_count": null,
      "outputs": [
        {
          "output_type": "stream",
          "name": "stderr",
          "text": [
            "<ipython-input-31-6787dbfb7a21>:7: DeprecationWarning: `np.bool` is a deprecated alias for the builtin `bool`. To silence this warning, use `bool` by itself. Doing this will not modify any behavior and is safe. If you specifically wanted the numpy scalar type, use `np.bool_` here.\n",
            "Deprecated in NumPy 1.20; for more details and guidance: https://numpy.org/devdocs/release/1.20.0-notes.html#deprecations\n",
            "  mask = np.zeros_like(correlation, dtype=np.bool)\n"
          ]
        },
        {
          "output_type": "execute_result",
          "data": {
            "text/plain": [
              "<matplotlib.axes._subplots.AxesSubplot at 0x7f8735ceb8e0>"
            ]
          },
          "metadata": {},
          "execution_count": 31
        },
        {
          "output_type": "display_data",
          "data": {
            "text/plain": [
              "<Figure size 648x648 with 2 Axes>"
            ],
            "image/png": "[encoded data removed]"
          },
          "metadata": {}
        }
      ]
    },
    {
      "cell_type": "code",
      "source": [
        "basketdf_customer = basketdf.groupby('CustomerID').agg(\n",
        "    I=('ProdID','count'),\n",
        "    Iu=('ProdID', 'nunique'))\n",
        "\n",
        "basketdf_customer['Imax'] = basketdf.groupby(['CustomerID','BasketID']).count().max(level=0)['BasketDate']"
      ],
      "metadata": {
        "colab": {
          "base_uri": "https://localhost:8080/"
        },
        "id": "knPYuvlBeUaX",
        "outputId": "d2ccc91b-b5bd-4342-f35d-b16620208aaa"
      },
      "id": "knPYuvlBeUaX",
      "execution_count": null,
      "outputs": [
        {
          "output_type": "stream",
          "name": "stderr",
          "text": [
            "<ipython-input-32-28ca157d74ab>:5: FutureWarning: Using the level keyword in DataFrame and Series aggregations is deprecated and will be removed in a future version. Use groupby instead. df.median(level=1) should use df.groupby(level=1).median().\n",
            "  basketdf_customer['Imax'] = basketdf.groupby(['CustomerID','BasketID']).count().max(level=0)['BasketDate']\n"
          ]
        }
      ]
    },
    {
      "cell_type": "code",
      "source": [
        "basketdf_customer.head()"
      ],
      "metadata": {
        "colab": {
          "base_uri": "https://localhost:8080/",
          "height": 238
        },
        "id": "yYO-u0Qbhmzj",
        "outputId": "f0636397-824c-4fe5-bfb9-4d1fe21a9e95"
      },
      "id": "yYO-u0Qbhmzj",
      "execution_count": null,
      "outputs": [
        {
          "output_type": "execute_result",
          "data": {
            "text/plain": [
              "             I  Iu  Imax\n",
              "CustomerID              \n",
              "12395.0     12  12    12\n",
              "12427.0     10  10    10\n",
              "12431.0     14  14    14\n",
              "12433.0     73  73    73\n",
              "12472.0     70  70    70"
            ],
            "text/html": [
              "\n",
              "  <div id=\"df-c46721db-c020-4c21-80af-1ee9d098ccae\">\n",
              "    <div class=\"colab-df-container\">\n",
              "      <div>\n",
              "<style scoped>\n",
              "    .dataframe tbody tr th:only-of-type {\n",
              "        vertical-align: middle;\n",
              "    }\n",
              "\n",
              "    .dataframe tbody tr th {\n",
              "        vertical-align: top;\n",
              "    }\n",
              "\n",
              "    .dataframe thead th {\n",
              "        text-align: right;\n",
              "    }\n",
              "</style>\n",
              "<table border=\"1\" class=\"dataframe\">\n",
              "  <thead>\n",
              "    <tr style=\"text-align: right;\">\n",
              "      <th></th>\n",
              "      <th>I</th>\n",
              "      <th>Iu</th>\n",
              "      <th>Imax</th>\n",
              "    </tr>\n",
              "    <tr>\n",
              "      <th>CustomerID</th>\n",
              "      <th></th>\n",
              "      <th></th>\n",
              "      <th></th>\n",
              "    </tr>\n",
              "  </thead>\n",
              "  <tbody>\n",
              "    <tr>\n",
              "      <th>12395.0</th>\n",
              "      <td>12</td>\n",
              "      <td>12</td>\n",
              "      <td>12</td>\n",
              "    </tr>\n",
              "    <tr>\n",
              "      <th>12427.0</th>\n",
              "      <td>10</td>\n",
              "      <td>10</td>\n",
              "      <td>10</td>\n",
              "    </tr>\n",
              "    <tr>\n",
              "      <th>12431.0</th>\n",
              "      <td>14</td>\n",
              "      <td>14</td>\n",
              "      <td>14</td>\n",
              "    </tr>\n",
              "    <tr>\n",
              "      <th>12433.0</th>\n",
              "      <td>73</td>\n",
              "      <td>73</td>\n",
              "      <td>73</td>\n",
              "    </tr>\n",
              "    <tr>\n",
              "      <th>12472.0</th>\n",
              "      <td>70</td>\n",
              "      <td>70</td>\n",
              "      <td>70</td>\n",
              "    </tr>\n",
              "  </tbody>\n",
              "</table>\n",
              "</div>\n",
              "      <button class=\"colab-df-convert\" onclick=\"convertToInteractive('df-c46721db-c020-4c21-80af-1ee9d098ccae')\"\n",
              "              title=\"Convert this dataframe to an interactive table.\"\n",
              "              style=\"display:none;\">\n",
              "        \n",
              "  <svg xmlns=\"http://www.w3.org/2000/svg\" height=\"24px\"viewBox=\"0 0 24 24\"\n",
              "       width=\"24px\">\n",
              "    <path d=\"M0 0h24v24H0V0z\" fill=\"none\"/>\n",
              "    <path d=\"M18.56 5.44l.94 2.06.94-2.06 2.06-.94-2.06-.94-.94-2.06-.94 2.06-2.06.94zm-11 1L8.5 8.5l.94-2.06 2.06-.94-2.06-.94L8.5 2.5l-.94 2.06-2.06.94zm10 10l.94 2.06.94-2.06 2.06-.94-2.06-.94-.94-2.06-.94 2.06-2.06.94z\"/><path d=\"M17.41 7.96l-1.37-1.37c-.4-.4-.92-.59-1.43-.59-.52 0-1.04.2-1.43.59L10.3 9.45l-7.72 7.72c-.78.78-.78 2.05 0 2.83L4 21.41c.39.39.9.59 1.41.59.51 0 1.02-.2 1.41-.59l7.78-7.78 2.81-2.81c.8-.78.8-2.07 0-2.86zM5.41 20L4 18.59l7.72-7.72 1.47 1.35L5.41 20z\"/>\n",
              "  </svg>\n",
              "      </button>\n",
              "      \n",
              "  <style>\n",
              "    .colab-df-container {\n",
              "      display:flex;\n",
              "      flex-wrap:wrap;\n",
              "      gap: 12px;\n",
              "    }\n",
              "\n",
              "    .colab-df-convert {\n",
              "      background-color: #E8F0FE;\n",
              "      border: none;\n",
              "      border-radius: 50%;\n",
              "      cursor: pointer;\n",
              "      display: none;\n",
              "      fill: #1967D2;\n",
              "      height: 32px;\n",
              "      padding: 0 0 0 0;\n",
              "      width: 32px;\n",
              "    }\n",
              "\n",
              "    .colab-df-convert:hover {\n",
              "      background-color: #E2EBFA;\n",
              "      box-shadow: 0px 1px 2px rgba(60, 64, 67, 0.3), 0px 1px 3px 1px rgba(60, 64, 67, 0.15);\n",
              "      fill: #174EA6;\n",
              "    }\n",
              "\n",
              "    [theme=dark] .colab-df-convert {\n",
              "      background-color: #3B4455;\n",
              "      fill: #D2E3FC;\n",
              "    }\n",
              "\n",
              "    [theme=dark] .colab-df-convert:hover {\n",
              "      background-color: #434B5C;\n",
              "      box-shadow: 0px 1px 3px 1px rgba(0, 0, 0, 0.15);\n",
              "      filter: drop-shadow(0px 1px 2px rgba(0, 0, 0, 0.3));\n",
              "      fill: #FFFFFF;\n",
              "    }\n",
              "  </style>\n",
              "\n",
              "      <script>\n",
              "        const buttonEl =\n",
              "          document.querySelector('#df-c46721db-c020-4c21-80af-1ee9d098ccae button.colab-df-convert');\n",
              "        buttonEl.style.display =\n",
              "          google.colab.kernel.accessAllowed ? 'block' : 'none';\n",
              "\n",
              "        async function convertToInteractive(key) {\n",
              "          const element = document.querySelector('#df-c46721db-c020-4c21-80af-1ee9d098ccae');\n",
              "          const dataTable =\n",
              "            await google.colab.kernel.invokeFunction('convertToInteractive',\n",
              "                                                     [key], {});\n",
              "          if (!dataTable) return;\n",
              "\n",
              "          const docLinkHtml = 'Like what you see? Visit the ' +\n",
              "            '<a target=\"_blank\" href=https://colab.research.google.com/notebooks/data_table.ipynb>data table notebook</a>'\n",
              "            + ' to learn more about interactive tables.';\n",
              "          element.innerHTML = '';\n",
              "          dataTable['output_type'] = 'display_data';\n",
              "          await google.colab.output.renderOutput(dataTable, element);\n",
              "          const docLink = document.createElement('div');\n",
              "          docLink.innerHTML = docLinkHtml;\n",
              "          element.appendChild(docLink);\n",
              "        }\n",
              "      </script>\n",
              "    </div>\n",
              "  </div>\n",
              "  "
            ]
          },
          "metadata": {},
          "execution_count": 33
        }
      ]
    },
    {
      "cell_type": "code",
      "source": [
        "pos_amounts = basketdf[basketdf['Amount'] >= 0].copy()\n",
        "p_sum = pos_amounts.groupby('CustomerID')['Amount'].transform('sum')\n",
        "probs = pos_amounts['Amount']/p_sum\n",
        "pos_amounts['Entropy'] = -(probs * np.log(probs)) #ss.entropy(probs)\n",
        "basketdf_customer['Entropy'] = pos_amounts.groupby('CustomerID')['Entropy'].sum()"
      ],
      "metadata": {
        "id": "qIDQDxY2h-K0"
      },
      "id": "qIDQDxY2h-K0",
      "execution_count": null,
      "outputs": []
    },
    {
      "cell_type": "code",
      "source": [
        "basketdf_customer.head()"
      ],
      "metadata": {
        "colab": {
          "base_uri": "https://localhost:8080/",
          "height": 238
        },
        "id": "bF9rvey_iazh",
        "outputId": "cac0e29f-4e3d-427e-eb28-4444254b7854"
      },
      "id": "bF9rvey_iazh",
      "execution_count": null,
      "outputs": [
        {
          "output_type": "execute_result",
          "data": {
            "text/plain": [
              "             I  Iu  Imax   Entropy\n",
              "CustomerID                        \n",
              "12395.0     12  12    12  2.366047\n",
              "12427.0     10  10    10  2.098492\n",
              "12431.0     14  14    14  2.545472\n",
              "12433.0     73  73    73  4.057833\n",
              "12472.0     70  70    70  4.053347"
            ],
            "text/html": [
              "\n",
              "  <div id=\"df-20c0c068-d72e-496f-92b5-3b157f5ea651\">\n",
              "    <div class=\"colab-df-container\">\n",
              "      <div>\n",
              "<style scoped>\n",
              "    .dataframe tbody tr th:only-of-type {\n",
              "        vertical-align: middle;\n",
              "    }\n",
              "\n",
              "    .dataframe tbody tr th {\n",
              "        vertical-align: top;\n",
              "    }\n",
              "\n",
              "    .dataframe thead th {\n",
              "        text-align: right;\n",
              "    }\n",
              "</style>\n",
              "<table border=\"1\" class=\"dataframe\">\n",
              "  <thead>\n",
              "    <tr style=\"text-align: right;\">\n",
              "      <th></th>\n",
              "      <th>I</th>\n",
              "      <th>Iu</th>\n",
              "      <th>Imax</th>\n",
              "      <th>Entropy</th>\n",
              "    </tr>\n",
              "    <tr>\n",
              "      <th>CustomerID</th>\n",
              "      <th></th>\n",
              "      <th></th>\n",
              "      <th></th>\n",
              "      <th></th>\n",
              "    </tr>\n",
              "  </thead>\n",
              "  <tbody>\n",
              "    <tr>\n",
              "      <th>12395.0</th>\n",
              "      <td>12</td>\n",
              "      <td>12</td>\n",
              "      <td>12</td>\n",
              "      <td>2.366047</td>\n",
              "    </tr>\n",
              "    <tr>\n",
              "      <th>12427.0</th>\n",
              "      <td>10</td>\n",
              "      <td>10</td>\n",
              "      <td>10</td>\n",
              "      <td>2.098492</td>\n",
              "    </tr>\n",
              "    <tr>\n",
              "      <th>12431.0</th>\n",
              "      <td>14</td>\n",
              "      <td>14</td>\n",
              "      <td>14</td>\n",
              "      <td>2.545472</td>\n",
              "    </tr>\n",
              "    <tr>\n",
              "      <th>12433.0</th>\n",
              "      <td>73</td>\n",
              "      <td>73</td>\n",
              "      <td>73</td>\n",
              "      <td>4.057833</td>\n",
              "    </tr>\n",
              "    <tr>\n",
              "      <th>12472.0</th>\n",
              "      <td>70</td>\n",
              "      <td>70</td>\n",
              "      <td>70</td>\n",
              "      <td>4.053347</td>\n",
              "    </tr>\n",
              "  </tbody>\n",
              "</table>\n",
              "</div>\n",
              "      <button class=\"colab-df-convert\" onclick=\"convertToInteractive('df-20c0c068-d72e-496f-92b5-3b157f5ea651')\"\n",
              "              title=\"Convert this dataframe to an interactive table.\"\n",
              "              style=\"display:none;\">\n",
              "        \n",
              "  <svg xmlns=\"http://www.w3.org/2000/svg\" height=\"24px\"viewBox=\"0 0 24 24\"\n",
              "       width=\"24px\">\n",
              "    <path d=\"M0 0h24v24H0V0z\" fill=\"none\"/>\n",
              "    <path d=\"M18.56 5.44l.94 2.06.94-2.06 2.06-.94-2.06-.94-.94-2.06-.94 2.06-2.06.94zm-11 1L8.5 8.5l.94-2.06 2.06-.94-2.06-.94L8.5 2.5l-.94 2.06-2.06.94zm10 10l.94 2.06.94-2.06 2.06-.94-2.06-.94-.94-2.06-.94 2.06-2.06.94z\"/><path d=\"M17.41 7.96l-1.37-1.37c-.4-.4-.92-.59-1.43-.59-.52 0-1.04.2-1.43.59L10.3 9.45l-7.72 7.72c-.78.78-.78 2.05 0 2.83L4 21.41c.39.39.9.59 1.41.59.51 0 1.02-.2 1.41-.59l7.78-7.78 2.81-2.81c.8-.78.8-2.07 0-2.86zM5.41 20L4 18.59l7.72-7.72 1.47 1.35L5.41 20z\"/>\n",
              "  </svg>\n",
              "      </button>\n",
              "      \n",
              "  <style>\n",
              "    .colab-df-container {\n",
              "      display:flex;\n",
              "      flex-wrap:wrap;\n",
              "      gap: 12px;\n",
              "    }\n",
              "\n",
              "    .colab-df-convert {\n",
              "      background-color: #E8F0FE;\n",
              "      border: none;\n",
              "      border-radius: 50%;\n",
              "      cursor: pointer;\n",
              "      display: none;\n",
              "      fill: #1967D2;\n",
              "      height: 32px;\n",
              "      padding: 0 0 0 0;\n",
              "      width: 32px;\n",
              "    }\n",
              "\n",
              "    .colab-df-convert:hover {\n",
              "      background-color: #E2EBFA;\n",
              "      box-shadow: 0px 1px 2px rgba(60, 64, 67, 0.3), 0px 1px 3px 1px rgba(60, 64, 67, 0.15);\n",
              "      fill: #174EA6;\n",
              "    }\n",
              "\n",
              "    [theme=dark] .colab-df-convert {\n",
              "      background-color: #3B4455;\n",
              "      fill: #D2E3FC;\n",
              "    }\n",
              "\n",
              "    [theme=dark] .colab-df-convert:hover {\n",
              "      background-color: #434B5C;\n",
              "      box-shadow: 0px 1px 3px 1px rgba(0, 0, 0, 0.15);\n",
              "      filter: drop-shadow(0px 1px 2px rgba(0, 0, 0, 0.3));\n",
              "      fill: #FFFFFF;\n",
              "    }\n",
              "  </style>\n",
              "\n",
              "      <script>\n",
              "        const buttonEl =\n",
              "          document.querySelector('#df-20c0c068-d72e-496f-92b5-3b157f5ea651 button.colab-df-convert');\n",
              "        buttonEl.style.display =\n",
              "          google.colab.kernel.accessAllowed ? 'block' : 'none';\n",
              "\n",
              "        async function convertToInteractive(key) {\n",
              "          const element = document.querySelector('#df-20c0c068-d72e-496f-92b5-3b157f5ea651');\n",
              "          const dataTable =\n",
              "            await google.colab.kernel.invokeFunction('convertToInteractive',\n",
              "                                                     [key], {});\n",
              "          if (!dataTable) return;\n",
              "\n",
              "          const docLinkHtml = 'Like what you see? Visit the ' +\n",
              "            '<a target=\"_blank\" href=https://colab.research.google.com/notebooks/data_table.ipynb>data table notebook</a>'\n",
              "            + ' to learn more about interactive tables.';\n",
              "          element.innerHTML = '';\n",
              "          dataTable['output_type'] = 'display_data';\n",
              "          await google.colab.output.renderOutput(dataTable, element);\n",
              "          const docLink = document.createElement('div');\n",
              "          docLink.innerHTML = docLinkHtml;\n",
              "          element.appendChild(docLink);\n",
              "        }\n",
              "      </script>\n",
              "    </div>\n",
              "  </div>\n",
              "  "
            ]
          },
          "metadata": {},
          "execution_count": 35
        }
      ]
    },
    {
      "cell_type": "code",
      "source": [
        "# number of baskets per customer\n",
        "basketdf_customer['BasketNum'] =basketdf.groupby(['CustomerID', 'BasketID']).size().groupby(level=0).size()"
      ],
      "metadata": {
        "id": "s40VqAKIiz_J"
      },
      "id": "s40VqAKIiz_J",
      "execution_count": null,
      "outputs": []
    },
    {
      "cell_type": "code",
      "source": [
        "basketdf_group = basketdf.groupby(['CustomerID','BasketID']).agg(BasketSum=('Amount', 'sum'))\n",
        "basketdf_group = basketdf_group.groupby('CustomerID').agg(BasketMean=('BasketSum', 'mean'), SumExp=('BasketSum', 'sum'))\n",
        "basketdf_customer['SumExp'] = basketdf_group['SumExp']\n",
        "basketdf_customer['AvgExp'] = basketdf_group['BasketMean']"
      ],
      "metadata": {
        "id": "q4L5C-k3jETo"
      },
      "id": "q4L5C-k3jETo",
      "execution_count": null,
      "outputs": []
    },
    {
      "cell_type": "code",
      "source": [
        "basketdf_customer.describe()\n"
      ],
      "metadata": {
        "colab": {
          "base_uri": "https://localhost:8080/",
          "height": 300
        },
        "id": "Rxaq2s_-jnkd",
        "outputId": "439682d6-adeb-41fc-ce30-59bcf096b890"
      },
      "id": "Rxaq2s_-jnkd",
      "execution_count": null,
      "outputs": [
        {
          "output_type": "execute_result",
          "data": {
            "text/plain": [
              "                I          Iu        Imax     Entropy   BasketNum  \\\n",
              "count  371.000000  371.000000  371.000000  371.000000  371.000000   \n",
              "mean    25.946092   23.576819   23.078167    2.513562    1.328841   \n",
              "std     30.799918   24.066943   22.712345    1.028128    1.887284   \n",
              "min      1.000000    1.000000    1.000000    0.000000    1.000000   \n",
              "25%      9.000000    9.000000    9.000000    1.920328    1.000000   \n",
              "50%     16.000000   16.000000   15.000000    2.619036    1.000000   \n",
              "75%     32.000000   29.000000   29.500000    3.223491    1.000000   \n",
              "max    297.000000  221.000000  169.000000    5.507327   34.000000   \n",
              "\n",
              "            SumExp       AvgExp  \n",
              "count   371.000000   371.000000  \n",
              "mean    484.167520   351.367484  \n",
              "std     822.186958   331.320251  \n",
              "min      15.000000    15.000000  \n",
              "25%     184.650000   165.455000  \n",
              "50%     303.400000   273.300000  \n",
              "75%     427.770000   392.060000  \n",
              "max    9407.340000  2369.270000  "
            ],
            "text/html": [
              "\n",
              "  <div id=\"df-d3d616db-9a84-4f2b-bf31-4a7f856def5e\">\n",
              "    <div class=\"colab-df-container\">\n",
              "      <div>\n",
              "<style scoped>\n",
              "    .dataframe tbody tr th:only-of-type {\n",
              "        vertical-align: middle;\n",
              "    }\n",
              "\n",
              "    .dataframe tbody tr th {\n",
              "        vertical-align: top;\n",
              "    }\n",
              "\n",
              "    .dataframe thead th {\n",
              "        text-align: right;\n",
              "    }\n",
              "</style>\n",
              "<table border=\"1\" class=\"dataframe\">\n",
              "  <thead>\n",
              "    <tr style=\"text-align: right;\">\n",
              "      <th></th>\n",
              "      <th>I</th>\n",
              "      <th>Iu</th>\n",
              "      <th>Imax</th>\n",
              "      <th>Entropy</th>\n",
              "      <th>BasketNum</th>\n",
              "      <th>SumExp</th>\n",
              "      <th>AvgExp</th>\n",
              "    </tr>\n",
              "  </thead>\n",
              "  <tbody>\n",
              "    <tr>\n",
              "      <th>count</th>\n",
              "      <td>371.000000</td>\n",
              "      <td>371.000000</td>\n",
              "      <td>371.000000</td>\n",
              "      <td>371.000000</td>\n",
              "      <td>371.000000</td>\n",
              "      <td>371.000000</td>\n",
              "      <td>371.000000</td>\n",
              "    </tr>\n",
              "    <tr>\n",
              "      <th>mean</th>\n",
              "      <td>25.946092</td>\n",
              "      <td>23.576819</td>\n",
              "      <td>23.078167</td>\n",
              "      <td>2.513562</td>\n",
              "      <td>1.328841</td>\n",
              "      <td>484.167520</td>\n",
              "      <td>351.367484</td>\n",
              "    </tr>\n",
              "    <tr>\n",
              "      <th>std</th>\n",
              "      <td>30.799918</td>\n",
              "      <td>24.066943</td>\n",
              "      <td>22.712345</td>\n",
              "      <td>1.028128</td>\n",
              "      <td>1.887284</td>\n",
              "      <td>822.186958</td>\n",
              "      <td>331.320251</td>\n",
              "    </tr>\n",
              "    <tr>\n",
              "      <th>min</th>\n",
              "      <td>1.000000</td>\n",
              "      <td>1.000000</td>\n",
              "      <td>1.000000</td>\n",
              "      <td>0.000000</td>\n",
              "      <td>1.000000</td>\n",
              "      <td>15.000000</td>\n",
              "      <td>15.000000</td>\n",
              "    </tr>\n",
              "    <tr>\n",
              "      <th>25%</th>\n",
              "      <td>9.000000</td>\n",
              "      <td>9.000000</td>\n",
              "      <td>9.000000</td>\n",
              "      <td>1.920328</td>\n",
              "      <td>1.000000</td>\n",
              "      <td>184.650000</td>\n",
              "      <td>165.455000</td>\n",
              "    </tr>\n",
              "    <tr>\n",
              "      <th>50%</th>\n",
              "      <td>16.000000</td>\n",
              "      <td>16.000000</td>\n",
              "      <td>15.000000</td>\n",
              "      <td>2.619036</td>\n",
              "      <td>1.000000</td>\n",
              "      <td>303.400000</td>\n",
              "      <td>273.300000</td>\n",
              "    </tr>\n",
              "    <tr>\n",
              "      <th>75%</th>\n",
              "      <td>32.000000</td>\n",
              "      <td>29.000000</td>\n",
              "      <td>29.500000</td>\n",
              "      <td>3.223491</td>\n",
              "      <td>1.000000</td>\n",
              "      <td>427.770000</td>\n",
              "      <td>392.060000</td>\n",
              "    </tr>\n",
              "    <tr>\n",
              "      <th>max</th>\n",
              "      <td>297.000000</td>\n",
              "      <td>221.000000</td>\n",
              "      <td>169.000000</td>\n",
              "      <td>5.507327</td>\n",
              "      <td>34.000000</td>\n",
              "      <td>9407.340000</td>\n",
              "      <td>2369.270000</td>\n",
              "    </tr>\n",
              "  </tbody>\n",
              "</table>\n",
              "</div>\n",
              "      <button class=\"colab-df-convert\" onclick=\"convertToInteractive('df-d3d616db-9a84-4f2b-bf31-4a7f856def5e')\"\n",
              "              title=\"Convert this dataframe to an interactive table.\"\n",
              "              style=\"display:none;\">\n",
              "        \n",
              "  <svg xmlns=\"http://www.w3.org/2000/svg\" height=\"24px\"viewBox=\"0 0 24 24\"\n",
              "       width=\"24px\">\n",
              "    <path d=\"M0 0h24v24H0V0z\" fill=\"none\"/>\n",
              "    <path d=\"M18.56 5.44l.94 2.06.94-2.06 2.06-.94-2.06-.94-.94-2.06-.94 2.06-2.06.94zm-11 1L8.5 8.5l.94-2.06 2.06-.94-2.06-.94L8.5 2.5l-.94 2.06-2.06.94zm10 10l.94 2.06.94-2.06 2.06-.94-2.06-.94-.94-2.06-.94 2.06-2.06.94z\"/><path d=\"M17.41 7.96l-1.37-1.37c-.4-.4-.92-.59-1.43-.59-.52 0-1.04.2-1.43.59L10.3 9.45l-7.72 7.72c-.78.78-.78 2.05 0 2.83L4 21.41c.39.39.9.59 1.41.59.51 0 1.02-.2 1.41-.59l7.78-7.78 2.81-2.81c.8-.78.8-2.07 0-2.86zM5.41 20L4 18.59l7.72-7.72 1.47 1.35L5.41 20z\"/>\n",
              "  </svg>\n",
              "      </button>\n",
              "      \n",
              "  <style>\n",
              "    .colab-df-container {\n",
              "      display:flex;\n",
              "      flex-wrap:wrap;\n",
              "      gap: 12px;\n",
              "    }\n",
              "\n",
              "    .colab-df-convert {\n",
              "      background-color: #E8F0FE;\n",
              "      border: none;\n",
              "      border-radius: 50%;\n",
              "      cursor: pointer;\n",
              "      display: none;\n",
              "      fill: #1967D2;\n",
              "      height: 32px;\n",
              "      padding: 0 0 0 0;\n",
              "      width: 32px;\n",
              "    }\n",
              "\n",
              "    .colab-df-convert:hover {\n",
              "      background-color: #E2EBFA;\n",
              "      box-shadow: 0px 1px 2px rgba(60, 64, 67, 0.3), 0px 1px 3px 1px rgba(60, 64, 67, 0.15);\n",
              "      fill: #174EA6;\n",
              "    }\n",
              "\n",
              "    [theme=dark] .colab-df-convert {\n",
              "      background-color: #3B4455;\n",
              "      fill: #D2E3FC;\n",
              "    }\n",
              "\n",
              "    [theme=dark] .colab-df-convert:hover {\n",
              "      background-color: #434B5C;\n",
              "      box-shadow: 0px 1px 3px 1px rgba(0, 0, 0, 0.15);\n",
              "      filter: drop-shadow(0px 1px 2px rgba(0, 0, 0, 0.3));\n",
              "      fill: #FFFFFF;\n",
              "    }\n",
              "  </style>\n",
              "\n",
              "      <script>\n",
              "        const buttonEl =\n",
              "          document.querySelector('#df-d3d616db-9a84-4f2b-bf31-4a7f856def5e button.colab-df-convert');\n",
              "        buttonEl.style.display =\n",
              "          google.colab.kernel.accessAllowed ? 'block' : 'none';\n",
              "\n",
              "        async function convertToInteractive(key) {\n",
              "          const element = document.querySelector('#df-d3d616db-9a84-4f2b-bf31-4a7f856def5e');\n",
              "          const dataTable =\n",
              "            await google.colab.kernel.invokeFunction('convertToInteractive',\n",
              "                                                     [key], {});\n",
              "          if (!dataTable) return;\n",
              "\n",
              "          const docLinkHtml = 'Like what you see? Visit the ' +\n",
              "            '<a target=\"_blank\" href=https://colab.research.google.com/notebooks/data_table.ipynb>data table notebook</a>'\n",
              "            + ' to learn more about interactive tables.';\n",
              "          element.innerHTML = '';\n",
              "          dataTable['output_type'] = 'display_data';\n",
              "          await google.colab.output.renderOutput(dataTable, element);\n",
              "          const docLink = document.createElement('div');\n",
              "          docLink.innerHTML = docLinkHtml;\n",
              "          element.appendChild(docLink);\n",
              "        }\n",
              "      </script>\n",
              "    </div>\n",
              "  </div>\n",
              "  "
            ]
          },
          "metadata": {},
          "execution_count": 38
        }
      ]
    },
    {
      "cell_type": "code",
      "source": [
        "basketdf_customer.boxplot()\n"
      ],
      "metadata": {
        "colab": {
          "base_uri": "https://localhost:8080/",
          "height": 285
        },
        "id": "uz2gjwPwj-Y1",
        "outputId": "0864587f-aaed-4f07-c8c0-11e2d4d37f5d"
      },
      "id": "uz2gjwPwj-Y1",
      "execution_count": null,
      "outputs": [
        {
          "output_type": "execute_result",
          "data": {
            "text/plain": [
              "<matplotlib.axes._subplots.AxesSubplot at 0x7f873340c1f0>"
            ]
          },
          "metadata": {},
          "execution_count": 39
        },
        {
          "output_type": "display_data",
          "data": {
            "text/plain": [
              "<Figure size 432x288 with 1 Axes>"
            ],
            "image/png": "[encoded data removed]"
          },
          "metadata": {}
        }
      ]
    },
    {
      "cell_type": "code",
      "source": [
        "# use z-score to remove outliers\n",
        "from scipy.stats import zscore\n",
        "z_scores = zscore(basketdf_customer)\n",
        "\n",
        "abs_z_scores = np.abs(z_scores)\n",
        "filtered_entries = (abs_z_scores < 3).all(axis=1)\n",
        "new_basketdf = basketdf_customer[filtered_entries]\n",
        "\n",
        "new_basketdf.to_csv(r'Customer_Behaviour_df.csv', index=True, header=True)\n",
        "\n",
        "new_basketdf.describe()"
      ],
      "metadata": {
        "colab": {
          "base_uri": "https://localhost:8080/",
          "height": 300
        },
        "id": "13xrxT-kkMR9",
        "outputId": "4815287c-c3cf-406e-f35f-dfafafdccfe7"
      },
      "id": "13xrxT-kkMR9",
      "execution_count": null,
      "outputs": [
        {
          "output_type": "execute_result",
          "data": {
            "text/plain": [
              "                I          Iu        Imax     Entropy   BasketNum  \\\n",
              "count  347.000000  347.000000  347.000000  347.000000  347.000000   \n",
              "mean    22.135447   20.971182   21.043228    2.447856    1.155620   \n",
              "std     19.711256   17.853588   18.634323    0.985123    0.435414   \n",
              "min      1.000000    1.000000    1.000000    0.000000    1.000000   \n",
              "25%      9.000000    9.000000    8.000000    1.898079    1.000000   \n",
              "50%     15.000000   15.000000   15.000000    2.592798    1.000000   \n",
              "75%     30.000000   28.000000   27.500000    3.160613    1.000000   \n",
              "max     87.000000   77.000000   87.000000    4.140510    3.000000   \n",
              "\n",
              "            SumExp       AvgExp  \n",
              "count   347.000000   347.000000  \n",
              "mean    339.444553   293.678602  \n",
              "std     282.042518   193.739853  \n",
              "min      15.000000    15.000000  \n",
              "25%     174.035000   164.300000  \n",
              "50%     292.540000   256.900000  \n",
              "75%     390.895000   358.405000  \n",
              "max    2366.780000  1314.000000  "
            ],
            "text/html": [
              "\n",
              "  <div id=\"df-b3c3c717-a21b-4697-b2e1-e220af27aa8e\">\n",
              "    <div class=\"colab-df-container\">\n",
              "      <div>\n",
              "<style scoped>\n",
              "    .dataframe tbody tr th:only-of-type {\n",
              "        vertical-align: middle;\n",
              "    }\n",
              "\n",
              "    .dataframe tbody tr th {\n",
              "        vertical-align: top;\n",
              "    }\n",
              "\n",
              "    .dataframe thead th {\n",
              "        text-align: right;\n",
              "    }\n",
              "</style>\n",
              "<table border=\"1\" class=\"dataframe\">\n",
              "  <thead>\n",
              "    <tr style=\"text-align: right;\">\n",
              "      <th></th>\n",
              "      <th>I</th>\n",
              "      <th>Iu</th>\n",
              "      <th>Imax</th>\n",
              "      <th>Entropy</th>\n",
              "      <th>BasketNum</th>\n",
              "      <th>SumExp</th>\n",
              "      <th>AvgExp</th>\n",
              "    </tr>\n",
              "  </thead>\n",
              "  <tbody>\n",
              "    <tr>\n",
              "      <th>count</th>\n",
              "      <td>347.000000</td>\n",
              "      <td>347.000000</td>\n",
              "      <td>347.000000</td>\n",
              "      <td>347.000000</td>\n",
              "      <td>347.000000</td>\n",
              "      <td>347.000000</td>\n",
              "      <td>347.000000</td>\n",
              "    </tr>\n",
              "    <tr>\n",
              "      <th>mean</th>\n",
              "      <td>22.135447</td>\n",
              "      <td>20.971182</td>\n",
              "      <td>21.043228</td>\n",
              "      <td>2.447856</td>\n",
              "      <td>1.155620</td>\n",
              "      <td>339.444553</td>\n",
              "      <td>293.678602</td>\n",
              "    </tr>\n",
              "    <tr>\n",
              "      <th>std</th>\n",
              "      <td>19.711256</td>\n",
              "      <td>17.853588</td>\n",
              "      <td>18.634323</td>\n",
              "      <td>0.985123</td>\n",
              "      <td>0.435414</td>\n",
              "      <td>282.042518</td>\n",
              "      <td>193.739853</td>\n",
              "    </tr>\n",
              "    <tr>\n",
              "      <th>min</th>\n",
              "      <td>1.000000</td>\n",
              "      <td>1.000000</td>\n",
              "      <td>1.000000</td>\n",
              "      <td>0.000000</td>\n",
              "      <td>1.000000</td>\n",
              "      <td>15.000000</td>\n",
              "      <td>15.000000</td>\n",
              "    </tr>\n",
              "    <tr>\n",
              "      <th>25%</th>\n",
              "      <td>9.000000</td>\n",
              "      <td>9.000000</td>\n",
              "      <td>8.000000</td>\n",
              "      <td>1.898079</td>\n",
              "      <td>1.000000</td>\n",
              "      <td>174.035000</td>\n",
              "      <td>164.300000</td>\n",
              "    </tr>\n",
              "    <tr>\n",
              "      <th>50%</th>\n",
              "      <td>15.000000</td>\n",
              "      <td>15.000000</td>\n",
              "      <td>15.000000</td>\n",
              "      <td>2.592798</td>\n",
              "      <td>1.000000</td>\n",
              "      <td>292.540000</td>\n",
              "      <td>256.900000</td>\n",
              "    </tr>\n",
              "    <tr>\n",
              "      <th>75%</th>\n",
              "      <td>30.000000</td>\n",
              "      <td>28.000000</td>\n",
              "      <td>27.500000</td>\n",
              "      <td>3.160613</td>\n",
              "      <td>1.000000</td>\n",
              "      <td>390.895000</td>\n",
              "      <td>358.405000</td>\n",
              "    </tr>\n",
              "    <tr>\n",
              "      <th>max</th>\n",
              "      <td>87.000000</td>\n",
              "      <td>77.000000</td>\n",
              "      <td>87.000000</td>\n",
              "      <td>4.140510</td>\n",
              "      <td>3.000000</td>\n",
              "      <td>2366.780000</td>\n",
              "      <td>1314.000000</td>\n",
              "    </tr>\n",
              "  </tbody>\n",
              "</table>\n",
              "</div>\n",
              "      <button class=\"colab-df-convert\" onclick=\"convertToInteractive('df-b3c3c717-a21b-4697-b2e1-e220af27aa8e')\"\n",
              "              title=\"Convert this dataframe to an interactive table.\"\n",
              "              style=\"display:none;\">\n",
              "        \n",
              "  <svg xmlns=\"http://www.w3.org/2000/svg\" height=\"24px\"viewBox=\"0 0 24 24\"\n",
              "       width=\"24px\">\n",
              "    <path d=\"M0 0h24v24H0V0z\" fill=\"none\"/>\n",
              "    <path d=\"M18.56 5.44l.94 2.06.94-2.06 2.06-.94-2.06-.94-.94-2.06-.94 2.06-2.06.94zm-11 1L8.5 8.5l.94-2.06 2.06-.94-2.06-.94L8.5 2.5l-.94 2.06-2.06.94zm10 10l.94 2.06.94-2.06 2.06-.94-2.06-.94-.94-2.06-.94 2.06-2.06.94z\"/><path d=\"M17.41 7.96l-1.37-1.37c-.4-.4-.92-.59-1.43-.59-.52 0-1.04.2-1.43.59L10.3 9.45l-7.72 7.72c-.78.78-.78 2.05 0 2.83L4 21.41c.39.39.9.59 1.41.59.51 0 1.02-.2 1.41-.59l7.78-7.78 2.81-2.81c.8-.78.8-2.07 0-2.86zM5.41 20L4 18.59l7.72-7.72 1.47 1.35L5.41 20z\"/>\n",
              "  </svg>\n",
              "      </button>\n",
              "      \n",
              "  <style>\n",
              "    .colab-df-container {\n",
              "      display:flex;\n",
              "      flex-wrap:wrap;\n",
              "      gap: 12px;\n",
              "    }\n",
              "\n",
              "    .colab-df-convert {\n",
              "      background-color: #E8F0FE;\n",
              "      border: none;\n",
              "      border-radius: 50%;\n",
              "      cursor: pointer;\n",
              "      display: none;\n",
              "      fill: #1967D2;\n",
              "      height: 32px;\n",
              "      padding: 0 0 0 0;\n",
              "      width: 32px;\n",
              "    }\n",
              "\n",
              "    .colab-df-convert:hover {\n",
              "      background-color: #E2EBFA;\n",
              "      box-shadow: 0px 1px 2px rgba(60, 64, 67, 0.3), 0px 1px 3px 1px rgba(60, 64, 67, 0.15);\n",
              "      fill: #174EA6;\n",
              "    }\n",
              "\n",
              "    [theme=dark] .colab-df-convert {\n",
              "      background-color: #3B4455;\n",
              "      fill: #D2E3FC;\n",
              "    }\n",
              "\n",
              "    [theme=dark] .colab-df-convert:hover {\n",
              "      background-color: #434B5C;\n",
              "      box-shadow: 0px 1px 3px 1px rgba(0, 0, 0, 0.15);\n",
              "      filter: drop-shadow(0px 1px 2px rgba(0, 0, 0, 0.3));\n",
              "      fill: #FFFFFF;\n",
              "    }\n",
              "  </style>\n",
              "\n",
              "      <script>\n",
              "        const buttonEl =\n",
              "          document.querySelector('#df-b3c3c717-a21b-4697-b2e1-e220af27aa8e button.colab-df-convert');\n",
              "        buttonEl.style.display =\n",
              "          google.colab.kernel.accessAllowed ? 'block' : 'none';\n",
              "\n",
              "        async function convertToInteractive(key) {\n",
              "          const element = document.querySelector('#df-b3c3c717-a21b-4697-b2e1-e220af27aa8e');\n",
              "          const dataTable =\n",
              "            await google.colab.kernel.invokeFunction('convertToInteractive',\n",
              "                                                     [key], {});\n",
              "          if (!dataTable) return;\n",
              "\n",
              "          const docLinkHtml = 'Like what you see? Visit the ' +\n",
              "            '<a target=\"_blank\" href=https://colab.research.google.com/notebooks/data_table.ipynb>data table notebook</a>'\n",
              "            + ' to learn more about interactive tables.';\n",
              "          element.innerHTML = '';\n",
              "          dataTable['output_type'] = 'display_data';\n",
              "          await google.colab.output.renderOutput(dataTable, element);\n",
              "          const docLink = document.createElement('div');\n",
              "          docLink.innerHTML = docLinkHtml;\n",
              "          element.appendChild(docLink);\n",
              "        }\n",
              "      </script>\n",
              "    </div>\n",
              "  </div>\n",
              "  "
            ]
          },
          "metadata": {},
          "execution_count": 40
        }
      ]
    },
    {
      "cell_type": "code",
      "source": [
        "correlation = new_basketdf.corr()\n",
        "sns.set(style=\"white\")\n",
        "\n",
        "# Generate a mask for the upper triangle\n",
        "mask = np.zeros_like(correlation, dtype=np.bool)\n",
        "mask[np.triu_indices_from(mask)] = True\n",
        "\n",
        "# Set up the matplotlib figure\n",
        "fnew, axnew = py.subplots(figsize=(9,9))\n",
        "\n",
        "# Generate a custom diverging colormap\n",
        "cmap = sns.diverging_palette(220, 10, as_cmap=True)\n",
        "\n",
        "# Draw the heatmap with the mask and correct aspect ratio\n",
        "sns.heatmap(correlation, mask=mask, cmap=cmap,annot=True, vmax=1,vmin=-1, center=0,\n",
        "            square=True, linewidths=0.5, cbar_kws={\"shrink\": 0.5})"
      ],
      "metadata": {
        "colab": {
          "base_uri": "https://localhost:8080/",
          "height": 541
        },
        "id": "eChVMRYtkt9a",
        "outputId": "0aa44d69-8527-49a5-f642-d827fd943026"
      },
      "id": "eChVMRYtkt9a",
      "execution_count": null,
      "outputs": [
        {
          "output_type": "stream",
          "name": "stderr",
          "text": [
            "<ipython-input-41-109e02f123d5>:5: DeprecationWarning: `np.bool` is a deprecated alias for the builtin `bool`. To silence this warning, use `bool` by itself. Doing this will not modify any behavior and is safe. If you specifically wanted the numpy scalar type, use `np.bool_` here.\n",
            "Deprecated in NumPy 1.20; for more details and guidance: https://numpy.org/devdocs/release/1.20.0-notes.html#deprecations\n",
            "  mask = np.zeros_like(correlation, dtype=np.bool)\n"
          ]
        },
        {
          "output_type": "execute_result",
          "data": {
            "text/plain": [
              "<matplotlib.axes._subplots.AxesSubplot at 0x7f87332f6a90>"
            ]
          },
          "metadata": {},
          "execution_count": 41
        },
        {
          "output_type": "display_data",
          "data": {
            "text/plain": [
              "<Figure size 648x648 with 2 Axes>"
            ],
            "image/png": "[encoded data removed]"
          },
          "metadata": {}
        }
      ]
    }
  ],
  "metadata": {
    "kernelspec": {
      "display_name": "Python 3 (ipykernel)",
      "language": "python",
      "name": "python3"
    },
    "language_info": {
      "codemirror_mode": {
        "name": "ipython",
        "version": 3
      },
      "file_extension": ".py",
      "mimetype": "text/x-python",
      "name": "python",
      "nbconvert_exporter": "python",
      "pygments_lexer": "ipython3",
      "version": "3.9.12"
    },
    "colab": {
      "provenance": [],
      "include_colab_link": true
    }
  },
  "nbformat": 4,
  "nbformat_minor": 5
}