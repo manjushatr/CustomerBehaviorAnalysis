{
  "nbformat": 4,
  "nbformat_minor": 0,
  "metadata": {
    "colab": {
      "provenance": [],
      "authorship_tag": "ABX9TyMJiZcOcoRJx1Q4EiLtnuKl",
      "include_colab_link": true
    },
    "kernelspec": {
      "name": "python3",
      "display_name": "Python 3"
    },
    "language_info": {
      "name": "python"
    }
  },
  "cells": [
    {
      "cell_type": "markdown",
      "metadata": {
        "id": "view-in-github",
        "colab_type": "text"
      },
      "source": [
        "<a href=\"https://colab.research.google.com/github/manjushatr/CustomerBehaviorAnalysis/blob/main/lazypredictsample.ipynb\" target=\"_parent\"><img src=\"https://colab.research.google.com/assets/colab-badge.svg\" alt=\"Open In Colab\"/></a>"
      ]
    },
    {
      "cell_type": "markdown",
      "source": [
        "### Example of using lazypredict in classification and regression\n",
        "### Classification - with breastcancer dataset\n",
        "### Regressoion with diabetes dataset"
      ],
      "metadata": {
        "id": "4Rb_ts3OqqLo"
      }
    },
    {
      "cell_type": "code",
      "source": [
        "#pip install lazypredict"
      ],
      "metadata": {
        "colab": {
          "base_uri": "https://localhost:8080/"
        },
        "id": "1ut54Og3ovJT",
        "outputId": "0cdf4946-a5d4-4c74-f21d-c5a825879884"
      },
      "execution_count": 2,
      "outputs": [
        {
          "output_type": "stream",
          "name": "stdout",
          "text": [
            "Collecting lazypredict\n",
            "  Downloading lazypredict-0.2.12-py2.py3-none-any.whl (12 kB)\n",
            "Requirement already satisfied: click in /usr/local/lib/python3.10/dist-packages (from lazypredict) (8.1.3)\n",
            "Requirement already satisfied: scikit-learn in /usr/local/lib/python3.10/dist-packages (from lazypredict) (1.2.2)\n",
            "Requirement already satisfied: pandas in /usr/local/lib/python3.10/dist-packages (from lazypredict) (1.5.3)\n",
            "Requirement already satisfied: tqdm in /usr/local/lib/python3.10/dist-packages (from lazypredict) (4.65.0)\n",
            "Requirement already satisfied: joblib in /usr/local/lib/python3.10/dist-packages (from lazypredict) (1.2.0)\n",
            "Requirement already satisfied: lightgbm in /usr/local/lib/python3.10/dist-packages (from lazypredict) (3.3.5)\n",
            "Requirement already satisfied: xgboost in /usr/local/lib/python3.10/dist-packages (from lazypredict) (1.7.6)\n",
            "Requirement already satisfied: wheel in /usr/local/lib/python3.10/dist-packages (from lightgbm->lazypredict) (0.40.0)\n",
            "Requirement already satisfied: numpy in /usr/local/lib/python3.10/dist-packages (from lightgbm->lazypredict) (1.22.4)\n",
            "Requirement already satisfied: scipy in /usr/local/lib/python3.10/dist-packages (from lightgbm->lazypredict) (1.10.1)\n",
            "Requirement already satisfied: threadpoolctl>=2.0.0 in /usr/local/lib/python3.10/dist-packages (from scikit-learn->lazypredict) (3.1.0)\n",
            "Requirement already satisfied: python-dateutil>=2.8.1 in /usr/local/lib/python3.10/dist-packages (from pandas->lazypredict) (2.8.2)\n",
            "Requirement already satisfied: pytz>=2020.1 in /usr/local/lib/python3.10/dist-packages (from pandas->lazypredict) (2022.7.1)\n",
            "Requirement already satisfied: six>=1.5 in /usr/local/lib/python3.10/dist-packages (from python-dateutil>=2.8.1->pandas->lazypredict) (1.16.0)\n",
            "Installing collected packages: lazypredict\n",
            "Successfully installed lazypredict-0.2.12\n"
          ]
        }
      ]
    },
    {
      "cell_type": "markdown",
      "source": [
        "## Classification example using breast cancer dataset"
      ],
      "metadata": {
        "id": "NDpNth6HthJA"
      }
    },
    {
      "cell_type": "code",
      "execution_count": 3,
      "metadata": {
        "id": "qTtsOE8gokH3"
      },
      "outputs": [],
      "source": [
        "import lazypredict"
      ]
    },
    {
      "cell_type": "code",
      "source": [
        "from lazypredict.Supervised import LazyClassifier\n",
        "from sklearn.datasets import load_breast_cancer\n",
        "from sklearn.model_selection import train_test_split\n",
        "\n",
        "data = load_breast_cancer()\n",
        "X = data.data\n",
        "y= data.target\n",
        "\n",
        "X_train, X_test, y_train, y_test = train_test_split(X, y,test_size=.5,random_state =123)\n",
        "\n",
        "clf = LazyClassifier(verbose=0,ignore_warnings=True, custom_metric=None)\n",
        "models,predictions = clf.fit(X_train, X_test, y_train, y_test)\n",
        "\n",
        "print(models)\n"
      ],
      "metadata": {
        "colab": {
          "base_uri": "https://localhost:8080/"
        },
        "id": "jF-0z1TYo1UB",
        "outputId": "f636623b-1b9d-43bf-f766-fc74e31e1048"
      },
      "execution_count": 4,
      "outputs": [
        {
          "output_type": "stream",
          "name": "stderr",
          "text": [
            "100%|██████████| 29/29 [00:02<00:00, 13.84it/s]"
          ]
        },
        {
          "output_type": "stream",
          "name": "stdout",
          "text": [
            "                               Accuracy  Balanced Accuracy  ROC AUC  F1 Score  \\\n",
            "Model                                                                           \n",
            "LinearSVC                          0.99               0.99     0.99      0.99   \n",
            "Perceptron                         0.99               0.98     0.98      0.99   \n",
            "LogisticRegression                 0.99               0.98     0.98      0.99   \n",
            "SVC                                0.98               0.98     0.98      0.98   \n",
            "XGBClassifier                      0.98               0.98     0.98      0.98   \n",
            "LabelPropagation                   0.98               0.97     0.97      0.98   \n",
            "LabelSpreading                     0.98               0.97     0.97      0.98   \n",
            "BaggingClassifier                  0.97               0.97     0.97      0.97   \n",
            "PassiveAggressiveClassifier        0.98               0.97     0.97      0.98   \n",
            "SGDClassifier                      0.98               0.97     0.97      0.98   \n",
            "RandomForestClassifier             0.97               0.97     0.97      0.97   \n",
            "CalibratedClassifierCV             0.98               0.97     0.97      0.98   \n",
            "LGBMClassifier                     0.97               0.97     0.97      0.97   \n",
            "QuadraticDiscriminantAnalysis      0.96               0.97     0.97      0.97   \n",
            "ExtraTreesClassifier               0.97               0.96     0.96      0.97   \n",
            "RidgeClassifierCV                  0.97               0.96     0.96      0.97   \n",
            "RidgeClassifier                    0.97               0.96     0.96      0.97   \n",
            "AdaBoostClassifier                 0.96               0.96     0.96      0.96   \n",
            "KNeighborsClassifier               0.96               0.96     0.96      0.96   \n",
            "BernoulliNB                        0.95               0.95     0.95      0.95   \n",
            "LinearDiscriminantAnalysis         0.96               0.95     0.95      0.96   \n",
            "GaussianNB                         0.95               0.95     0.95      0.95   \n",
            "NuSVC                              0.95               0.94     0.94      0.95   \n",
            "ExtraTreeClassifier                0.94               0.93     0.93      0.94   \n",
            "NearestCentroid                    0.95               0.93     0.93      0.95   \n",
            "DecisionTreeClassifier             0.93               0.93     0.93      0.93   \n",
            "DummyClassifier                    0.64               0.50     0.50      0.50   \n",
            "\n",
            "                               Time Taken  \n",
            "Model                                      \n",
            "LinearSVC                            0.05  \n",
            "Perceptron                           0.02  \n",
            "LogisticRegression                   0.04  \n",
            "SVC                                  0.03  \n",
            "XGBClassifier                        0.20  \n",
            "LabelPropagation                     0.04  \n",
            "LabelSpreading                       0.03  \n",
            "BaggingClassifier                    0.07  \n",
            "PassiveAggressiveClassifier          0.02  \n",
            "SGDClassifier                        0.03  \n",
            "RandomForestClassifier               0.27  \n",
            "CalibratedClassifierCV               0.05  \n",
            "LGBMClassifier                       0.50  \n",
            "QuadraticDiscriminantAnalysis        0.04  \n",
            "ExtraTreesClassifier                 0.16  \n",
            "RidgeClassifierCV                    0.02  \n",
            "RidgeClassifier                      0.02  \n",
            "AdaBoostClassifier                   0.21  \n",
            "KNeighborsClassifier                 0.04  \n",
            "BernoulliNB                          0.02  \n",
            "LinearDiscriminantAnalysis           0.07  \n",
            "GaussianNB                           0.02  \n",
            "NuSVC                                0.03  \n",
            "ExtraTreeClassifier                  0.01  \n",
            "NearestCentroid                      0.02  \n",
            "DecisionTreeClassifier               0.02  \n",
            "DummyClassifier                      0.01  \n"
          ]
        },
        {
          "output_type": "stream",
          "name": "stderr",
          "text": [
            "\n"
          ]
        }
      ]
    },
    {
      "cell_type": "markdown",
      "source": [
        "## Regression Example using Diabetes dataset"
      ],
      "metadata": {
        "id": "Qm5Nn9z2tn_n"
      }
    },
    {
      "cell_type": "code",
      "source": [
        "from lazypredict.Supervised import LazyRegressor\n",
        "from sklearn.datasets import load_diabetes\n",
        "from sklearn import datasets\n",
        "from sklearn.utils import shuffle\n",
        "import numpy as np\n",
        "\n",
        "diabetes = load_diabetes()\n",
        "X, y = shuffle(diabetes.data, diabetes.target, random_state=13)\n",
        "X = X.astype(np.float32)\n",
        "\n",
        "offset = int(X.shape[0] * 0.9)\n",
        "\n",
        "X_train, y_train = X[:offset], y[:offset]\n",
        "X_test, y_test = X[offset:], y[offset:]\n",
        "\n",
        "reg = LazyRegressor(verbose=0, ignore_warnings=False, custom_metric=None)\n",
        "models, predictions = reg.fit(X_train, X_test, y_train, y_test)\n",
        "\n",
        "print(models)\n"
      ],
      "metadata": {
        "colab": {
          "base_uri": "https://localhost:8080/"
        },
        "id": "2UD57WB7o8nB",
        "outputId": "12043a4a-3426-40f5-8839-c2a130394717"
      },
      "execution_count": 7,
      "outputs": [
        {
          "output_type": "stream",
          "name": "stderr",
          "text": [
            "100%|██████████| 42/42 [00:07<00:00,  5.30it/s]"
          ]
        },
        {
          "output_type": "stream",
          "name": "stdout",
          "text": [
            "                               Adjusted R-Squared  R-Squared   RMSE  \\\n",
            "Model                                                                 \n",
            "ExtraTreesRegressor                          0.38       0.52  54.22   \n",
            "OrthogonalMatchingPursuitCV                  0.37       0.52  54.39   \n",
            "Lasso                                        0.37       0.52  54.46   \n",
            "LassoLars                                    0.37       0.52  54.46   \n",
            "LarsCV                                       0.37       0.51  54.54   \n",
            "LassoCV                                      0.37       0.51  54.59   \n",
            "PassiveAggressiveRegressor                   0.37       0.51  54.74   \n",
            "LassoLarsIC                                  0.36       0.51  54.83   \n",
            "SGDRegressor                                 0.36       0.51  54.85   \n",
            "RidgeCV                                      0.36       0.51  54.91   \n",
            "Ridge                                        0.36       0.51  54.91   \n",
            "BayesianRidge                                0.36       0.51  54.94   \n",
            "LassoLarsCV                                  0.36       0.51  54.96   \n",
            "LinearRegression                             0.36       0.51  54.96   \n",
            "TransformedTargetRegressor                   0.36       0.51  54.96   \n",
            "Lars                                         0.36       0.50  55.09   \n",
            "ElasticNetCV                                 0.36       0.50  55.20   \n",
            "HuberRegressor                               0.36       0.50  55.24   \n",
            "RandomForestRegressor                        0.35       0.50  55.48   \n",
            "AdaBoostRegressor                            0.34       0.49  55.88   \n",
            "LGBMRegressor                                0.34       0.49  55.93   \n",
            "HistGradientBoostingRegressor                0.34       0.49  56.08   \n",
            "PoissonRegressor                             0.32       0.48  56.61   \n",
            "ElasticNet                                   0.30       0.46  57.49   \n",
            "KNeighborsRegressor                          0.30       0.46  57.57   \n",
            "OrthogonalMatchingPursuit                    0.29       0.45  57.87   \n",
            "BaggingRegressor                             0.29       0.45  57.92   \n",
            "XGBRegressor                                 0.28       0.45  58.18   \n",
            "GradientBoostingRegressor                    0.25       0.42  59.70   \n",
            "TweedieRegressor                             0.24       0.42  59.81   \n",
            "GammaRegressor                               0.22       0.40  60.61   \n",
            "RANSACRegressor                              0.20       0.38  61.40   \n",
            "LinearSVR                                    0.12       0.32  64.66   \n",
            "ExtraTreeRegressor                           0.00       0.23  68.73   \n",
            "NuSVR                                       -0.07       0.18  71.06   \n",
            "SVR                                         -0.10       0.15  72.04   \n",
            "DummyRegressor                              -0.30      -0.00  78.37   \n",
            "QuantileRegressor                           -0.35      -0.04  79.84   \n",
            "DecisionTreeRegressor                       -0.47      -0.14  83.42   \n",
            "GaussianProcessRegressor                    -0.77      -0.37  91.51   \n",
            "MLPRegressor                                -1.87      -1.22 116.51   \n",
            "KernelRidge                                 -5.04      -3.67 169.06   \n",
            "\n",
            "                               Time Taken  \n",
            "Model                                      \n",
            "ExtraTreesRegressor                  0.21  \n",
            "OrthogonalMatchingPursuitCV          0.02  \n",
            "Lasso                                0.02  \n",
            "LassoLars                            0.02  \n",
            "LarsCV                               0.08  \n",
            "LassoCV                              0.08  \n",
            "PassiveAggressiveRegressor           0.01  \n",
            "LassoLarsIC                          0.02  \n",
            "SGDRegressor                         0.01  \n",
            "RidgeCV                              0.01  \n",
            "Ridge                                0.02  \n",
            "BayesianRidge                        0.05  \n",
            "LassoLarsCV                          0.03  \n",
            "LinearRegression                     0.01  \n",
            "TransformedTargetRegressor           0.01  \n",
            "Lars                                 0.05  \n",
            "ElasticNetCV                         0.06  \n",
            "HuberRegressor                       0.02  \n",
            "RandomForestRegressor                0.36  \n",
            "AdaBoostRegressor                    0.08  \n",
            "LGBMRegressor                        0.06  \n",
            "HistGradientBoostingRegressor        0.21  \n",
            "PoissonRegressor                     0.04  \n",
            "ElasticNet                           0.01  \n",
            "KNeighborsRegressor                  0.01  \n",
            "OrthogonalMatchingPursuit            0.02  \n",
            "BaggingRegressor                     0.05  \n",
            "XGBRegressor                         0.12  \n",
            "GradientBoostingRegressor            0.22  \n",
            "TweedieRegressor                     0.01  \n",
            "GammaRegressor                       0.01  \n",
            "RANSACRegressor                      0.20  \n",
            "LinearSVR                            0.01  \n",
            "ExtraTreeRegressor                   0.01  \n",
            "NuSVR                                0.03  \n",
            "SVR                                  0.03  \n",
            "DummyRegressor                       0.01  \n",
            "QuantileRegressor                    5.01  \n",
            "DecisionTreeRegressor                0.01  \n",
            "GaussianProcessRegressor             0.04  \n",
            "MLPRegressor                         0.56  \n",
            "KernelRidge                          0.03  \n"
          ]
        },
        {
          "output_type": "stream",
          "name": "stderr",
          "text": [
            "\n"
          ]
        }
      ]
    }
  ]
}