{
 "cells": [
  {
   "cell_type": "code",
   "execution_count": 2,
   "id": "b45f6c19",
   "metadata": {
    "id": "b45f6c19"
   },
   "outputs": [],
   "source": [
    "import pandas as pd\n",
    "import numpy as np\n",
    "import matplotlib.pyplot as py"
   ]
  },
  {
   "cell_type": "code",
   "execution_count": 3,
   "id": "029e8807",
   "metadata": {
    "id": "029e8807"
   },
   "outputs": [],
   "source": [
    "basketdf = pd.read_csv('Data\\customer_supermarket.csv', sep='\\t', index_col=0, decimal=',')"
   ]
  },
  {
   "cell_type": "code",
   "execution_count": 4,
   "id": "8e8085c9",
   "metadata": {
    "colab": {
     "base_uri": "https://localhost:8080/",
     "height": 363
    },
    "id": "8e8085c9",
    "outputId": "ad226d10-1970-4b23-b358-f349a2dbe291"
   },
   "outputs": [
    {
     "data": {
      "text/html": [
       "<div>\n",
       "<style scoped>\n",
       "    .dataframe tbody tr th:only-of-type {\n",
       "        vertical-align: middle;\n",
       "    }\n",
       "\n",
       "    .dataframe tbody tr th {\n",
       "        vertical-align: top;\n",
       "    }\n",
       "\n",
       "    .dataframe thead th {\n",
       "        text-align: right;\n",
       "    }\n",
       "</style>\n",
       "<table border=\"1\" class=\"dataframe\">\n",
       "  <thead>\n",
       "    <tr style=\"text-align: right;\">\n",
       "      <th></th>\n",
       "      <th>BasketID</th>\n",
       "      <th>BasketDate</th>\n",
       "      <th>Sale</th>\n",
       "      <th>CustomerID</th>\n",
       "      <th>CustomerCountry</th>\n",
       "      <th>ProdID</th>\n",
       "      <th>ProdDescr</th>\n",
       "      <th>Qta</th>\n",
       "    </tr>\n",
       "  </thead>\n",
       "  <tbody>\n",
       "    <tr>\n",
       "      <th>0</th>\n",
       "      <td>536365</td>\n",
       "      <td>01/12/10 08:26</td>\n",
       "      <td>2.55</td>\n",
       "      <td>17850.0</td>\n",
       "      <td>United Kingdom</td>\n",
       "      <td>85123A</td>\n",
       "      <td>WHITE HANGING HEART T-LIGHT HOLDER</td>\n",
       "      <td>6</td>\n",
       "    </tr>\n",
       "    <tr>\n",
       "      <th>1</th>\n",
       "      <td>536365</td>\n",
       "      <td>01/12/10 08:26</td>\n",
       "      <td>3.39</td>\n",
       "      <td>17850.0</td>\n",
       "      <td>United Kingdom</td>\n",
       "      <td>71053</td>\n",
       "      <td>WHITE METAL LANTERN</td>\n",
       "      <td>6</td>\n",
       "    </tr>\n",
       "    <tr>\n",
       "      <th>2</th>\n",
       "      <td>536365</td>\n",
       "      <td>01/12/10 08:26</td>\n",
       "      <td>2.75</td>\n",
       "      <td>17850.0</td>\n",
       "      <td>United Kingdom</td>\n",
       "      <td>84406B</td>\n",
       "      <td>CREAM CUPID HEARTS COAT HANGER</td>\n",
       "      <td>8</td>\n",
       "    </tr>\n",
       "    <tr>\n",
       "      <th>3</th>\n",
       "      <td>536365</td>\n",
       "      <td>01/12/10 08:26</td>\n",
       "      <td>3.39</td>\n",
       "      <td>17850.0</td>\n",
       "      <td>United Kingdom</td>\n",
       "      <td>84029G</td>\n",
       "      <td>KNITTED UNION FLAG HOT WATER BOTTLE</td>\n",
       "      <td>6</td>\n",
       "    </tr>\n",
       "    <tr>\n",
       "      <th>4</th>\n",
       "      <td>536365</td>\n",
       "      <td>01/12/10 08:26</td>\n",
       "      <td>3.39</td>\n",
       "      <td>17850.0</td>\n",
       "      <td>United Kingdom</td>\n",
       "      <td>84029E</td>\n",
       "      <td>RED WOOLLY HOTTIE WHITE HEART.</td>\n",
       "      <td>6</td>\n",
       "    </tr>\n",
       "    <tr>\n",
       "      <th>5</th>\n",
       "      <td>536365</td>\n",
       "      <td>01/12/10 08:26</td>\n",
       "      <td>7.65</td>\n",
       "      <td>17850.0</td>\n",
       "      <td>United Kingdom</td>\n",
       "      <td>22752</td>\n",
       "      <td>SET 7 BABUSHKA NESTING BOXES</td>\n",
       "      <td>2</td>\n",
       "    </tr>\n",
       "    <tr>\n",
       "      <th>6</th>\n",
       "      <td>536365</td>\n",
       "      <td>01/12/10 08:26</td>\n",
       "      <td>4.25</td>\n",
       "      <td>17850.0</td>\n",
       "      <td>United Kingdom</td>\n",
       "      <td>21730</td>\n",
       "      <td>GLASS STAR FROSTED T-LIGHT HOLDER</td>\n",
       "      <td>6</td>\n",
       "    </tr>\n",
       "    <tr>\n",
       "      <th>7</th>\n",
       "      <td>536366</td>\n",
       "      <td>01/12/10 08:28</td>\n",
       "      <td>1.85</td>\n",
       "      <td>17850.0</td>\n",
       "      <td>United Kingdom</td>\n",
       "      <td>22633</td>\n",
       "      <td>HAND WARMER UNION JACK</td>\n",
       "      <td>6</td>\n",
       "    </tr>\n",
       "    <tr>\n",
       "      <th>8</th>\n",
       "      <td>536366</td>\n",
       "      <td>01/12/10 08:28</td>\n",
       "      <td>1.85</td>\n",
       "      <td>17850.0</td>\n",
       "      <td>United Kingdom</td>\n",
       "      <td>22632</td>\n",
       "      <td>HAND WARMER RED POLKA DOT</td>\n",
       "      <td>6</td>\n",
       "    </tr>\n",
       "    <tr>\n",
       "      <th>9</th>\n",
       "      <td>536368</td>\n",
       "      <td>01/12/10 08:34</td>\n",
       "      <td>4.25</td>\n",
       "      <td>13047.0</td>\n",
       "      <td>United Kingdom</td>\n",
       "      <td>22960</td>\n",
       "      <td>JAM MAKING SET WITH JARS</td>\n",
       "      <td>6</td>\n",
       "    </tr>\n",
       "  </tbody>\n",
       "</table>\n",
       "</div>"
      ],
      "text/plain": [
       "  BasketID      BasketDate  Sale CustomerID CustomerCountry  ProdID  \\\n",
       "0   536365  01/12/10 08:26  2.55    17850.0  United Kingdom  85123A   \n",
       "1   536365  01/12/10 08:26  3.39    17850.0  United Kingdom   71053   \n",
       "2   536365  01/12/10 08:26  2.75    17850.0  United Kingdom  84406B   \n",
       "3   536365  01/12/10 08:26  3.39    17850.0  United Kingdom  84029G   \n",
       "4   536365  01/12/10 08:26  3.39    17850.0  United Kingdom  84029E   \n",
       "5   536365  01/12/10 08:26  7.65    17850.0  United Kingdom   22752   \n",
       "6   536365  01/12/10 08:26  4.25    17850.0  United Kingdom   21730   \n",
       "7   536366  01/12/10 08:28  1.85    17850.0  United Kingdom   22633   \n",
       "8   536366  01/12/10 08:28  1.85    17850.0  United Kingdom   22632   \n",
       "9   536368  01/12/10 08:34  4.25    13047.0  United Kingdom   22960   \n",
       "\n",
       "                             ProdDescr  Qta  \n",
       "0   WHITE HANGING HEART T-LIGHT HOLDER    6  \n",
       "1                  WHITE METAL LANTERN    6  \n",
       "2       CREAM CUPID HEARTS COAT HANGER    8  \n",
       "3  KNITTED UNION FLAG HOT WATER BOTTLE    6  \n",
       "4       RED WOOLLY HOTTIE WHITE HEART.    6  \n",
       "5         SET 7 BABUSHKA NESTING BOXES    2  \n",
       "6    GLASS STAR FROSTED T-LIGHT HOLDER    6  \n",
       "7               HAND WARMER UNION JACK    6  \n",
       "8            HAND WARMER RED POLKA DOT    6  \n",
       "9             JAM MAKING SET WITH JARS    6  "
      ]
     },
     "execution_count": 4,
     "metadata": {},
     "output_type": "execute_result"
    }
   ],
   "source": [
    "basketdf.head(10)"
   ]
  },
  {
   "cell_type": "code",
   "execution_count": 5,
   "id": "d3609a93",
   "metadata": {
    "colab": {
     "base_uri": "https://localhost:8080/"
    },
    "id": "d3609a93",
    "outputId": "939548e9-2cab-43e0-e6b6-c68fb003f43e"
   },
   "outputs": [
    {
     "name": "stdout",
     "output_type": "stream",
     "text": [
      "<class 'pandas.core.frame.DataFrame'>\n",
      "Int64Index: 471910 entries, 0 to 541909\n",
      "Data columns (total 8 columns):\n",
      " #   Column           Non-Null Count   Dtype  \n",
      "---  ------           --------------   -----  \n",
      " 0   BasketID         471910 non-null  object \n",
      " 1   BasketDate       471910 non-null  object \n",
      " 2   Sale             471910 non-null  float64\n",
      " 3   CustomerID       406830 non-null  object \n",
      " 4   CustomerCountry  471910 non-null  object \n",
      " 5   ProdID           471910 non-null  object \n",
      " 6   ProdDescr        471157 non-null  object \n",
      " 7   Qta              471910 non-null  int64  \n",
      "dtypes: float64(1), int64(1), object(6)\n",
      "memory usage: 32.4+ MB\n"
     ]
    }
   ],
   "source": [
    "basketdf.info()"
   ]
  },
  {
   "cell_type": "code",
   "execution_count": 6,
   "id": "89eb9a1e",
   "metadata": {
    "colab": {
     "base_uri": "https://localhost:8080/"
    },
    "id": "89eb9a1e",
    "outputId": "7806a5a7-d583-44ca-b318-6504408b3e00"
   },
   "outputs": [
    {
     "data": {
      "text/plain": [
       "(471910, 8)"
      ]
     },
     "execution_count": 6,
     "metadata": {},
     "output_type": "execute_result"
    }
   ],
   "source": [
    "basketdf.shape"
   ]
  },
  {
   "cell_type": "markdown",
   "id": "25a59425",
   "metadata": {
    "id": "25a59425"
   },
   "source": [
    "There are object and numeric datas in the dataset. To analyse the customers on amount spend in transactions an amount column is to be added. The basket date is to be converted to date time format, since it is object type "
   ]
  },
  {
   "cell_type": "code",
   "execution_count": 7,
   "id": "d15e1f1f",
   "metadata": {
    "id": "d15e1f1f"
   },
   "outputs": [],
   "source": [
    "# convert dates in a suitable format\n",
    "basketdf['BasketDate'] = pd.to_datetime(basketdf['BasketDate'], dayfirst=True)"
   ]
  },
  {
   "cell_type": "code",
   "execution_count": 8,
   "id": "f7c6117f",
   "metadata": {
    "id": "f7c6117f"
   },
   "outputs": [],
   "source": [
    "# add 'Amount' attribute, useful for some additional features on customer's purchase behaviour\n",
    "basketdf['Amount'] = basketdf['Sale'] * basketdf['Qta']"
   ]
  },
  {
   "cell_type": "code",
   "execution_count": 9,
   "id": "d46af1ce",
   "metadata": {
    "colab": {
     "base_uri": "https://localhost:8080/"
    },
    "id": "d46af1ce",
    "outputId": "65089a29-ddc8-40bc-fdd9-47367c5f674a"
   },
   "outputs": [
    {
     "name": "stdout",
     "output_type": "stream",
     "text": [
      "<class 'pandas.core.frame.DataFrame'>\n",
      "Int64Index: 471910 entries, 0 to 541909\n",
      "Data columns (total 9 columns):\n",
      " #   Column           Non-Null Count   Dtype         \n",
      "---  ------           --------------   -----         \n",
      " 0   BasketID         471910 non-null  object        \n",
      " 1   BasketDate       471910 non-null  datetime64[ns]\n",
      " 2   Sale             471910 non-null  float64       \n",
      " 3   CustomerID       406830 non-null  object        \n",
      " 4   CustomerCountry  471910 non-null  object        \n",
      " 5   ProdID           471910 non-null  object        \n",
      " 6   ProdDescr        471157 non-null  object        \n",
      " 7   Qta              471910 non-null  int64         \n",
      " 8   Amount           471910 non-null  float64       \n",
      "dtypes: datetime64[ns](1), float64(2), int64(1), object(5)\n",
      "memory usage: 36.0+ MB\n"
     ]
    }
   ],
   "source": [
    "basketdf.info()"
   ]
  },
  {
   "cell_type": "code",
   "execution_count": 10,
   "id": "ff4e1c48",
   "metadata": {
    "colab": {
     "base_uri": "https://localhost:8080/"
    },
    "id": "ff4e1c48",
    "outputId": "7f123611-679b-47ff-8462-dff0c3f8e11f"
   },
   "outputs": [
    {
     "data": {
      "text/plain": [
       "(471910, 9)"
      ]
     },
     "execution_count": 10,
     "metadata": {},
     "output_type": "execute_result"
    }
   ],
   "source": [
    "basketdf.shape"
   ]
  },
  {
   "cell_type": "code",
   "execution_count": 11,
   "id": "68db5434",
   "metadata": {
    "colab": {
     "base_uri": "https://localhost:8080/"
    },
    "id": "68db5434",
    "outputId": "e7099efe-e717-4db7-f654-8c165cf273e8"
   },
   "outputs": [
    {
     "data": {
      "text/plain": [
       "BasketID               0\n",
       "BasketDate             0\n",
       "Sale                   0\n",
       "CustomerID         65080\n",
       "CustomerCountry        0\n",
       "ProdID                 0\n",
       "ProdDescr            753\n",
       "Qta                    0\n",
       "Amount                 0\n",
       "dtype: int64"
      ]
     },
     "execution_count": 11,
     "metadata": {},
     "output_type": "execute_result"
    }
   ],
   "source": [
    "basketdf.isnull().sum()"
   ]
  },
  {
   "cell_type": "markdown",
   "id": "9e246550",
   "metadata": {
    "id": "9e246550"
   },
   "source": [
    "ProdDescr and CustomerId columns have null values. The prodDescr is included in the customerId. Counting all the rows where both attributes are null"
   ]
  },
  {
   "cell_type": "code",
   "execution_count": 12,
   "id": "621ab9d5",
   "metadata": {
    "colab": {
     "base_uri": "https://localhost:8080/"
    },
    "id": "621ab9d5",
    "outputId": "4efe25b9-dfb0-42a5-a9c4-50948d876994"
   },
   "outputs": [
    {
     "data": {
      "text/plain": [
       "BasketID           753\n",
       "BasketDate         753\n",
       "Sale               753\n",
       "CustomerID           0\n",
       "CustomerCountry    753\n",
       "ProdID             753\n",
       "ProdDescr            0\n",
       "Qta                753\n",
       "Amount             753\n",
       "dtype: int64"
      ]
     },
     "execution_count": 12,
     "metadata": {},
     "output_type": "execute_result"
    }
   ],
   "source": [
    "basketdf[basketdf['CustomerID'].isnull() & basketdf['ProdDescr'].isnull()].count()"
   ]
  },
  {
   "cell_type": "code",
   "execution_count": 13,
   "id": "66305c98",
   "metadata": {
    "colab": {
     "base_uri": "https://localhost:8080/",
     "height": 143
    },
    "id": "66305c98",
    "outputId": "0f416076-37e0-4527-956c-78406644765f"
   },
   "outputs": [
    {
     "data": {
      "text/html": [
       "<div>\n",
       "<style scoped>\n",
       "    .dataframe tbody tr th:only-of-type {\n",
       "        vertical-align: middle;\n",
       "    }\n",
       "\n",
       "    .dataframe tbody tr th {\n",
       "        vertical-align: top;\n",
       "    }\n",
       "\n",
       "    .dataframe thead th {\n",
       "        text-align: right;\n",
       "    }\n",
       "</style>\n",
       "<table border=\"1\" class=\"dataframe\">\n",
       "  <thead>\n",
       "    <tr style=\"text-align: right;\">\n",
       "      <th></th>\n",
       "      <th>count</th>\n",
       "      <th>mean</th>\n",
       "      <th>std</th>\n",
       "      <th>min</th>\n",
       "      <th>25%</th>\n",
       "      <th>50%</th>\n",
       "      <th>75%</th>\n",
       "      <th>max</th>\n",
       "    </tr>\n",
       "  </thead>\n",
       "  <tbody>\n",
       "    <tr>\n",
       "      <th>Sale</th>\n",
       "      <td>471910.0</td>\n",
       "      <td>4.030945</td>\n",
       "      <td>83.769380</td>\n",
       "      <td>-11062.06</td>\n",
       "      <td>1.25</td>\n",
       "      <td>2.08</td>\n",
       "      <td>3.75</td>\n",
       "      <td>38970.0</td>\n",
       "    </tr>\n",
       "    <tr>\n",
       "      <th>Qta</th>\n",
       "      <td>471910.0</td>\n",
       "      <td>10.716533</td>\n",
       "      <td>231.355136</td>\n",
       "      <td>-80995.00</td>\n",
       "      <td>1.00</td>\n",
       "      <td>4.00</td>\n",
       "      <td>12.00</td>\n",
       "      <td>80995.0</td>\n",
       "    </tr>\n",
       "    <tr>\n",
       "      <th>Amount</th>\n",
       "      <td>471910.0</td>\n",
       "      <td>19.030258</td>\n",
       "      <td>400.925995</td>\n",
       "      <td>-168469.60</td>\n",
       "      <td>3.75</td>\n",
       "      <td>10.08</td>\n",
       "      <td>17.70</td>\n",
       "      <td>168469.6</td>\n",
       "    </tr>\n",
       "  </tbody>\n",
       "</table>\n",
       "</div>"
      ],
      "text/plain": [
       "           count       mean         std        min   25%    50%    75%  \\\n",
       "Sale    471910.0   4.030945   83.769380  -11062.06  1.25   2.08   3.75   \n",
       "Qta     471910.0  10.716533  231.355136  -80995.00  1.00   4.00  12.00   \n",
       "Amount  471910.0  19.030258  400.925995 -168469.60  3.75  10.08  17.70   \n",
       "\n",
       "             max  \n",
       "Sale     38970.0  \n",
       "Qta      80995.0  \n",
       "Amount  168469.6  "
      ]
     },
     "execution_count": 13,
     "metadata": {},
     "output_type": "execute_result"
    }
   ],
   "source": [
    "basketdf.describe().T"
   ]
  },
  {
   "cell_type": "markdown",
   "id": "4b4ac751",
   "metadata": {
    "id": "4b4ac751"
   },
   "source": [
    "There are negative values in sale, qta and hence amount. Hence analysing each feature"
   ]
  },
  {
   "cell_type": "code",
   "execution_count": 14,
   "id": "de3bce51",
   "metadata": {
    "colab": {
     "base_uri": "https://localhost:8080/"
    },
    "id": "de3bce51",
    "outputId": "38a6fa92-133f-42e6-ba69-1ef957e1bf11"
   },
   "outputs": [
    {
     "data": {
      "text/plain": [
       "count    24627.000000\n",
       "mean        19.162302\n",
       "std         28.635400\n",
       "min          1.000000\n",
       "25%          2.000000\n",
       "50%         11.000000\n",
       "75%         24.000000\n",
       "max        542.000000\n",
       "Name: BasketID, dtype: float64"
      ]
     },
     "execution_count": 14,
     "metadata": {},
     "output_type": "execute_result"
    }
   ],
   "source": [
    "#BasketID\n",
    "basketcounts = basketdf['BasketID'].value_counts()\n",
    "basketcounts.describe()"
   ]
  },
  {
   "cell_type": "markdown",
   "id": "1dc57cce",
   "metadata": {
    "id": "1dc57cce"
   },
   "source": [
    "The number of distinct baskets is 24627"
   ]
  },
  {
   "cell_type": "markdown",
   "id": "f03d8746",
   "metadata": {
    "id": "f03d8746"
   },
   "source": [
    "# Quantity"
   ]
  },
  {
   "cell_type": "markdown",
   "id": "6f00ed61",
   "metadata": {
    "id": "6f00ed61"
   },
   "source": [
    "counting the negative values"
   ]
  },
  {
   "cell_type": "code",
   "execution_count": 15,
   "id": "9813ff76",
   "metadata": {
    "colab": {
     "base_uri": "https://localhost:8080/"
    },
    "id": "9813ff76",
    "outputId": "1bf9fe51-ba35-4a13-c9ed-4058ea4b98da"
   },
   "outputs": [
    {
     "data": {
      "text/plain": [
       "BasketID           9752\n",
       "BasketDate         9752\n",
       "Sale               9752\n",
       "CustomerID         8905\n",
       "CustomerCountry    9752\n",
       "ProdID             9752\n",
       "ProdDescr          9305\n",
       "Qta                9752\n",
       "Amount             9752\n",
       "dtype: int64"
      ]
     },
     "execution_count": 15,
     "metadata": {},
     "output_type": "execute_result"
    }
   ],
   "source": [
    "# rows with negative qta\n",
    "qtanegqta = basketdf['Qta'] < 0\n",
    "basketdf[qtanegqta].count()"
   ]
  },
  {
   "cell_type": "markdown",
   "id": "7e3e73ce",
   "metadata": {
    "id": "7e3e73ce"
   },
   "source": [
    "# Cost"
   ]
  },
  {
   "cell_type": "markdown",
   "id": "03ec1997",
   "metadata": {
    "id": "03ec1997"
   },
   "source": [
    "Rows with zero cost"
   ]
  },
  {
   "cell_type": "code",
   "execution_count": 16,
   "id": "f3bb52f5",
   "metadata": {
    "colab": {
     "base_uri": "https://localhost:8080/"
    },
    "id": "f3bb52f5",
    "outputId": "e6f077a4-f05c-4c1b-a63f-733439bf00d9"
   },
   "outputs": [
    {
     "data": {
      "text/plain": [
       "BasketID           1279\n",
       "BasketDate         1279\n",
       "Sale               1279\n",
       "CustomerID           40\n",
       "CustomerCountry    1279\n",
       "ProdID             1279\n",
       "ProdDescr           526\n",
       "Qta                1279\n",
       "Amount             1279\n",
       "dtype: int64"
      ]
     },
     "execution_count": 16,
     "metadata": {},
     "output_type": "execute_result"
    }
   ],
   "source": [
    "zerocost = basketdf['Sale'] == 0\n",
    "basketdf[zerocost].count()"
   ]
  },
  {
   "cell_type": "markdown",
   "id": "680ffeee",
   "metadata": {
    "id": "680ffeee"
   },
   "source": [
    "There are 1279 rows with zero cost"
   ]
  },
  {
   "cell_type": "code",
   "execution_count": 17,
   "id": "eee8668d",
   "metadata": {
    "colab": {
     "base_uri": "https://localhost:8080/"
    },
    "id": "eee8668d",
    "outputId": "e5725807-ba23-4b54-8f30-8e764ac3f11a"
   },
   "outputs": [
    {
     "data": {
      "text/plain": [
       "BasketID           10363\n",
       "BasketDate         10363\n",
       "Sale               10363\n",
       "CustomerID          8945\n",
       "CustomerCountry    10363\n",
       "ProdID             10363\n",
       "ProdDescr           9610\n",
       "Qta                10363\n",
       "Amount             10363\n",
       "dtype: int64"
      ]
     },
     "execution_count": 17,
     "metadata": {},
     "output_type": "execute_result"
    }
   ],
   "source": [
    "basketdf[qtanegqta | zerocost].count()"
   ]
  },
  {
   "cell_type": "markdown",
   "id": "73bb82b1",
   "metadata": {
    "id": "73bb82b1"
   },
   "source": [
    "These are not relevent for our project so we decided to drop them. "
   ]
  },
  {
   "cell_type": "code",
   "execution_count": 18,
   "id": "78e7d235",
   "metadata": {
    "colab": {
     "base_uri": "https://localhost:8080/"
    },
    "id": "78e7d235",
    "outputId": "4a443e32-5eb0-406b-99b9-c2ffd7d9c5ef"
   },
   "outputs": [
    {
     "name": "stderr",
     "output_type": "stream",
     "text": [
      "C:\\Users\\Manjusha\\AppData\\Local\\Temp\\ipykernel_15644\\722378982.py:4: UserWarning: Boolean Series key will be reindexed to match DataFrame index.\n",
      "  basketdf.drop(basketdf[zerocost].index, inplace=True)\n"
     ]
    }
   ],
   "source": [
    "# drop rows with negative quantity\n",
    "basketdf.drop(basketdf[qtanegqta].index, inplace=True)\n",
    "# drop rows with null cost\n",
    "basketdf.drop(basketdf[zerocost].index, inplace=True)"
   ]
  },
  {
   "cell_type": "code",
   "execution_count": 19,
   "id": "162f93a7",
   "metadata": {
    "colab": {
     "base_uri": "https://localhost:8080/"
    },
    "id": "162f93a7",
    "outputId": "71e35ee4-9e63-4317-cfc7-1eec69e6a815"
   },
   "outputs": [
    {
     "data": {
      "text/plain": [
       "(461547, 9)"
      ]
     },
     "execution_count": 19,
     "metadata": {},
     "output_type": "execute_result"
    }
   ],
   "source": [
    "basketdf.shape"
   ]
  },
  {
   "cell_type": "code",
   "execution_count": 20,
   "id": "f8adf284",
   "metadata": {
    "colab": {
     "base_uri": "https://localhost:8080/",
     "height": 344
    },
    "id": "f8adf284",
    "outputId": "57dd6d7b-3445-4f66-aaae-92400962a877"
   },
   "outputs": [
    {
     "data": {
      "text/plain": [
       "[]"
      ]
     },
     "execution_count": 20,
     "metadata": {},
     "output_type": "execute_result"
    },
    {
     "data": {
      "image/png": "[encoded data removed]",
      "text/plain": [
       "<Figure size 640x480 with 1 Axes>"
      ]
     },
     "metadata": {},
     "output_type": "display_data"
    }
   ],
   "source": [
    "tran = basketdf.groupby(pd.Grouper(key='BasketDate', freq='M'))['BasketID'].count()\n",
    "tran.index = tran.index.strftime('%b %Y')\n",
    "tranplt = tran.plot(kind='bar', title='Number of transactions per month', rot=45)\n",
    "\n",
    "tranplt.set_ylabel('Transactions')\n",
    "tranplt.plot()"
   ]
  },
  {
   "cell_type": "markdown",
   "id": "o4PDnNpdXeyh",
   "metadata": {
    "id": "o4PDnNpdXeyh"
   },
   "source": [
    "Total number of transations by each customer"
   ]
  },
  {
   "cell_type": "code",
   "execution_count": 21,
   "id": "497d90d4",
   "metadata": {
    "colab": {
     "base_uri": "https://localhost:8080/",
     "height": 439
    },
    "id": "497d90d4",
    "outputId": "cd89f2c1-d7ff-47a0-a26c-f232bed7efe1"
   },
   "outputs": [
    {
     "name": "stdout",
     "output_type": "stream",
     "text": [
      "count    4338.000000\n",
      "mean       91.720839\n",
      "std       228.785054\n",
      "min         1.000000\n",
      "25%        17.000000\n",
      "50%        41.000000\n",
      "75%       100.000000\n",
      "max      7847.000000\n",
      "Name: CustomerID, dtype: float64\n"
     ]
    },
    {
     "data": {
      "text/plain": [
       "Text(0, 0.5, 'Transactions')"
      ]
     },
     "execution_count": 21,
     "metadata": {},
     "output_type": "execute_result"
    },
    {
     "data": {
      "image/png": "[encoded data removed]",
      "text/plain": [
       "<Figure size 640x480 with 1 Axes>"
      ]
     },
     "metadata": {},
     "output_type": "display_data"
    }
   ],
   "source": [
    "cust_counts = basketdf['CustomerID'].value_counts()\n",
    "print(cust_counts.describe())\n",
    "custplot = cust_counts.plot.box()\n",
    "custplot.set_ylabel(\"Transactions\")"
   ]
  },
  {
   "cell_type": "code",
   "execution_count": 22,
   "id": "7f318a7f",
   "metadata": {
    "colab": {
     "base_uri": "https://localhost:8080/"
    },
    "id": "7f318a7f",
    "outputId": "dad28c93-72bc-49aa-97a9-405087fb1d3d"
   },
   "outputs": [
    {
     "data": {
      "text/plain": [
       "63662"
      ]
     },
     "execution_count": 22,
     "metadata": {},
     "output_type": "execute_result"
    }
   ],
   "source": [
    "basketdf['CustomerID'].isnull().sum()"
   ]
  },
  {
   "cell_type": "markdown",
   "id": "ce94611a",
   "metadata": {
    "id": "ce94611a"
   },
   "source": [
    "Drop transactions with null CustomerID"
   ]
  },
  {
   "cell_type": "code",
   "execution_count": 23,
   "id": "0d8b7b09",
   "metadata": {
    "id": "0d8b7b09"
   },
   "outputs": [],
   "source": [
    "# drop rows with null customerID\n",
    "basketdf.dropna(subset=['CustomerID'], inplace=True)\n",
    "\n",
    "# export cleaned dataset for further analysis\n",
    "basketdf.to_csv(r'clean_basketdf.csv', index=True, header=True)"
   ]
  },
  {
   "cell_type": "markdown",
   "id": "dfa2c8f8",
   "metadata": {
    "id": "dfa2c8f8"
   },
   "source": [
    "Customer Country"
   ]
  },
  {
   "cell_type": "code",
   "execution_count": 24,
   "id": "2691a945",
   "metadata": {
    "colab": {
     "base_uri": "https://localhost:8080/",
     "height": 394
    },
    "id": "2691a945",
    "outputId": "55e4bbb7-de9b-4863-a029-c12e58a31745"
   },
   "outputs": [
    {
     "data": {
      "text/plain": [
       "<AxesSubplot: xlabel='CustomerCountry'>"
      ]
     },
     "execution_count": 24,
     "metadata": {},
     "output_type": "execute_result"
    },
    {
     "data": {
      "image/png": "[encoded data removed]",
      "text/plain": [
       "<Figure size 640x480 with 1 Axes>"
      ]
     },
     "metadata": {},
     "output_type": "display_data"
    }
   ],
   "source": [
    "cc_counts = basketdf.groupby(['CustomerCountry', 'CustomerID']).size().groupby(level=0).size()\n",
    "cc_counts.plot.bar()"
   ]
  },
  {
   "cell_type": "markdown",
   "id": "9c9aaf17",
   "metadata": {
    "id": "9c9aaf17"
   },
   "source": [
    "Majority customers are from UK"
   ]
  },
  {
   "cell_type": "markdown",
   "id": "YtDgNtOcef9p",
   "metadata": {
    "id": "YtDgNtOcef9p"
   },
   "source": [
    "## *To find out best and worst seller*"
   ]
  },
  {
   "cell_type": "code",
   "execution_count": 25,
   "id": "Y48hGmaxUG7V",
   "metadata": {
    "id": "Y48hGmaxUG7V"
   },
   "outputs": [],
   "source": [
    "pid_counts = basketdf['ProdID'].value_counts()"
   ]
  },
  {
   "cell_type": "code",
   "execution_count": 26,
   "id": "hIPBfYl2X4b6",
   "metadata": {
    "colab": {
     "base_uri": "https://localhost:8080/"
    },
    "id": "hIPBfYl2X4b6",
    "outputId": "3188eed0-2e17-4cb3-ef55-d66151c0d659"
   },
   "outputs": [
    {
     "name": "stdout",
     "output_type": "stream",
     "text": [
      "Best seller: 85123A (WHITE HANGING HEART T-LIGHT HOLDER)\n"
     ]
    }
   ],
   "source": [
    "best_seller_id = pid_counts.index[0]\n",
    "best_seller_descr = basketdf.loc[basketdf['ProdID'] == best_seller_id]['ProdDescr'].iloc[0]\n",
    "print(\"Best seller: {} ({})\".format(str(best_seller_id), str(best_seller_descr)))"
   ]
  },
  {
   "cell_type": "code",
   "execution_count": 27,
   "id": "JqRcpmryYLO-",
   "metadata": {
    "colab": {
     "base_uri": "https://localhost:8080/"
    },
    "id": "JqRcpmryYLO-",
    "outputId": "6f9a950d-9510-4073-f9d8-ea51fcb85689"
   },
   "outputs": [
    {
     "name": "stdout",
     "output_type": "stream",
     "text": [
      "Worst seller: 23843 (PAPER CRAFT , LITTLE BIRDIE)\n"
     ]
    }
   ],
   "source": [
    "worst_seller_id = pid_counts.index[-1]\n",
    "worst_seller_descr = basketdf.loc[basketdf['ProdID'] == worst_seller_id]['ProdDescr'].iloc[0]\n",
    "print(\"Worst seller: {} ({})\".format(str(worst_seller_id), str(worst_seller_descr)))"
   ]
  },
  {
   "cell_type": "markdown",
   "id": "odn-JTkEeyxP",
   "metadata": {
    "id": "odn-JTkEeyxP"
   },
   "source": [
    "## *Correlation*"
   ]
  },
  {
   "cell_type": "markdown",
   "id": "DwqNB9pgfVe5",
   "metadata": {
    "id": "DwqNB9pgfVe5"
   },
   "source": [
    "To calculate pairwise correlation, we transformed some attributes into categorical ones. "
   ]
  },
  {
   "cell_type": "code",
   "execution_count": 28,
   "id": "o3XL3JisZz4l",
   "metadata": {
    "id": "o3XL3JisZz4l"
   },
   "outputs": [],
   "source": [
    "basketdf_corr = basketdf.copy()\n",
    "basketdf_corr=basketdf_corr.drop(['ProdDescr'],axis=1)\n",
    "basketdf_corr['BasketID'] = basketdf_corr['BasketID'].astype('category').cat.codes\n",
    "basketdf_corr['BasketDate'] = basketdf_corr['BasketDate'].astype('category').cat.codes\n",
    "basketdf_corr['CustomerID'] = basketdf_corr['CustomerID'].astype('category').cat.codes\n",
    "basketdf_corr['CustomerCountry'] = basketdf_corr['CustomerCountry'].astype('category').cat.codes"
   ]
  },
  {
   "cell_type": "code",
   "execution_count": 29,
   "id": "4jo19w25bel2",
   "metadata": {
    "colab": {
     "base_uri": "https://localhost:8080/",
     "height": 206
    },
    "id": "4jo19w25bel2",
    "outputId": "49b5821f-d2e4-44a2-dcd1-490789ae2ef7"
   },
   "outputs": [
    {
     "data": {
      "text/html": [
       "<div>\n",
       "<style scoped>\n",
       "    .dataframe tbody tr th:only-of-type {\n",
       "        vertical-align: middle;\n",
       "    }\n",
       "\n",
       "    .dataframe tbody tr th {\n",
       "        vertical-align: top;\n",
       "    }\n",
       "\n",
       "    .dataframe thead th {\n",
       "        text-align: right;\n",
       "    }\n",
       "</style>\n",
       "<table border=\"1\" class=\"dataframe\">\n",
       "  <thead>\n",
       "    <tr style=\"text-align: right;\">\n",
       "      <th></th>\n",
       "      <th>BasketID</th>\n",
       "      <th>BasketDate</th>\n",
       "      <th>Sale</th>\n",
       "      <th>CustomerID</th>\n",
       "      <th>CustomerCountry</th>\n",
       "      <th>ProdID</th>\n",
       "      <th>Qta</th>\n",
       "      <th>Amount</th>\n",
       "    </tr>\n",
       "  </thead>\n",
       "  <tbody>\n",
       "    <tr>\n",
       "      <th>541905</th>\n",
       "      <td>18531</td>\n",
       "      <td>17281</td>\n",
       "      <td>2.10</td>\n",
       "      <td>271</td>\n",
       "      <td>13</td>\n",
       "      <td>22899</td>\n",
       "      <td>6</td>\n",
       "      <td>12.60</td>\n",
       "    </tr>\n",
       "    <tr>\n",
       "      <th>541906</th>\n",
       "      <td>18531</td>\n",
       "      <td>17281</td>\n",
       "      <td>4.15</td>\n",
       "      <td>271</td>\n",
       "      <td>13</td>\n",
       "      <td>23254</td>\n",
       "      <td>4</td>\n",
       "      <td>16.60</td>\n",
       "    </tr>\n",
       "    <tr>\n",
       "      <th>541907</th>\n",
       "      <td>18531</td>\n",
       "      <td>17281</td>\n",
       "      <td>4.15</td>\n",
       "      <td>271</td>\n",
       "      <td>13</td>\n",
       "      <td>23255</td>\n",
       "      <td>4</td>\n",
       "      <td>16.60</td>\n",
       "    </tr>\n",
       "    <tr>\n",
       "      <th>541908</th>\n",
       "      <td>18531</td>\n",
       "      <td>17281</td>\n",
       "      <td>4.95</td>\n",
       "      <td>271</td>\n",
       "      <td>13</td>\n",
       "      <td>22138</td>\n",
       "      <td>3</td>\n",
       "      <td>14.85</td>\n",
       "    </tr>\n",
       "    <tr>\n",
       "      <th>541909</th>\n",
       "      <td>18531</td>\n",
       "      <td>17281</td>\n",
       "      <td>18.00</td>\n",
       "      <td>271</td>\n",
       "      <td>13</td>\n",
       "      <td>POST</td>\n",
       "      <td>1</td>\n",
       "      <td>18.00</td>\n",
       "    </tr>\n",
       "  </tbody>\n",
       "</table>\n",
       "</div>"
      ],
      "text/plain": [
       "        BasketID  BasketDate   Sale  CustomerID  CustomerCountry ProdID  Qta  \\\n",
       "541905     18531       17281   2.10         271               13  22899    6   \n",
       "541906     18531       17281   4.15         271               13  23254    4   \n",
       "541907     18531       17281   4.15         271               13  23255    4   \n",
       "541908     18531       17281   4.95         271               13  22138    3   \n",
       "541909     18531       17281  18.00         271               13   POST    1   \n",
       "\n",
       "        Amount  \n",
       "541905   12.60  \n",
       "541906   16.60  \n",
       "541907   16.60  \n",
       "541908   14.85  \n",
       "541909   18.00  "
      ]
     },
     "execution_count": 29,
     "metadata": {},
     "output_type": "execute_result"
    }
   ],
   "source": [
    "basketdf_corr.tail()"
   ]
  },
  {
   "cell_type": "code",
   "execution_count": 30,
   "id": "h80mXQunY46p",
   "metadata": {
    "colab": {
     "base_uri": "https://localhost:8080/",
     "height": 629
    },
    "id": "h80mXQunY46p",
    "outputId": "6ed9fa90-3422-4c83-f3ff-c9e75dee8346"
   },
   "outputs": [
    {
     "name": "stderr",
     "output_type": "stream",
     "text": [
      "C:\\Users\\Manjusha\\AppData\\Local\\Temp\\ipykernel_15644\\1529497195.py:3: FutureWarning: The default value of numeric_only in DataFrame.corr is deprecated. In a future version, it will default to False. Select only valid columns or specify the value of numeric_only to silence this warning.\n",
      "  correlation = basketdf_corr.corr()\n",
      "C:\\Users\\Manjusha\\AppData\\Local\\Temp\\ipykernel_15644\\1529497195.py:7: DeprecationWarning: `np.bool` is a deprecated alias for the builtin `bool`. To silence this warning, use `bool` by itself. Doing this will not modify any behavior and is safe. If you specifically wanted the numpy scalar type, use `np.bool_` here.\n",
      "Deprecated in NumPy 1.20; for more details and guidance: https://numpy.org/devdocs/release/1.20.0-notes.html#deprecations\n",
      "  mask = np.zeros_like(correlation, dtype=np.bool)\n"
     ]
    },
    {
     "data": {
      "text/plain": [
       "<AxesSubplot: >"
      ]
     },
     "execution_count": 30,
     "metadata": {},
     "output_type": "execute_result"
    },
    {
     "data": {
      "image/png": "[encoded data removed]",
      "text/plain": [
       "<Figure size 900x900 with 2 Axes>"
      ]
     },
     "metadata": {},
     "output_type": "display_data"
    }
   ],
   "source": [
    "import seaborn as sns\n",
    "\n",
    "correlation = basketdf_corr.corr()\n",
    "sns.set(style=\"white\")\n",
    "\n",
    "# Generate a mask for the upper triangle\n",
    "mask = np.zeros_like(correlation, dtype=np.bool)\n",
    "mask[np.triu_indices_from(mask)] = True\n",
    "\n",
    "# Set up the matplotlib figure\n",
    "f, ax = py.subplots(figsize=(9,9))\n",
    "\n",
    "# Generate a custom diverging colormap\n",
    "cmap = sns.diverging_palette(220, 10, as_cmap=True)\n",
    "\n",
    "# Draw the heatmap with the mask and correct aspect ratio\n",
    "sns.heatmap(correlation, mask=mask, cmap=cmap,annot=True, vmax=1,vmin=-1,\n",
    "            center=0, square=True, linewidths=0.5, cbar_kws={\"shrink\": 0.5})"
   ]
  },
  {
   "cell_type": "code",
   "execution_count": 31,
   "id": "knPYuvlBeUaX",
   "metadata": {
    "colab": {
     "base_uri": "https://localhost:8080/"
    },
    "id": "knPYuvlBeUaX",
    "outputId": "4f4d4a3b-0513-478c-eaed-d0b002e32ec6"
   },
   "outputs": [
    {
     "name": "stderr",
     "output_type": "stream",
     "text": [
      "C:\\Users\\Manjusha\\AppData\\Local\\Temp\\ipykernel_15644\\2902670570.py:5: FutureWarning: Using the level keyword in DataFrame and Series aggregations is deprecated and will be removed in a future version. Use groupby instead. df.median(level=1) should use df.groupby(level=1).median().\n",
      "  basketdf_customer['Imax'] = basketdf.groupby(['CustomerID','BasketID']).count().max(level=0)['BasketDate']\n"
     ]
    }
   ],
   "source": [
    "basketdf_customer = basketdf.groupby('CustomerID').agg(\n",
    "    I=('ProdID','count'),\n",
    "    Iu=('ProdID', 'nunique'))\n",
    "\n",
    "basketdf_customer['Imax'] = basketdf.groupby(['CustomerID','BasketID']).count().max(level=0)['BasketDate']"
   ]
  },
  {
   "cell_type": "code",
   "execution_count": 32,
   "id": "yYO-u0Qbhmzj",
   "metadata": {
    "colab": {
     "base_uri": "https://localhost:8080/",
     "height": 238
    },
    "id": "yYO-u0Qbhmzj",
    "outputId": "22ab556f-c76b-47d7-ec70-f9dab69b4f92"
   },
   "outputs": [
    {
     "data": {
      "text/html": [
       "<div>\n",
       "<style scoped>\n",
       "    .dataframe tbody tr th:only-of-type {\n",
       "        vertical-align: middle;\n",
       "    }\n",
       "\n",
       "    .dataframe tbody tr th {\n",
       "        vertical-align: top;\n",
       "    }\n",
       "\n",
       "    .dataframe thead th {\n",
       "        text-align: right;\n",
       "    }\n",
       "</style>\n",
       "<table border=\"1\" class=\"dataframe\">\n",
       "  <thead>\n",
       "    <tr style=\"text-align: right;\">\n",
       "      <th></th>\n",
       "      <th>I</th>\n",
       "      <th>Iu</th>\n",
       "      <th>Imax</th>\n",
       "    </tr>\n",
       "    <tr>\n",
       "      <th>CustomerID</th>\n",
       "      <th></th>\n",
       "      <th></th>\n",
       "      <th></th>\n",
       "    </tr>\n",
       "  </thead>\n",
       "  <tbody>\n",
       "    <tr>\n",
       "      <th>12346.0</th>\n",
       "      <td>1</td>\n",
       "      <td>1</td>\n",
       "      <td>1</td>\n",
       "    </tr>\n",
       "    <tr>\n",
       "      <th>12347.0</th>\n",
       "      <td>182</td>\n",
       "      <td>103</td>\n",
       "      <td>47</td>\n",
       "    </tr>\n",
       "    <tr>\n",
       "      <th>12348.0</th>\n",
       "      <td>31</td>\n",
       "      <td>22</td>\n",
       "      <td>17</td>\n",
       "    </tr>\n",
       "    <tr>\n",
       "      <th>12349.0</th>\n",
       "      <td>73</td>\n",
       "      <td>73</td>\n",
       "      <td>73</td>\n",
       "    </tr>\n",
       "    <tr>\n",
       "      <th>12350.0</th>\n",
       "      <td>17</td>\n",
       "      <td>17</td>\n",
       "      <td>17</td>\n",
       "    </tr>\n",
       "  </tbody>\n",
       "</table>\n",
       "</div>"
      ],
      "text/plain": [
       "              I   Iu  Imax\n",
       "CustomerID                \n",
       "12346.0       1    1     1\n",
       "12347.0     182  103    47\n",
       "12348.0      31   22    17\n",
       "12349.0      73   73    73\n",
       "12350.0      17   17    17"
      ]
     },
     "execution_count": 32,
     "metadata": {},
     "output_type": "execute_result"
    }
   ],
   "source": [
    "basketdf_customer.head()"
   ]
  },
  {
   "cell_type": "code",
   "execution_count": 33,
   "id": "qIDQDxY2h-K0",
   "metadata": {
    "id": "qIDQDxY2h-K0"
   },
   "outputs": [],
   "source": [
    "pos_amounts = basketdf[basketdf['Amount'] >= 0].copy()\n",
    "p_sum = pos_amounts.groupby('CustomerID')['Amount'].transform('sum')\n",
    "probs = pos_amounts['Amount']/p_sum\n",
    "pos_amounts['Entropy'] = -(probs * np.log(probs)) #ss.entropy(probs)\n",
    "basketdf_customer['Entropy'] = pos_amounts.groupby('CustomerID')['Entropy'].sum()"
   ]
  },
  {
   "cell_type": "code",
   "execution_count": 35,
   "id": "bF9rvey_iazh",
   "metadata": {
    "colab": {
     "base_uri": "https://localhost:8080/",
     "height": 238
    },
    "id": "bF9rvey_iazh",
    "outputId": "0eac84b2-a82f-47d4-ded4-360a43400ac3"
   },
   "outputs": [
    {
     "data": {
      "text/html": [
       "<div>\n",
       "<style scoped>\n",
       "    .dataframe tbody tr th:only-of-type {\n",
       "        vertical-align: middle;\n",
       "    }\n",
       "\n",
       "    .dataframe tbody tr th {\n",
       "        vertical-align: top;\n",
       "    }\n",
       "\n",
       "    .dataframe thead th {\n",
       "        text-align: right;\n",
       "    }\n",
       "</style>\n",
       "<table border=\"1\" class=\"dataframe\">\n",
       "  <thead>\n",
       "    <tr style=\"text-align: right;\">\n",
       "      <th></th>\n",
       "      <th>I</th>\n",
       "      <th>Iu</th>\n",
       "      <th>Imax</th>\n",
       "      <th>Entropy</th>\n",
       "    </tr>\n",
       "    <tr>\n",
       "      <th>CustomerID</th>\n",
       "      <th></th>\n",
       "      <th></th>\n",
       "      <th></th>\n",
       "      <th></th>\n",
       "    </tr>\n",
       "  </thead>\n",
       "  <tbody>\n",
       "    <tr>\n",
       "      <th>12346.0</th>\n",
       "      <td>1</td>\n",
       "      <td>1</td>\n",
       "      <td>1</td>\n",
       "      <td>0.000000</td>\n",
       "    </tr>\n",
       "    <tr>\n",
       "      <th>12347.0</th>\n",
       "      <td>182</td>\n",
       "      <td>103</td>\n",
       "      <td>47</td>\n",
       "      <td>4.943568</td>\n",
       "    </tr>\n",
       "    <tr>\n",
       "      <th>12348.0</th>\n",
       "      <td>31</td>\n",
       "      <td>22</td>\n",
       "      <td>17</td>\n",
       "      <td>3.163994</td>\n",
       "    </tr>\n",
       "    <tr>\n",
       "      <th>12349.0</th>\n",
       "      <td>73</td>\n",
       "      <td>73</td>\n",
       "      <td>73</td>\n",
       "      <td>3.897416</td>\n",
       "    </tr>\n",
       "    <tr>\n",
       "      <th>12350.0</th>\n",
       "      <td>17</td>\n",
       "      <td>17</td>\n",
       "      <td>17</td>\n",
       "      <td>2.772224</td>\n",
       "    </tr>\n",
       "  </tbody>\n",
       "</table>\n",
       "</div>"
      ],
      "text/plain": [
       "              I   Iu  Imax   Entropy\n",
       "CustomerID                          \n",
       "12346.0       1    1     1  0.000000\n",
       "12347.0     182  103    47  4.943568\n",
       "12348.0      31   22    17  3.163994\n",
       "12349.0      73   73    73  3.897416\n",
       "12350.0      17   17    17  2.772224"
      ]
     },
     "execution_count": 35,
     "metadata": {},
     "output_type": "execute_result"
    }
   ],
   "source": [
    "basketdf_customer.head()"
   ]
  },
  {
   "cell_type": "code",
   "execution_count": 34,
   "id": "s40VqAKIiz_J",
   "metadata": {
    "id": "s40VqAKIiz_J"
   },
   "outputs": [],
   "source": [
    "# number of baskets per customer\n",
    "basketdf_customer['BasketNum'] =basketdf.groupby(['CustomerID', 'BasketID']).size().groupby(level=0).size()"
   ]
  },
  {
   "cell_type": "code",
   "execution_count": 35,
   "id": "q4L5C-k3jETo",
   "metadata": {
    "id": "q4L5C-k3jETo"
   },
   "outputs": [],
   "source": [
    "basketdf_group = basketdf.groupby(['CustomerID','BasketID']).agg(BasketSum=('Amount', 'sum'))\n",
    "basketdf_group = basketdf_group.groupby('CustomerID').agg(BasketMean=('BasketSum', 'mean'), SumExp=('BasketSum', 'sum'))\n",
    "basketdf_customer['SumExp'] = basketdf_group['SumExp']\n",
    "basketdf_customer['AvgExp'] = basketdf_group['BasketMean']"
   ]
  },
  {
   "cell_type": "code",
   "execution_count": 36,
   "id": "Rxaq2s_-jnkd",
   "metadata": {
    "colab": {
     "base_uri": "https://localhost:8080/",
     "height": 300
    },
    "id": "Rxaq2s_-jnkd",
    "outputId": "a5e4198f-59ed-4303-c123-98b246e03bd1"
   },
   "outputs": [
    {
     "data": {
      "text/html": [
       "<div>\n",
       "<style scoped>\n",
       "    .dataframe tbody tr th:only-of-type {\n",
       "        vertical-align: middle;\n",
       "    }\n",
       "\n",
       "    .dataframe tbody tr th {\n",
       "        vertical-align: top;\n",
       "    }\n",
       "\n",
       "    .dataframe thead th {\n",
       "        text-align: right;\n",
       "    }\n",
       "</style>\n",
       "<table border=\"1\" class=\"dataframe\">\n",
       "  <thead>\n",
       "    <tr style=\"text-align: right;\">\n",
       "      <th></th>\n",
       "      <th>I</th>\n",
       "      <th>Iu</th>\n",
       "      <th>Imax</th>\n",
       "      <th>Entropy</th>\n",
       "      <th>BasketNum</th>\n",
       "      <th>SumExp</th>\n",
       "      <th>AvgExp</th>\n",
       "    </tr>\n",
       "  </thead>\n",
       "  <tbody>\n",
       "    <tr>\n",
       "      <th>count</th>\n",
       "      <td>4338.000000</td>\n",
       "      <td>4338.000000</td>\n",
       "      <td>4338.000000</td>\n",
       "      <td>4338.000000</td>\n",
       "      <td>4338.000000</td>\n",
       "      <td>4338.000000</td>\n",
       "      <td>4338.000000</td>\n",
       "    </tr>\n",
       "    <tr>\n",
       "      <th>mean</th>\n",
       "      <td>91.720839</td>\n",
       "      <td>61.501153</td>\n",
       "      <td>32.086445</td>\n",
       "      <td>3.432994</td>\n",
       "      <td>4.272015</td>\n",
       "      <td>2054.270609</td>\n",
       "      <td>419.167327</td>\n",
       "    </tr>\n",
       "    <tr>\n",
       "      <th>std</th>\n",
       "      <td>228.785054</td>\n",
       "      <td>85.366768</td>\n",
       "      <td>31.243562</td>\n",
       "      <td>1.287378</td>\n",
       "      <td>7.697998</td>\n",
       "      <td>8989.229895</td>\n",
       "      <td>1796.537828</td>\n",
       "    </tr>\n",
       "    <tr>\n",
       "      <th>min</th>\n",
       "      <td>1.000000</td>\n",
       "      <td>1.000000</td>\n",
       "      <td>1.000000</td>\n",
       "      <td>0.000000</td>\n",
       "      <td>1.000000</td>\n",
       "      <td>3.750000</td>\n",
       "      <td>3.450000</td>\n",
       "    </tr>\n",
       "    <tr>\n",
       "      <th>25%</th>\n",
       "      <td>17.000000</td>\n",
       "      <td>16.000000</td>\n",
       "      <td>13.000000</td>\n",
       "      <td>2.612131</td>\n",
       "      <td>1.000000</td>\n",
       "      <td>307.415000</td>\n",
       "      <td>178.625000</td>\n",
       "    </tr>\n",
       "    <tr>\n",
       "      <th>50%</th>\n",
       "      <td>41.000000</td>\n",
       "      <td>35.000000</td>\n",
       "      <td>23.000000</td>\n",
       "      <td>3.478995</td>\n",
       "      <td>2.000000</td>\n",
       "      <td>674.485000</td>\n",
       "      <td>293.900000</td>\n",
       "    </tr>\n",
       "    <tr>\n",
       "      <th>75%</th>\n",
       "      <td>100.000000</td>\n",
       "      <td>77.000000</td>\n",
       "      <td>42.000000</td>\n",
       "      <td>4.327716</td>\n",
       "      <td>5.000000</td>\n",
       "      <td>1661.740000</td>\n",
       "      <td>430.113750</td>\n",
       "    </tr>\n",
       "    <tr>\n",
       "      <th>max</th>\n",
       "      <td>7847.000000</td>\n",
       "      <td>1787.000000</td>\n",
       "      <td>542.000000</td>\n",
       "      <td>8.335226</td>\n",
       "      <td>209.000000</td>\n",
       "      <td>280206.020000</td>\n",
       "      <td>84236.250000</td>\n",
       "    </tr>\n",
       "  </tbody>\n",
       "</table>\n",
       "</div>"
      ],
      "text/plain": [
       "                 I           Iu         Imax      Entropy    BasketNum  \\\n",
       "count  4338.000000  4338.000000  4338.000000  4338.000000  4338.000000   \n",
       "mean     91.720839    61.501153    32.086445     3.432994     4.272015   \n",
       "std     228.785054    85.366768    31.243562     1.287378     7.697998   \n",
       "min       1.000000     1.000000     1.000000     0.000000     1.000000   \n",
       "25%      17.000000    16.000000    13.000000     2.612131     1.000000   \n",
       "50%      41.000000    35.000000    23.000000     3.478995     2.000000   \n",
       "75%     100.000000    77.000000    42.000000     4.327716     5.000000   \n",
       "max    7847.000000  1787.000000   542.000000     8.335226   209.000000   \n",
       "\n",
       "              SumExp        AvgExp  \n",
       "count    4338.000000   4338.000000  \n",
       "mean     2054.270609    419.167327  \n",
       "std      8989.229895   1796.537828  \n",
       "min         3.750000      3.450000  \n",
       "25%       307.415000    178.625000  \n",
       "50%       674.485000    293.900000  \n",
       "75%      1661.740000    430.113750  \n",
       "max    280206.020000  84236.250000  "
      ]
     },
     "execution_count": 36,
     "metadata": {},
     "output_type": "execute_result"
    }
   ],
   "source": [
    "basketdf_customer.describe()\n"
   ]
  },
  {
   "cell_type": "code",
   "execution_count": 37,
   "id": "uz2gjwPwj-Y1",
   "metadata": {
    "colab": {
     "base_uri": "https://localhost:8080/",
     "height": 285
    },
    "id": "uz2gjwPwj-Y1",
    "outputId": "70b7f26c-088d-48b9-e307-d49c05069092"
   },
   "outputs": [
    {
     "data": {
      "text/plain": [
       "<AxesSubplot: >"
      ]
     },
     "execution_count": 37,
     "metadata": {},
     "output_type": "execute_result"
    },
    {
     "data": {
      "image/png": "[encoded data removed]",
      "text/plain": [
       "<Figure size 640x480 with 1 Axes>"
      ]
     },
     "metadata": {},
     "output_type": "display_data"
    }
   ],
   "source": [
    "basketdf_customer.boxplot()\n"
   ]
  },
  {
   "cell_type": "code",
   "execution_count": 38,
   "id": "13xrxT-kkMR9",
   "metadata": {
    "colab": {
     "base_uri": "https://localhost:8080/",
     "height": 300
    },
    "id": "13xrxT-kkMR9",
    "outputId": "a90cfc06-ab10-4a1a-c965-955079250658"
   },
   "outputs": [
    {
     "data": {
      "text/html": [
       "<div>\n",
       "<style scoped>\n",
       "    .dataframe tbody tr th:only-of-type {\n",
       "        vertical-align: middle;\n",
       "    }\n",
       "\n",
       "    .dataframe tbody tr th {\n",
       "        vertical-align: top;\n",
       "    }\n",
       "\n",
       "    .dataframe thead th {\n",
       "        text-align: right;\n",
       "    }\n",
       "</style>\n",
       "<table border=\"1\" class=\"dataframe\">\n",
       "  <thead>\n",
       "    <tr style=\"text-align: right;\">\n",
       "      <th></th>\n",
       "      <th>I</th>\n",
       "      <th>Iu</th>\n",
       "      <th>Imax</th>\n",
       "      <th>Entropy</th>\n",
       "      <th>BasketNum</th>\n",
       "      <th>SumExp</th>\n",
       "      <th>AvgExp</th>\n",
       "    </tr>\n",
       "  </thead>\n",
       "  <tbody>\n",
       "    <tr>\n",
       "      <th>count</th>\n",
       "      <td>4171.000000</td>\n",
       "      <td>4171.000000</td>\n",
       "      <td>4171.000000</td>\n",
       "      <td>4171.000000</td>\n",
       "      <td>4171.000000</td>\n",
       "      <td>4171.000000</td>\n",
       "      <td>4171.000000</td>\n",
       "    </tr>\n",
       "    <tr>\n",
       "      <th>mean</th>\n",
       "      <td>70.315032</td>\n",
       "      <td>52.372812</td>\n",
       "      <td>28.871014</td>\n",
       "      <td>3.350154</td>\n",
       "      <td>3.579238</td>\n",
       "      <td>1327.559716</td>\n",
       "      <td>354.999266</td>\n",
       "    </tr>\n",
       "    <tr>\n",
       "      <th>std</th>\n",
       "      <td>86.624853</td>\n",
       "      <td>53.545089</td>\n",
       "      <td>22.914839</td>\n",
       "      <td>1.222166</td>\n",
       "      <td>3.794688</td>\n",
       "      <td>2058.227242</td>\n",
       "      <td>329.019302</td>\n",
       "    </tr>\n",
       "    <tr>\n",
       "      <th>min</th>\n",
       "      <td>1.000000</td>\n",
       "      <td>1.000000</td>\n",
       "      <td>1.000000</td>\n",
       "      <td>0.000000</td>\n",
       "      <td>1.000000</td>\n",
       "      <td>3.750000</td>\n",
       "      <td>3.450000</td>\n",
       "    </tr>\n",
       "    <tr>\n",
       "      <th>25%</th>\n",
       "      <td>16.000000</td>\n",
       "      <td>15.000000</td>\n",
       "      <td>12.000000</td>\n",
       "      <td>2.577585</td>\n",
       "      <td>1.000000</td>\n",
       "      <td>300.935000</td>\n",
       "      <td>176.802500</td>\n",
       "    </tr>\n",
       "    <tr>\n",
       "      <th>50%</th>\n",
       "      <td>39.000000</td>\n",
       "      <td>33.000000</td>\n",
       "      <td>23.000000</td>\n",
       "      <td>3.411811</td>\n",
       "      <td>2.000000</td>\n",
       "      <td>640.760000</td>\n",
       "      <td>287.035000</td>\n",
       "    </tr>\n",
       "    <tr>\n",
       "      <th>75%</th>\n",
       "      <td>90.000000</td>\n",
       "      <td>71.000000</td>\n",
       "      <td>39.000000</td>\n",
       "      <td>4.220842</td>\n",
       "      <td>4.000000</td>\n",
       "      <td>1521.170000</td>\n",
       "      <td>417.920000</td>\n",
       "    </tr>\n",
       "    <tr>\n",
       "      <th>max</th>\n",
       "      <td>756.000000</td>\n",
       "      <td>315.000000</td>\n",
       "      <td>125.000000</td>\n",
       "      <td>6.334695</td>\n",
       "      <td>27.000000</td>\n",
       "      <td>28754.110000</td>\n",
       "      <td>4932.130000</td>\n",
       "    </tr>\n",
       "  </tbody>\n",
       "</table>\n",
       "</div>"
      ],
      "text/plain": [
       "                 I           Iu         Imax      Entropy    BasketNum  \\\n",
       "count  4171.000000  4171.000000  4171.000000  4171.000000  4171.000000   \n",
       "mean     70.315032    52.372812    28.871014     3.350154     3.579238   \n",
       "std      86.624853    53.545089    22.914839     1.222166     3.794688   \n",
       "min       1.000000     1.000000     1.000000     0.000000     1.000000   \n",
       "25%      16.000000    15.000000    12.000000     2.577585     1.000000   \n",
       "50%      39.000000    33.000000    23.000000     3.411811     2.000000   \n",
       "75%      90.000000    71.000000    39.000000     4.220842     4.000000   \n",
       "max     756.000000   315.000000   125.000000     6.334695    27.000000   \n",
       "\n",
       "             SumExp       AvgExp  \n",
       "count   4171.000000  4171.000000  \n",
       "mean    1327.559716   354.999266  \n",
       "std     2058.227242   329.019302  \n",
       "min        3.750000     3.450000  \n",
       "25%      300.935000   176.802500  \n",
       "50%      640.760000   287.035000  \n",
       "75%     1521.170000   417.920000  \n",
       "max    28754.110000  4932.130000  "
      ]
     },
     "execution_count": 38,
     "metadata": {},
     "output_type": "execute_result"
    }
   ],
   "source": [
    "# use z-score to remove outliers\n",
    "from scipy.stats import zscore\n",
    "z_scores = zscore(basketdf_customer)\n",
    "\n",
    "abs_z_scores = np.abs(z_scores)\n",
    "filtered_entries = (abs_z_scores < 3).all(axis=1)\n",
    "new_basketdf = basketdf_customer[filtered_entries]\n",
    "\n",
    "new_basketdf.to_csv(r'new_df.csv', index=True, header=True)\n",
    "\n",
    "new_basketdf.describe()"
   ]
  },
  {
   "cell_type": "code",
   "execution_count": 42,
   "id": "eChVMRYtkt9a",
   "metadata": {
    "colab": {
     "base_uri": "https://localhost:8080/",
     "height": 541
    },
    "id": "eChVMRYtkt9a",
    "outputId": "cb5b5686-0da1-46b0-a605-91c312a9d821"
   },
   "outputs": [
    {
     "name": "stderr",
     "output_type": "stream",
     "text": [
      "C:\\Users\\Manjusha\\AppData\\Local\\Temp\\ipykernel_26960\\3138933740.py:5: DeprecationWarning: `np.bool` is a deprecated alias for the builtin `bool`. To silence this warning, use `bool` by itself. Doing this will not modify any behavior and is safe. If you specifically wanted the numpy scalar type, use `np.bool_` here.\n",
      "Deprecated in NumPy 1.20; for more details and guidance: https://numpy.org/devdocs/release/1.20.0-notes.html#deprecations\n",
      "  mask = np.zeros_like(correlation, dtype=np.bool)\n"
     ]
    },
    {
     "data": {
      "text/plain": [
       "<AxesSubplot: >"
      ]
     },
     "execution_count": 42,
     "metadata": {},
     "output_type": "execute_result"
    },
    {
     "data": {
      "image/png": "[encoded data removed]",
      "text/plain": [
       "<Figure size 900x900 with 2 Axes>"
      ]
     },
     "metadata": {},
     "output_type": "display_data"
    }
   ],
   "source": [
    "correlation = new_basketdf.corr()\n",
    "sns.set(style=\"white\")\n",
    "\n",
    "# Generate a mask for the upper triangle\n",
    "mask = np.zeros_like(correlation, dtype=np.bool)\n",
    "mask[np.triu_indices_from(mask)] = True\n",
    "\n",
    "# Set up the matplotlib figure\n",
    "fnew, axnew = py.subplots(figsize=(9,9))\n",
    "\n",
    "# Generate a custom diverging colormap\n",
    "cmap = sns.diverging_palette(220, 10, as_cmap=True)\n",
    "\n",
    "# Draw the heatmap with the mask and correct aspect ratio\n",
    "sns.heatmap(correlation, mask=mask, cmap=cmap,annot=True, vmax=1,vmin=-1, center=0,\n",
    "            square=True, linewidths=0.5, cbar_kws={\"shrink\": 0.5})"
   ]
  }
 ],
 "metadata": {
  "colab": {
   "provenance": []
  },
  "kernelspec": {
   "display_name": "Python 3 (ipykernel)",
   "language": "python",
   "name": "python3"
  },
  "language_info": {
   "codemirror_mode": {
    "name": "ipython",
    "version": 3
   },
   "file_extension": ".py",
   "mimetype": "text/x-python",
   "name": "python",
   "nbconvert_exporter": "python",
   "pygments_lexer": "ipython3",
   "version": "3.10.2"
  },
  "vscode": {
   "interpreter": {
    "hash": "369f2c481f4da34e4445cda3fffd2e751bd1c4d706f27375911949ba6bb62e1c"
   }
  }
 },
 "nbformat": 4,
 "nbformat_minor": 5
}
