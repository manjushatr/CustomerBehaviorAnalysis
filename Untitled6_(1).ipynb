{
  "cells": [
    {
      "cell_type": "markdown",
      "metadata": {
        "id": "view-in-github",
        "colab_type": "text"
      },
      "source": [
        "<a href=\"https://colab.research.google.com/github/manjushatr/CustomerBehaviorAnalysis/blob/main/Untitled6_(1).ipynb\" target=\"_parent\"><img src=\"https://colab.research.google.com/assets/colab-badge.svg\" alt=\"Open In Colab\"/></a>"
      ]
    },
    {
      "cell_type": "code",
      "execution_count": null,
      "id": "b45f6c19",
      "metadata": {
        "id": "b45f6c19"
      },
      "outputs": [],
      "source": [
        "import pandas as pd\n",
        "import numpy as np\n",
        "import matplotlib.pyplot as py"
      ]
    },
    {
      "cell_type": "code",
      "execution_count": null,
      "id": "029e8807",
      "metadata": {
        "id": "029e8807"
      },
      "outputs": [],
      "source": [
        "basketdf = pd.read_csv('customer_supermarket.csv', sep='\\t', index_col=0, decimal=',')"
      ]
    },
    {
      "cell_type": "code",
      "execution_count": null,
      "id": "8e8085c9",
      "metadata": {
        "id": "8e8085c9",
        "outputId": "17473bcd-b818-4b71-944a-9db09c6e8031"
      },
      "outputs": [
        {
          "data": {
            "text/html": [
              "<div>\n",
              "<style scoped>\n",
              "    .dataframe tbody tr th:only-of-type {\n",
              "        vertical-align: middle;\n",
              "    }\n",
              "\n",
              "    .dataframe tbody tr th {\n",
              "        vertical-align: top;\n",
              "    }\n",
              "\n",
              "    .dataframe thead th {\n",
              "        text-align: right;\n",
              "    }\n",
              "</style>\n",
              "<table border=\"1\" class=\"dataframe\">\n",
              "  <thead>\n",
              "    <tr style=\"text-align: right;\">\n",
              "      <th></th>\n",
              "      <th>BasketID</th>\n",
              "      <th>BasketDate</th>\n",
              "      <th>Sale</th>\n",
              "      <th>CustomerID</th>\n",
              "      <th>CustomerCountry</th>\n",
              "      <th>ProdID</th>\n",
              "      <th>ProdDescr</th>\n",
              "      <th>Qta</th>\n",
              "    </tr>\n",
              "  </thead>\n",
              "  <tbody>\n",
              "    <tr>\n",
              "      <th>0</th>\n",
              "      <td>536365</td>\n",
              "      <td>01/12/10 08:26</td>\n",
              "      <td>2.55</td>\n",
              "      <td>17850.0</td>\n",
              "      <td>United Kingdom</td>\n",
              "      <td>85123A</td>\n",
              "      <td>WHITE HANGING HEART T-LIGHT HOLDER</td>\n",
              "      <td>6</td>\n",
              "    </tr>\n",
              "    <tr>\n",
              "      <th>1</th>\n",
              "      <td>536365</td>\n",
              "      <td>01/12/10 08:26</td>\n",
              "      <td>3.39</td>\n",
              "      <td>17850.0</td>\n",
              "      <td>United Kingdom</td>\n",
              "      <td>71053</td>\n",
              "      <td>WHITE METAL LANTERN</td>\n",
              "      <td>6</td>\n",
              "    </tr>\n",
              "    <tr>\n",
              "      <th>2</th>\n",
              "      <td>536365</td>\n",
              "      <td>01/12/10 08:26</td>\n",
              "      <td>2.75</td>\n",
              "      <td>17850.0</td>\n",
              "      <td>United Kingdom</td>\n",
              "      <td>84406B</td>\n",
              "      <td>CREAM CUPID HEARTS COAT HANGER</td>\n",
              "      <td>8</td>\n",
              "    </tr>\n",
              "    <tr>\n",
              "      <th>3</th>\n",
              "      <td>536365</td>\n",
              "      <td>01/12/10 08:26</td>\n",
              "      <td>3.39</td>\n",
              "      <td>17850.0</td>\n",
              "      <td>United Kingdom</td>\n",
              "      <td>84029G</td>\n",
              "      <td>KNITTED UNION FLAG HOT WATER BOTTLE</td>\n",
              "      <td>6</td>\n",
              "    </tr>\n",
              "    <tr>\n",
              "      <th>4</th>\n",
              "      <td>536365</td>\n",
              "      <td>01/12/10 08:26</td>\n",
              "      <td>3.39</td>\n",
              "      <td>17850.0</td>\n",
              "      <td>United Kingdom</td>\n",
              "      <td>84029E</td>\n",
              "      <td>RED WOOLLY HOTTIE WHITE HEART.</td>\n",
              "      <td>6</td>\n",
              "    </tr>\n",
              "    <tr>\n",
              "      <th>5</th>\n",
              "      <td>536365</td>\n",
              "      <td>01/12/10 08:26</td>\n",
              "      <td>7.65</td>\n",
              "      <td>17850.0</td>\n",
              "      <td>United Kingdom</td>\n",
              "      <td>22752</td>\n",
              "      <td>SET 7 BABUSHKA NESTING BOXES</td>\n",
              "      <td>2</td>\n",
              "    </tr>\n",
              "    <tr>\n",
              "      <th>6</th>\n",
              "      <td>536365</td>\n",
              "      <td>01/12/10 08:26</td>\n",
              "      <td>4.25</td>\n",
              "      <td>17850.0</td>\n",
              "      <td>United Kingdom</td>\n",
              "      <td>21730</td>\n",
              "      <td>GLASS STAR FROSTED T-LIGHT HOLDER</td>\n",
              "      <td>6</td>\n",
              "    </tr>\n",
              "    <tr>\n",
              "      <th>7</th>\n",
              "      <td>536366</td>\n",
              "      <td>01/12/10 08:28</td>\n",
              "      <td>1.85</td>\n",
              "      <td>17850.0</td>\n",
              "      <td>United Kingdom</td>\n",
              "      <td>22633</td>\n",
              "      <td>HAND WARMER UNION JACK</td>\n",
              "      <td>6</td>\n",
              "    </tr>\n",
              "    <tr>\n",
              "      <th>8</th>\n",
              "      <td>536366</td>\n",
              "      <td>01/12/10 08:28</td>\n",
              "      <td>1.85</td>\n",
              "      <td>17850.0</td>\n",
              "      <td>United Kingdom</td>\n",
              "      <td>22632</td>\n",
              "      <td>HAND WARMER RED POLKA DOT</td>\n",
              "      <td>6</td>\n",
              "    </tr>\n",
              "    <tr>\n",
              "      <th>9</th>\n",
              "      <td>536368</td>\n",
              "      <td>01/12/10 08:34</td>\n",
              "      <td>4.25</td>\n",
              "      <td>13047.0</td>\n",
              "      <td>United Kingdom</td>\n",
              "      <td>22960</td>\n",
              "      <td>JAM MAKING SET WITH JARS</td>\n",
              "      <td>6</td>\n",
              "    </tr>\n",
              "  </tbody>\n",
              "</table>\n",
              "</div>"
            ],
            "text/plain": [
              "  BasketID      BasketDate  Sale CustomerID CustomerCountry  ProdID  \\\n",
              "0   536365  01/12/10 08:26  2.55    17850.0  United Kingdom  85123A   \n",
              "1   536365  01/12/10 08:26  3.39    17850.0  United Kingdom   71053   \n",
              "2   536365  01/12/10 08:26  2.75    17850.0  United Kingdom  84406B   \n",
              "3   536365  01/12/10 08:26  3.39    17850.0  United Kingdom  84029G   \n",
              "4   536365  01/12/10 08:26  3.39    17850.0  United Kingdom  84029E   \n",
              "5   536365  01/12/10 08:26  7.65    17850.0  United Kingdom   22752   \n",
              "6   536365  01/12/10 08:26  4.25    17850.0  United Kingdom   21730   \n",
              "7   536366  01/12/10 08:28  1.85    17850.0  United Kingdom   22633   \n",
              "8   536366  01/12/10 08:28  1.85    17850.0  United Kingdom   22632   \n",
              "9   536368  01/12/10 08:34  4.25    13047.0  United Kingdom   22960   \n",
              "\n",
              "                             ProdDescr  Qta  \n",
              "0   WHITE HANGING HEART T-LIGHT HOLDER    6  \n",
              "1                  WHITE METAL LANTERN    6  \n",
              "2       CREAM CUPID HEARTS COAT HANGER    8  \n",
              "3  KNITTED UNION FLAG HOT WATER BOTTLE    6  \n",
              "4       RED WOOLLY HOTTIE WHITE HEART.    6  \n",
              "5         SET 7 BABUSHKA NESTING BOXES    2  \n",
              "6    GLASS STAR FROSTED T-LIGHT HOLDER    6  \n",
              "7               HAND WARMER UNION JACK    6  \n",
              "8            HAND WARMER RED POLKA DOT    6  \n",
              "9             JAM MAKING SET WITH JARS    6  "
            ]
          },
          "execution_count": 3,
          "metadata": {},
          "output_type": "execute_result"
        }
      ],
      "source": [
        "basketdf.head(10)"
      ]
    },
    {
      "cell_type": "code",
      "execution_count": null,
      "id": "d3609a93",
      "metadata": {
        "id": "d3609a93",
        "outputId": "198ec2a6-17d6-4893-bea9-c71cb80090cf"
      },
      "outputs": [
        {
          "name": "stdout",
          "output_type": "stream",
          "text": [
            "<class 'pandas.core.frame.DataFrame'>\n",
            "Int64Index: 471910 entries, 0 to 541909\n",
            "Data columns (total 8 columns):\n",
            " #   Column           Non-Null Count   Dtype  \n",
            "---  ------           --------------   -----  \n",
            " 0   BasketID         471910 non-null  object \n",
            " 1   BasketDate       471910 non-null  object \n",
            " 2   Sale             471910 non-null  float64\n",
            " 3   CustomerID       406830 non-null  object \n",
            " 4   CustomerCountry  471910 non-null  object \n",
            " 5   ProdID           471910 non-null  object \n",
            " 6   ProdDescr        471157 non-null  object \n",
            " 7   Qta              471910 non-null  int64  \n",
            "dtypes: float64(1), int64(1), object(6)\n",
            "memory usage: 32.4+ MB\n"
          ]
        }
      ],
      "source": [
        "basketdf.info()"
      ]
    },
    {
      "cell_type": "code",
      "execution_count": null,
      "id": "89eb9a1e",
      "metadata": {
        "id": "89eb9a1e",
        "outputId": "4ba86f70-36c2-4e1e-d266-c13e498bb1ae"
      },
      "outputs": [
        {
          "data": {
            "text/plain": [
              "(471910, 8)"
            ]
          },
          "execution_count": 5,
          "metadata": {},
          "output_type": "execute_result"
        }
      ],
      "source": [
        "basketdf.shape"
      ]
    },
    {
      "cell_type": "markdown",
      "id": "25a59425",
      "metadata": {
        "id": "25a59425"
      },
      "source": [
        "There are object and numeric datas in the dataset. To analyse the customers on amount spend in transactions an amount column is to be added. The basket date is to be converted to date time format, since it is object type "
      ]
    },
    {
      "cell_type": "code",
      "execution_count": null,
      "id": "d15e1f1f",
      "metadata": {
        "id": "d15e1f1f"
      },
      "outputs": [],
      "source": [
        "# convert dates in a suitable format\n",
        "basketdf['BasketDate'] = pd.to_datetime(basketdf['BasketDate'], dayfirst=True)"
      ]
    },
    {
      "cell_type": "code",
      "execution_count": null,
      "id": "f7c6117f",
      "metadata": {
        "id": "f7c6117f"
      },
      "outputs": [],
      "source": [
        "# add 'Amount' attribute, useful for some additional features on customer's purchase behaviour\n",
        "basketdf['Amount'] = basketdf['Sale'] * basketdf['Qta']"
      ]
    },
    {
      "cell_type": "code",
      "execution_count": null,
      "id": "d46af1ce",
      "metadata": {
        "id": "d46af1ce",
        "outputId": "927570b8-b366-493f-a538-acafd195c32c"
      },
      "outputs": [
        {
          "name": "stdout",
          "output_type": "stream",
          "text": [
            "<class 'pandas.core.frame.DataFrame'>\n",
            "Int64Index: 471910 entries, 0 to 541909\n",
            "Data columns (total 9 columns):\n",
            " #   Column           Non-Null Count   Dtype         \n",
            "---  ------           --------------   -----         \n",
            " 0   BasketID         471910 non-null  object        \n",
            " 1   BasketDate       471910 non-null  datetime64[ns]\n",
            " 2   Sale             471910 non-null  float64       \n",
            " 3   CustomerID       406830 non-null  object        \n",
            " 4   CustomerCountry  471910 non-null  object        \n",
            " 5   ProdID           471910 non-null  object        \n",
            " 6   ProdDescr        471157 non-null  object        \n",
            " 7   Qta              471910 non-null  int64         \n",
            " 8   Amount           471910 non-null  float64       \n",
            "dtypes: datetime64[ns](1), float64(2), int64(1), object(5)\n",
            "memory usage: 36.0+ MB\n"
          ]
        }
      ],
      "source": [
        "basketdf.info()"
      ]
    },
    {
      "cell_type": "code",
      "execution_count": null,
      "id": "ff4e1c48",
      "metadata": {
        "id": "ff4e1c48",
        "outputId": "c7a5c117-1ac8-47d3-fc42-36a348129652"
      },
      "outputs": [
        {
          "data": {
            "text/plain": [
              "(471910, 9)"
            ]
          },
          "execution_count": 9,
          "metadata": {},
          "output_type": "execute_result"
        }
      ],
      "source": [
        "basketdf.shape"
      ]
    },
    {
      "cell_type": "code",
      "execution_count": null,
      "id": "68db5434",
      "metadata": {
        "id": "68db5434",
        "outputId": "b69234b0-5c55-4292-af26-13833bcae70f"
      },
      "outputs": [
        {
          "data": {
            "text/plain": [
              "BasketID               0\n",
              "BasketDate             0\n",
              "Sale                   0\n",
              "CustomerID         65080\n",
              "CustomerCountry        0\n",
              "ProdID                 0\n",
              "ProdDescr            753\n",
              "Qta                    0\n",
              "Amount                 0\n",
              "dtype: int64"
            ]
          },
          "execution_count": 10,
          "metadata": {},
          "output_type": "execute_result"
        }
      ],
      "source": [
        "basketdf.isnull().sum()"
      ]
    },
    {
      "cell_type": "markdown",
      "id": "9e246550",
      "metadata": {
        "id": "9e246550"
      },
      "source": [
        "ProdDescr and CustomerId columns have null values. The prodDescr is included in the customerId. Counting all the rows where both attributes are null"
      ]
    },
    {
      "cell_type": "code",
      "execution_count": null,
      "id": "621ab9d5",
      "metadata": {
        "id": "621ab9d5",
        "outputId": "f39f2db1-fe25-46de-e414-234f3db8be27"
      },
      "outputs": [
        {
          "data": {
            "text/plain": [
              "BasketID           753\n",
              "BasketDate         753\n",
              "Sale               753\n",
              "CustomerID           0\n",
              "CustomerCountry    753\n",
              "ProdID             753\n",
              "ProdDescr            0\n",
              "Qta                753\n",
              "Amount             753\n",
              "dtype: int64"
            ]
          },
          "execution_count": 11,
          "metadata": {},
          "output_type": "execute_result"
        }
      ],
      "source": [
        "basketdf[basketdf['CustomerID'].isnull() & basketdf['ProdDescr'].isnull()].count()"
      ]
    },
    {
      "cell_type": "code",
      "execution_count": null,
      "id": "66305c98",
      "metadata": {
        "id": "66305c98",
        "outputId": "9d912f6c-d94b-4323-b346-5d23f41afa38"
      },
      "outputs": [
        {
          "data": {
            "text/html": [
              "<div>\n",
              "<style scoped>\n",
              "    .dataframe tbody tr th:only-of-type {\n",
              "        vertical-align: middle;\n",
              "    }\n",
              "\n",
              "    .dataframe tbody tr th {\n",
              "        vertical-align: top;\n",
              "    }\n",
              "\n",
              "    .dataframe thead th {\n",
              "        text-align: right;\n",
              "    }\n",
              "</style>\n",
              "<table border=\"1\" class=\"dataframe\">\n",
              "  <thead>\n",
              "    <tr style=\"text-align: right;\">\n",
              "      <th></th>\n",
              "      <th>count</th>\n",
              "      <th>mean</th>\n",
              "      <th>std</th>\n",
              "      <th>min</th>\n",
              "      <th>25%</th>\n",
              "      <th>50%</th>\n",
              "      <th>75%</th>\n",
              "      <th>max</th>\n",
              "    </tr>\n",
              "  </thead>\n",
              "  <tbody>\n",
              "    <tr>\n",
              "      <th>Sale</th>\n",
              "      <td>471910.0</td>\n",
              "      <td>4.030945</td>\n",
              "      <td>83.769380</td>\n",
              "      <td>-11062.06</td>\n",
              "      <td>1.25</td>\n",
              "      <td>2.08</td>\n",
              "      <td>3.75</td>\n",
              "      <td>38970.0</td>\n",
              "    </tr>\n",
              "    <tr>\n",
              "      <th>Qta</th>\n",
              "      <td>471910.0</td>\n",
              "      <td>10.716533</td>\n",
              "      <td>231.355136</td>\n",
              "      <td>-80995.00</td>\n",
              "      <td>1.00</td>\n",
              "      <td>4.00</td>\n",
              "      <td>12.00</td>\n",
              "      <td>80995.0</td>\n",
              "    </tr>\n",
              "    <tr>\n",
              "      <th>Amount</th>\n",
              "      <td>471910.0</td>\n",
              "      <td>19.030258</td>\n",
              "      <td>400.925995</td>\n",
              "      <td>-168469.60</td>\n",
              "      <td>3.75</td>\n",
              "      <td>10.08</td>\n",
              "      <td>17.70</td>\n",
              "      <td>168469.6</td>\n",
              "    </tr>\n",
              "  </tbody>\n",
              "</table>\n",
              "</div>"
            ],
            "text/plain": [
              "           count       mean         std        min   25%    50%    75%  \\\n",
              "Sale    471910.0   4.030945   83.769380  -11062.06  1.25   2.08   3.75   \n",
              "Qta     471910.0  10.716533  231.355136  -80995.00  1.00   4.00  12.00   \n",
              "Amount  471910.0  19.030258  400.925995 -168469.60  3.75  10.08  17.70   \n",
              "\n",
              "             max  \n",
              "Sale     38970.0  \n",
              "Qta      80995.0  \n",
              "Amount  168469.6  "
            ]
          },
          "execution_count": 12,
          "metadata": {},
          "output_type": "execute_result"
        }
      ],
      "source": [
        "basketdf.describe().T"
      ]
    },
    {
      "cell_type": "markdown",
      "id": "4b4ac751",
      "metadata": {
        "id": "4b4ac751"
      },
      "source": [
        "There are negative values in sale, qta and hence amount. Hence analysing each feature"
      ]
    },
    {
      "cell_type": "code",
      "execution_count": null,
      "id": "de3bce51",
      "metadata": {
        "id": "de3bce51",
        "outputId": "e8b3b62a-b069-404a-cb57-c8979dbdb520"
      },
      "outputs": [
        {
          "data": {
            "text/plain": [
              "count    24627.000000\n",
              "mean        19.162302\n",
              "std         28.635400\n",
              "min          1.000000\n",
              "25%          2.000000\n",
              "50%         11.000000\n",
              "75%         24.000000\n",
              "max        542.000000\n",
              "Name: BasketID, dtype: float64"
            ]
          },
          "execution_count": 13,
          "metadata": {},
          "output_type": "execute_result"
        }
      ],
      "source": [
        "#BasketID\n",
        "basketcounts = basketdf['BasketID'].value_counts()\n",
        "basketcounts.describe()"
      ]
    },
    {
      "cell_type": "markdown",
      "id": "1dc57cce",
      "metadata": {
        "id": "1dc57cce"
      },
      "source": [
        "The number of distinct baskets is 24627"
      ]
    },
    {
      "cell_type": "markdown",
      "id": "f03d8746",
      "metadata": {
        "id": "f03d8746"
      },
      "source": [
        "# Quantity"
      ]
    },
    {
      "cell_type": "markdown",
      "id": "6f00ed61",
      "metadata": {
        "id": "6f00ed61"
      },
      "source": [
        "counting the negative values"
      ]
    },
    {
      "cell_type": "code",
      "execution_count": null,
      "id": "9813ff76",
      "metadata": {
        "id": "9813ff76",
        "outputId": "34ba76e5-6a92-4e09-8217-b898bee2bf6e"
      },
      "outputs": [
        {
          "data": {
            "text/plain": [
              "BasketID           9752\n",
              "BasketDate         9752\n",
              "Sale               9752\n",
              "CustomerID         8905\n",
              "CustomerCountry    9752\n",
              "ProdID             9752\n",
              "ProdDescr          9305\n",
              "Qta                9752\n",
              "Amount             9752\n",
              "dtype: int64"
            ]
          },
          "execution_count": 15,
          "metadata": {},
          "output_type": "execute_result"
        }
      ],
      "source": [
        "# rows with negative qta\n",
        "qtanegqta = basketdf['Qta'] < 0\n",
        "basketdf[qtanegqta].count()"
      ]
    },
    {
      "cell_type": "markdown",
      "id": "7e3e73ce",
      "metadata": {
        "id": "7e3e73ce"
      },
      "source": [
        "# Cost"
      ]
    },
    {
      "cell_type": "markdown",
      "id": "03ec1997",
      "metadata": {
        "id": "03ec1997"
      },
      "source": [
        "Rows with zero cost"
      ]
    },
    {
      "cell_type": "code",
      "execution_count": null,
      "id": "f3bb52f5",
      "metadata": {
        "id": "f3bb52f5",
        "outputId": "e2ebf8b3-e6b1-46f3-f74e-e40212fdc0d3"
      },
      "outputs": [
        {
          "data": {
            "text/plain": [
              "BasketID           1279\n",
              "BasketDate         1279\n",
              "Sale               1279\n",
              "CustomerID           40\n",
              "CustomerCountry    1279\n",
              "ProdID             1279\n",
              "ProdDescr           526\n",
              "Qta                1279\n",
              "Amount             1279\n",
              "dtype: int64"
            ]
          },
          "execution_count": 17,
          "metadata": {},
          "output_type": "execute_result"
        }
      ],
      "source": [
        "zerocost = basketdf['Sale'] == 0\n",
        "basketdf[zerocost].count()"
      ]
    },
    {
      "cell_type": "markdown",
      "id": "680ffeee",
      "metadata": {
        "id": "680ffeee"
      },
      "source": [
        "There are 1279 rows with zero cost"
      ]
    },
    {
      "cell_type": "code",
      "execution_count": null,
      "id": "eee8668d",
      "metadata": {
        "id": "eee8668d",
        "outputId": "7734ce5a-4940-47f5-d5f7-3fb243d5153f"
      },
      "outputs": [
        {
          "data": {
            "text/plain": [
              "BasketID           10363\n",
              "BasketDate         10363\n",
              "Sale               10363\n",
              "CustomerID          8945\n",
              "CustomerCountry    10363\n",
              "ProdID             10363\n",
              "ProdDescr           9610\n",
              "Qta                10363\n",
              "Amount             10363\n",
              "dtype: int64"
            ]
          },
          "execution_count": 19,
          "metadata": {},
          "output_type": "execute_result"
        }
      ],
      "source": [
        "basketdf[qtanegqta | zerocost].count()"
      ]
    },
    {
      "cell_type": "markdown",
      "id": "73bb82b1",
      "metadata": {
        "id": "73bb82b1"
      },
      "source": [
        "These are not relevent for our project so we decided to drop them. "
      ]
    },
    {
      "cell_type": "code",
      "execution_count": null,
      "id": "78e7d235",
      "metadata": {
        "id": "78e7d235",
        "outputId": "279b07df-c953-47bb-9f58-dc256909a009"
      },
      "outputs": [
        {
          "name": "stderr",
          "output_type": "stream",
          "text": [
            "C:\\Users\\user\\AppData\\Local\\Temp\\ipykernel_13104\\722378982.py:4: UserWarning: Boolean Series key will be reindexed to match DataFrame index.\n",
            "  basketdf.drop(basketdf[zerocost].index, inplace=True)\n"
          ]
        }
      ],
      "source": [
        "# drop rows with negative quantity\n",
        "basketdf.drop(basketdf[qtanegqta].index, inplace=True)\n",
        "# drop rows with null cost\n",
        "basketdf.drop(basketdf[zerocost].index, inplace=True)"
      ]
    },
    {
      "cell_type": "code",
      "execution_count": null,
      "id": "162f93a7",
      "metadata": {
        "id": "162f93a7",
        "outputId": "66c66d74-33e6-4686-b32d-89470c313da8"
      },
      "outputs": [
        {
          "data": {
            "text/plain": [
              "(461547, 9)"
            ]
          },
          "execution_count": 22,
          "metadata": {},
          "output_type": "execute_result"
        }
      ],
      "source": [
        "basketdf.shape"
      ]
    },
    {
      "cell_type": "code",
      "execution_count": null,
      "id": "f8adf284",
      "metadata": {
        "id": "f8adf284",
        "outputId": "2b30759c-8b18-4961-9fa4-d98d5814fd66"
      },
      "outputs": [
        {
          "data": {
            "text/plain": [
              "[]"
            ]
          },
          "execution_count": 25,
          "metadata": {},
          "output_type": "execute_result"
        },
        {
          "data": {
            "image/png": "[encoded data removed]",
            "text/plain": [
              "<Figure size 432x288 with 1 Axes>"
            ]
          },
          "metadata": {
            "needs_background": "light"
          },
          "output_type": "display_data"
        }
      ],
      "source": [
        "tran = basketdf.groupby(pd.Grouper(key='BasketDate', freq='M'))['BasketID'].count()\n",
        "tran.index = tran.index.strftime('%b %Y')\n",
        "tranplt = tran.plot(kind='bar', title='Number of transactions per month', rot=45)\n",
        "\n",
        "tranplt.set_ylabel('Transactions')\n",
        "tranplt.plot()"
      ]
    },
    {
      "cell_type": "code",
      "execution_count": null,
      "id": "8f18d2e1",
      "metadata": {
        "id": "8f18d2e1"
      },
      "outputs": [],
      "source": [
        "Total numer of transations by each customer"
      ]
    },
    {
      "cell_type": "code",
      "execution_count": null,
      "id": "497d90d4",
      "metadata": {
        "id": "497d90d4",
        "outputId": "935d23b7-1613-4e2d-be26-9e07ee4f3301"
      },
      "outputs": [
        {
          "name": "stdout",
          "output_type": "stream",
          "text": [
            "count    4338.000000\n",
            "mean       91.720839\n",
            "std       228.785054\n",
            "min         1.000000\n",
            "25%        17.000000\n",
            "50%        41.000000\n",
            "75%       100.000000\n",
            "max      7847.000000\n",
            "Name: CustomerID, dtype: float64\n"
          ]
        },
        {
          "data": {
            "text/plain": [
              "Text(0, 0.5, 'Transactions')"
            ]
          },
          "execution_count": 27,
          "metadata": {},
          "output_type": "execute_result"
        },
        {
          "data": {
            "image/png": "[encoded data removed]",
            "text/plain": [
              "<Figure size 432x288 with 1 Axes>"
            ]
          },
          "metadata": {
            "needs_background": "light"
          },
          "output_type": "display_data"
        }
      ],
      "source": [
        "cust_counts = basketdf['CustomerID'].value_counts()\n",
        "print(cust_counts.describe())\n",
        "custplot = cust_counts.plot.box()\n",
        "custplot.set_ylabel(\"Transactions\")"
      ]
    },
    {
      "cell_type": "code",
      "execution_count": null,
      "id": "7f318a7f",
      "metadata": {
        "id": "7f318a7f",
        "outputId": "ac8ee112-7ba2-464f-ec70-a94b5b077b30"
      },
      "outputs": [
        {
          "data": {
            "text/plain": [
              "63662"
            ]
          },
          "execution_count": 28,
          "metadata": {},
          "output_type": "execute_result"
        }
      ],
      "source": [
        "basketdf['CustomerID'].isnull().sum()"
      ]
    },
    {
      "cell_type": "markdown",
      "id": "ce94611a",
      "metadata": {
        "id": "ce94611a"
      },
      "source": [
        "Drop transactions with null CustomerID"
      ]
    },
    {
      "cell_type": "code",
      "execution_count": null,
      "id": "0d8b7b09",
      "metadata": {
        "id": "0d8b7b09"
      },
      "outputs": [],
      "source": [
        "# drop rows with null customerID\n",
        "basketdf.dropna(subset=['CustomerID'], inplace=True)\n",
        "\n",
        "# export cleaned dataset for further analysis\n",
        "basketdf.to_csv(r'clean_basketdf.csv', index=True, header=True)"
      ]
    },
    {
      "cell_type": "markdown",
      "id": "dfa2c8f8",
      "metadata": {
        "id": "dfa2c8f8"
      },
      "source": [
        "Customer Country"
      ]
    },
    {
      "cell_type": "code",
      "execution_count": null,
      "id": "2691a945",
      "metadata": {
        "id": "2691a945",
        "outputId": "67f586b4-a77e-4439-b914-8e3b6b889417"
      },
      "outputs": [
        {
          "data": {
            "text/plain": [
              "<AxesSubplot:xlabel='CustomerCountry'>"
            ]
          },
          "execution_count": 31,
          "metadata": {},
          "output_type": "execute_result"
        },
        {
          "data": {
            "image/png": "[encoded data removed]",
            "text/plain": [
              "<Figure size 432x288 with 1 Axes>"
            ]
          },
          "metadata": {
            "needs_background": "light"
          },
          "output_type": "display_data"
        }
      ],
      "source": [
        "cc_counts = basketdf.groupby(['CustomerCountry', 'CustomerID']).size().groupby(level=0).size()\n",
        "cc_counts.plot.bar()"
      ]
    },
    {
      "cell_type": "markdown",
      "id": "9c9aaf17",
      "metadata": {
        "id": "9c9aaf17"
      },
      "source": [
        "Majority customers are from UK"
      ]
    }
  ],
  "metadata": {
    "kernelspec": {
      "display_name": "Python 3 (ipykernel)",
      "language": "python",
      "name": "python3"
    },
    "language_info": {
      "codemirror_mode": {
        "name": "ipython",
        "version": 3
      },
      "file_extension": ".py",
      "mimetype": "text/x-python",
      "name": "python",
      "nbconvert_exporter": "python",
      "pygments_lexer": "ipython3",
      "version": "3.9.12"
    },
    "colab": {
      "provenance": [],
      "include_colab_link": true
    }
  },
  "nbformat": 4,
  "nbformat_minor": 5
}